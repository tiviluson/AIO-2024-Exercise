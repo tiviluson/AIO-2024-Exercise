{
 "cells": [
  {
   "cell_type": "markdown",
   "metadata": {},
   "source": [
    "# Logistic regression (October 29th, 2024)"
   ]
  },
  {
   "cell_type": "markdown",
   "metadata": {},
   "source": [
    "## Titanic survivor prediction"
   ]
  },
  {
   "cell_type": "markdown",
   "metadata": {},
   "source": [
    "### Download the dataset"
   ]
  },
  {
   "cell_type": "code",
   "execution_count": null,
   "metadata": {},
   "outputs": [],
   "source": [
    "!gdown -cq 1SFWQ7Zi83Gff-RVrlHj0z4Llm1Nq4BBA"
   ]
  },
  {
   "cell_type": "markdown",
   "metadata": {},
   "source": [
    "### Import libraries"
   ]
  },
  {
   "cell_type": "code",
   "execution_count": null,
   "metadata": {},
   "outputs": [],
   "source": [
    "import pandas as pd\n",
    "import numpy as np\n",
    "import matplotlib.pyplot as plt\n",
    "\n",
    "from sklearn.model_selection import train_test_split\n",
    "from sklearn.preprocessing import StandardScaler"
   ]
  },
  {
   "cell_type": "markdown",
   "metadata": {},
   "source": [
    "### Read the dataset"
   ]
  },
  {
   "cell_type": "code",
   "execution_count": null,
   "metadata": {},
   "outputs": [],
   "source": [
    "dataset_path = 'titanic_modified_dataset.csv'\n",
    "df = pd.read_csv(dataset_path,\n",
    "                 index_col='PassengerId')"
   ]
  },
  {
   "cell_type": "code",
   "execution_count": null,
   "metadata": {},
   "outputs": [
    {
     "data": {
      "text/html": [
       "<div>\n",
       "<style scoped>\n",
       "    .dataframe tbody tr th:only-of-type {\n",
       "        vertical-align: middle;\n",
       "    }\n",
       "\n",
       "    .dataframe tbody tr th {\n",
       "        vertical-align: top;\n",
       "    }\n",
       "\n",
       "    .dataframe thead th {\n",
       "        text-align: right;\n",
       "    }\n",
       "</style>\n",
       "<table border=\"1\" class=\"dataframe\">\n",
       "  <thead>\n",
       "    <tr style=\"text-align: right;\">\n",
       "      <th></th>\n",
       "      <th>Pclass</th>\n",
       "      <th>Sex</th>\n",
       "      <th>Age</th>\n",
       "      <th>SibSp</th>\n",
       "      <th>Parch</th>\n",
       "      <th>Fare</th>\n",
       "      <th>Embarked</th>\n",
       "      <th>Title</th>\n",
       "      <th>Survived</th>\n",
       "    </tr>\n",
       "    <tr>\n",
       "      <th>PassengerId</th>\n",
       "      <th></th>\n",
       "      <th></th>\n",
       "      <th></th>\n",
       "      <th></th>\n",
       "      <th></th>\n",
       "      <th></th>\n",
       "      <th></th>\n",
       "      <th></th>\n",
       "      <th></th>\n",
       "    </tr>\n",
       "  </thead>\n",
       "  <tbody>\n",
       "    <tr>\n",
       "      <th>1</th>\n",
       "      <td>3</td>\n",
       "      <td>0</td>\n",
       "      <td>22.0</td>\n",
       "      <td>1</td>\n",
       "      <td>0</td>\n",
       "      <td>7.2500</td>\n",
       "      <td>0</td>\n",
       "      <td>0</td>\n",
       "      <td>0</td>\n",
       "    </tr>\n",
       "    <tr>\n",
       "      <th>2</th>\n",
       "      <td>1</td>\n",
       "      <td>1</td>\n",
       "      <td>38.0</td>\n",
       "      <td>1</td>\n",
       "      <td>0</td>\n",
       "      <td>71.2833</td>\n",
       "      <td>1</td>\n",
       "      <td>1</td>\n",
       "      <td>1</td>\n",
       "    </tr>\n",
       "    <tr>\n",
       "      <th>3</th>\n",
       "      <td>3</td>\n",
       "      <td>1</td>\n",
       "      <td>26.0</td>\n",
       "      <td>0</td>\n",
       "      <td>0</td>\n",
       "      <td>7.9250</td>\n",
       "      <td>0</td>\n",
       "      <td>2</td>\n",
       "      <td>1</td>\n",
       "    </tr>\n",
       "    <tr>\n",
       "      <th>4</th>\n",
       "      <td>1</td>\n",
       "      <td>1</td>\n",
       "      <td>35.0</td>\n",
       "      <td>1</td>\n",
       "      <td>0</td>\n",
       "      <td>53.1000</td>\n",
       "      <td>0</td>\n",
       "      <td>1</td>\n",
       "      <td>1</td>\n",
       "    </tr>\n",
       "    <tr>\n",
       "      <th>5</th>\n",
       "      <td>3</td>\n",
       "      <td>0</td>\n",
       "      <td>35.0</td>\n",
       "      <td>0</td>\n",
       "      <td>0</td>\n",
       "      <td>8.0500</td>\n",
       "      <td>0</td>\n",
       "      <td>0</td>\n",
       "      <td>0</td>\n",
       "    </tr>\n",
       "    <tr>\n",
       "      <th>...</th>\n",
       "      <td>...</td>\n",
       "      <td>...</td>\n",
       "      <td>...</td>\n",
       "      <td>...</td>\n",
       "      <td>...</td>\n",
       "      <td>...</td>\n",
       "      <td>...</td>\n",
       "      <td>...</td>\n",
       "      <td>...</td>\n",
       "    </tr>\n",
       "    <tr>\n",
       "      <th>887</th>\n",
       "      <td>2</td>\n",
       "      <td>0</td>\n",
       "      <td>27.0</td>\n",
       "      <td>0</td>\n",
       "      <td>0</td>\n",
       "      <td>13.0000</td>\n",
       "      <td>0</td>\n",
       "      <td>5</td>\n",
       "      <td>0</td>\n",
       "    </tr>\n",
       "    <tr>\n",
       "      <th>888</th>\n",
       "      <td>1</td>\n",
       "      <td>1</td>\n",
       "      <td>19.0</td>\n",
       "      <td>0</td>\n",
       "      <td>0</td>\n",
       "      <td>30.0000</td>\n",
       "      <td>0</td>\n",
       "      <td>2</td>\n",
       "      <td>1</td>\n",
       "    </tr>\n",
       "    <tr>\n",
       "      <th>889</th>\n",
       "      <td>3</td>\n",
       "      <td>1</td>\n",
       "      <td>28.0</td>\n",
       "      <td>1</td>\n",
       "      <td>2</td>\n",
       "      <td>23.4500</td>\n",
       "      <td>0</td>\n",
       "      <td>2</td>\n",
       "      <td>0</td>\n",
       "    </tr>\n",
       "    <tr>\n",
       "      <th>890</th>\n",
       "      <td>1</td>\n",
       "      <td>0</td>\n",
       "      <td>26.0</td>\n",
       "      <td>0</td>\n",
       "      <td>0</td>\n",
       "      <td>30.0000</td>\n",
       "      <td>1</td>\n",
       "      <td>0</td>\n",
       "      <td>1</td>\n",
       "    </tr>\n",
       "    <tr>\n",
       "      <th>891</th>\n",
       "      <td>3</td>\n",
       "      <td>0</td>\n",
       "      <td>32.0</td>\n",
       "      <td>0</td>\n",
       "      <td>0</td>\n",
       "      <td>7.7500</td>\n",
       "      <td>2</td>\n",
       "      <td>0</td>\n",
       "      <td>0</td>\n",
       "    </tr>\n",
       "  </tbody>\n",
       "</table>\n",
       "<p>891 rows × 9 columns</p>\n",
       "</div>"
      ],
      "text/plain": [
       "             Pclass  Sex   Age  SibSp  Parch     Fare  Embarked  Title  \\\n",
       "PassengerId                                                              \n",
       "1                 3    0  22.0      1      0   7.2500         0      0   \n",
       "2                 1    1  38.0      1      0  71.2833         1      1   \n",
       "3                 3    1  26.0      0      0   7.9250         0      2   \n",
       "4                 1    1  35.0      1      0  53.1000         0      1   \n",
       "5                 3    0  35.0      0      0   8.0500         0      0   \n",
       "...             ...  ...   ...    ...    ...      ...       ...    ...   \n",
       "887               2    0  27.0      0      0  13.0000         0      5   \n",
       "888               1    1  19.0      0      0  30.0000         0      2   \n",
       "889               3    1  28.0      1      2  23.4500         0      2   \n",
       "890               1    0  26.0      0      0  30.0000         1      0   \n",
       "891               3    0  32.0      0      0   7.7500         2      0   \n",
       "\n",
       "             Survived  \n",
       "PassengerId            \n",
       "1                   0  \n",
       "2                   1  \n",
       "3                   1  \n",
       "4                   1  \n",
       "5                   0  \n",
       "...               ...  \n",
       "887                 0  \n",
       "888                 1  \n",
       "889                 0  \n",
       "890                 1  \n",
       "891                 0  \n",
       "\n",
       "[891 rows x 9 columns]"
      ]
     },
     "execution_count": null,
     "metadata": {},
     "output_type": "execute_result"
    }
   ],
   "source": [
    "df"
   ]
  },
  {
   "cell_type": "code",
   "execution_count": null,
   "metadata": {},
   "outputs": [
    {
     "data": {
      "text/plain": [
       "Pclass      0\n",
       "Sex         0\n",
       "Age         0\n",
       "SibSp       0\n",
       "Parch       0\n",
       "Fare        0\n",
       "Embarked    0\n",
       "Title       0\n",
       "Survived    0\n",
       "dtype: int64"
      ]
     },
     "execution_count": null,
     "metadata": {},
     "output_type": "execute_result"
    }
   ],
   "source": [
    "df.isnull().sum()"
   ]
  },
  {
   "cell_type": "markdown",
   "metadata": {},
   "source": [
    "### Divide the dataset into `X`, `y` variables"
   ]
  },
  {
   "cell_type": "code",
   "execution_count": null,
   "metadata": {},
   "outputs": [],
   "source": [
    "dataset_arr = df.to_numpy().astype(np.float64)\n",
    "X, y = dataset_arr[:, :-1], dataset_arr[:, -1]"
   ]
  },
  {
   "cell_type": "code",
   "execution_count": null,
   "metadata": {},
   "outputs": [
    {
     "data": {
      "text/plain": [
       "((891, 8), (891,))"
      ]
     },
     "execution_count": null,
     "metadata": {},
     "output_type": "execute_result"
    }
   ],
   "source": [
    "X.shape, y.shape"
   ]
  },
  {
   "cell_type": "markdown",
   "metadata": {},
   "source": [
    "### Add `bias` column to `X`"
   ]
  },
  {
   "cell_type": "code",
   "execution_count": null,
   "metadata": {},
   "outputs": [],
   "source": [
    "intercept = np.ones((X.shape[0], 1))\n",
    "X_b = np.concatenate(\n",
    "    (intercept, X),\n",
    "    axis=1\n",
    ")"
   ]
  },
  {
   "cell_type": "markdown",
   "metadata": {},
   "source": [
    "### Divide `train`, `val` and `test` sets"
   ]
  },
  {
   "cell_type": "code",
   "execution_count": null,
   "metadata": {},
   "outputs": [],
   "source": [
    "val_size = 0.2\n",
    "test_size = 0.125\n",
    "random_state = 2\n",
    "is_shuffle = True\n",
    "\n",
    "X_train, X_val, y_train, y_val = train_test_split(\n",
    "    X_b, y,\n",
    "    test_size=val_size,\n",
    "    random_state=random_state,\n",
    "    shuffle=is_shuffle\n",
    ")\n",
    "\n",
    "X_train, X_test, y_train, y_test = train_test_split(\n",
    "    X_train, y_train,\n",
    "    test_size=test_size,\n",
    "    random_state=random_state,\n",
    "    shuffle=is_shuffle\n",
    ")"
   ]
  },
  {
   "cell_type": "markdown",
   "metadata": {},
   "source": [
    "### Standardize the sets"
   ]
  },
  {
   "cell_type": "code",
   "execution_count": null,
   "metadata": {},
   "outputs": [],
   "source": [
    "normalizer = StandardScaler()\n",
    "X_train[:, 1:] = normalizer.fit_transform(X_train[:, 1:])\n",
    "X_val[:, 1:] = normalizer.transform(X_val[:, 1:])\n",
    "X_test[:, 1:] = normalizer.transform(X_test[:, 1:])"
   ]
  },
  {
   "cell_type": "markdown",
   "metadata": {},
   "source": [
    "### Implement functions"
   ]
  },
  {
   "cell_type": "code",
   "execution_count": null,
   "metadata": {},
   "outputs": [],
   "source": [
    "def sigmoid(z):\n",
    "    return 1 / (1 + np.exp(-z))"
   ]
  },
  {
   "cell_type": "code",
   "execution_count": null,
   "metadata": {},
   "outputs": [],
   "source": [
    "def predict(X, theta):\n",
    "    dot_product = np.dot(X, theta)\n",
    "    y_hat = sigmoid(dot_product)\n",
    "\n",
    "    return y_hat"
   ]
  },
  {
   "cell_type": "code",
   "execution_count": null,
   "metadata": {},
   "outputs": [
    {
     "data": {
      "text/plain": [
       "array([0.92988994])"
      ]
     },
     "execution_count": null,
     "metadata": {},
     "output_type": "execute_result"
    }
   ],
   "source": [
    "predict(X=np.array([[22.3, -1.5, 1.1, 1]]),\n",
    "        theta=np.array([0.1, -0.15, 0.3, -0.2]))"
   ]
  },
  {
   "cell_type": "code",
   "execution_count": null,
   "metadata": {},
   "outputs": [],
   "source": [
    "def compute_loss(y_hat, y):\n",
    "    y_hat = np.clip(y_hat, 1e-7, 1 - 1e-7)\n",
    "\n",
    "    return (\n",
    "        -y*np.log(y_hat) - (1-y)*np.log(1-y_hat)\n",
    "    ).mean()"
   ]
  },
  {
   "cell_type": "code",
   "execution_count": null,
   "metadata": {},
   "outputs": [
    {
     "data": {
      "text/plain": [
       "0.5043515376900958"
      ]
     },
     "execution_count": null,
     "metadata": {},
     "output_type": "execute_result"
    }
   ],
   "source": [
    "compute_loss(y=np.array([1, 0, 0, 1]), y_hat=np.array([0.8, 0.75, 0.3, 0.95]))"
   ]
  },
  {
   "cell_type": "code",
   "execution_count": null,
   "metadata": {},
   "outputs": [],
   "source": [
    "def compute_gradient(X, y, y_hat):\n",
    "    return np.dot(\n",
    "        X.T, (y_hat - y)\n",
    "    ) / y.size"
   ]
  },
  {
   "cell_type": "code",
   "execution_count": null,
   "metadata": {},
   "outputs": [
    {
     "data": {
      "text/plain": [
       "array([-0.0625,  0.0625])"
      ]
     },
     "execution_count": null,
     "metadata": {},
     "output_type": "execute_result"
    }
   ],
   "source": [
    "compute_gradient(\n",
    "    X=np.array([[1, 2], [2, 1], [1, 1], [2, 2]]),\n",
    "    y=np.array([0, 1, 0, 1]),\n",
    "    y_hat=np.array([0.25, 0.75, 0.4, 0.8]))"
   ]
  },
  {
   "cell_type": "code",
   "execution_count": null,
   "metadata": {},
   "outputs": [
    {
     "data": {
      "text/plain": [
       "array([-0.2125, -0.4   ])"
      ]
     },
     "execution_count": null,
     "metadata": {},
     "output_type": "execute_result"
    }
   ],
   "source": [
    "compute_gradient(\n",
    "    X=np.array([[1, 3], [2, 1], [3, 2], [1, 2]]),\n",
    "    y=np.array([1, 0, 1, 1]),\n",
    "    y_hat=np.array([0.7, 0.4, 0.6, 0.85]))"
   ]
  },
  {
   "cell_type": "code",
   "execution_count": null,
   "metadata": {},
   "outputs": [],
   "source": [
    "def update_theta(theta, gradient, lr):\n",
    "    return theta - lr * gradient"
   ]
  },
  {
   "cell_type": "code",
   "execution_count": null,
   "metadata": {},
   "outputs": [],
   "source": [
    "def compute_accuracy(X, y, theta):\n",
    "    y_hat = predict(X, theta).round()\n",
    "    acc = (y_hat == y).mean()\n",
    "\n",
    "    return acc"
   ]
  },
  {
   "cell_type": "code",
   "execution_count": null,
   "metadata": {},
   "outputs": [
    {
     "data": {
      "text/plain": [
       "1.0"
      ]
     },
     "execution_count": null,
     "metadata": {},
     "output_type": "execute_result"
    }
   ],
   "source": [
    "# def compute_accuracy(y_true, y_pred):\n",
    "#     y_pred_rounded = np.round(y_pred)\n",
    "#     accuracy = np.mean(y_true == y_pred_rounded)\n",
    "\n",
    "#     return accuracy\n",
    "\n",
    "\n",
    "# compute_accuracy(y_true=np.array([1, 0, 1, 1]),\n",
    "#                  y_pred=np.array([0.85, 0.35, 0.9, 0.75]))"
   ]
  },
  {
   "cell_type": "markdown",
   "metadata": {},
   "source": [
    "### Define and initialize hyperparameters"
   ]
  },
  {
   "cell_type": "code",
   "execution_count": null,
   "metadata": {},
   "outputs": [],
   "source": [
    "lr = 0.01\n",
    "epochs = 100\n",
    "batch_size = 16\n",
    "\n",
    "np.random.seed(random_state)\n",
    "theta = np.random.uniform(\n",
    "    size=X_train.shape[1]\n",
    ")"
   ]
  },
  {
   "cell_type": "markdown",
   "metadata": {},
   "source": [
    "### Train the model"
   ]
  },
  {
   "cell_type": "code",
   "execution_count": null,
   "metadata": {},
   "outputs": [
    {
     "name": "stdout",
     "output_type": "stream",
     "text": [
      "\n",
      "EPOCH 1:\tTraining loss: 0.703\tValidation loss: 0.599\n",
      "\n",
      "EPOCH 2:\tTraining loss: 0.670\tValidation loss: 0.582\n",
      "\n",
      "EPOCH 3:\tTraining loss: 0.640\tValidation loss: 0.567\n",
      "\n",
      "EPOCH 4:\tTraining loss: 0.614\tValidation loss: 0.555\n",
      "\n",
      "EPOCH 5:\tTraining loss: 0.592\tValidation loss: 0.544\n",
      "\n",
      "EPOCH 6:\tTraining loss: 0.572\tValidation loss: 0.535\n",
      "\n",
      "EPOCH 7:\tTraining loss: 0.554\tValidation loss: 0.528\n",
      "\n",
      "EPOCH 8:\tTraining loss: 0.539\tValidation loss: 0.522\n",
      "\n",
      "EPOCH 9:\tTraining loss: 0.526\tValidation loss: 0.517\n",
      "\n",
      "EPOCH 10:\tTraining loss: 0.514\tValidation loss: 0.513\n",
      "\n",
      "EPOCH 11:\tTraining loss: 0.504\tValidation loss: 0.509\n",
      "\n",
      "EPOCH 12:\tTraining loss: 0.495\tValidation loss: 0.507\n",
      "\n",
      "EPOCH 13:\tTraining loss: 0.487\tValidation loss: 0.505\n",
      "\n",
      "EPOCH 14:\tTraining loss: 0.480\tValidation loss: 0.503\n",
      "\n",
      "EPOCH 15:\tTraining loss: 0.474\tValidation loss: 0.502\n",
      "\n",
      "EPOCH 16:\tTraining loss: 0.468\tValidation loss: 0.501\n",
      "\n",
      "EPOCH 17:\tTraining loss: 0.463\tValidation loss: 0.500\n",
      "\n",
      "EPOCH 18:\tTraining loss: 0.459\tValidation loss: 0.500\n",
      "\n",
      "EPOCH 19:\tTraining loss: 0.455\tValidation loss: 0.500\n",
      "\n",
      "EPOCH 20:\tTraining loss: 0.452\tValidation loss: 0.500\n",
      "\n",
      "EPOCH 21:\tTraining loss: 0.449\tValidation loss: 0.499\n",
      "\n",
      "EPOCH 22:\tTraining loss: 0.446\tValidation loss: 0.500\n",
      "\n",
      "EPOCH 23:\tTraining loss: 0.443\tValidation loss: 0.500\n",
      "\n",
      "EPOCH 24:\tTraining loss: 0.441\tValidation loss: 0.500\n",
      "\n",
      "EPOCH 25:\tTraining loss: 0.439\tValidation loss: 0.500\n",
      "\n",
      "EPOCH 26:\tTraining loss: 0.437\tValidation loss: 0.500\n",
      "\n",
      "EPOCH 27:\tTraining loss: 0.435\tValidation loss: 0.501\n",
      "\n",
      "EPOCH 28:\tTraining loss: 0.434\tValidation loss: 0.501\n",
      "\n",
      "EPOCH 29:\tTraining loss: 0.432\tValidation loss: 0.502\n",
      "\n",
      "EPOCH 30:\tTraining loss: 0.431\tValidation loss: 0.502\n",
      "\n",
      "EPOCH 31:\tTraining loss: 0.430\tValidation loss: 0.502\n",
      "\n",
      "EPOCH 32:\tTraining loss: 0.429\tValidation loss: 0.503\n",
      "\n",
      "EPOCH 33:\tTraining loss: 0.428\tValidation loss: 0.503\n",
      "\n",
      "EPOCH 34:\tTraining loss: 0.427\tValidation loss: 0.504\n",
      "\n",
      "EPOCH 35:\tTraining loss: 0.426\tValidation loss: 0.504\n",
      "\n",
      "EPOCH 36:\tTraining loss: 0.425\tValidation loss: 0.504\n",
      "\n",
      "EPOCH 37:\tTraining loss: 0.424\tValidation loss: 0.505\n",
      "\n",
      "EPOCH 38:\tTraining loss: 0.424\tValidation loss: 0.505\n",
      "\n",
      "EPOCH 39:\tTraining loss: 0.423\tValidation loss: 0.506\n",
      "\n",
      "EPOCH 40:\tTraining loss: 0.422\tValidation loss: 0.506\n",
      "\n",
      "EPOCH 41:\tTraining loss: 0.422\tValidation loss: 0.506\n",
      "\n",
      "EPOCH 42:\tTraining loss: 0.421\tValidation loss: 0.507\n",
      "\n",
      "EPOCH 43:\tTraining loss: 0.421\tValidation loss: 0.507\n",
      "\n",
      "EPOCH 44:\tTraining loss: 0.420\tValidation loss: 0.507\n",
      "\n",
      "EPOCH 45:\tTraining loss: 0.420\tValidation loss: 0.508\n",
      "\n",
      "EPOCH 46:\tTraining loss: 0.420\tValidation loss: 0.508\n",
      "\n",
      "EPOCH 47:\tTraining loss: 0.419\tValidation loss: 0.509\n",
      "\n",
      "EPOCH 48:\tTraining loss: 0.419\tValidation loss: 0.509\n",
      "\n",
      "EPOCH 49:\tTraining loss: 0.418\tValidation loss: 0.509\n",
      "\n",
      "EPOCH 50:\tTraining loss: 0.418\tValidation loss: 0.510\n",
      "\n",
      "EPOCH 51:\tTraining loss: 0.418\tValidation loss: 0.510\n",
      "\n",
      "EPOCH 52:\tTraining loss: 0.417\tValidation loss: 0.510\n",
      "\n",
      "EPOCH 53:\tTraining loss: 0.417\tValidation loss: 0.510\n",
      "\n",
      "EPOCH 54:\tTraining loss: 0.417\tValidation loss: 0.511\n",
      "\n",
      "EPOCH 55:\tTraining loss: 0.417\tValidation loss: 0.511\n",
      "\n",
      "EPOCH 56:\tTraining loss: 0.416\tValidation loss: 0.511\n",
      "\n",
      "EPOCH 57:\tTraining loss: 0.416\tValidation loss: 0.512\n",
      "\n",
      "EPOCH 58:\tTraining loss: 0.416\tValidation loss: 0.512\n",
      "\n",
      "EPOCH 59:\tTraining loss: 0.416\tValidation loss: 0.512\n",
      "\n",
      "EPOCH 60:\tTraining loss: 0.416\tValidation loss: 0.512\n",
      "\n",
      "EPOCH 61:\tTraining loss: 0.415\tValidation loss: 0.513\n",
      "\n",
      "EPOCH 62:\tTraining loss: 0.415\tValidation loss: 0.513\n",
      "\n",
      "EPOCH 63:\tTraining loss: 0.415\tValidation loss: 0.513\n",
      "\n",
      "EPOCH 64:\tTraining loss: 0.415\tValidation loss: 0.513\n",
      "\n",
      "EPOCH 65:\tTraining loss: 0.415\tValidation loss: 0.514\n",
      "\n",
      "EPOCH 66:\tTraining loss: 0.415\tValidation loss: 0.514\n",
      "\n",
      "EPOCH 67:\tTraining loss: 0.415\tValidation loss: 0.514\n",
      "\n",
      "EPOCH 68:\tTraining loss: 0.414\tValidation loss: 0.514\n",
      "\n",
      "EPOCH 69:\tTraining loss: 0.414\tValidation loss: 0.514\n",
      "\n",
      "EPOCH 70:\tTraining loss: 0.414\tValidation loss: 0.515\n",
      "\n",
      "EPOCH 71:\tTraining loss: 0.414\tValidation loss: 0.515\n",
      "\n",
      "EPOCH 72:\tTraining loss: 0.414\tValidation loss: 0.515\n",
      "\n",
      "EPOCH 73:\tTraining loss: 0.414\tValidation loss: 0.515\n",
      "\n",
      "EPOCH 74:\tTraining loss: 0.414\tValidation loss: 0.515\n",
      "\n",
      "EPOCH 75:\tTraining loss: 0.414\tValidation loss: 0.516\n",
      "\n",
      "EPOCH 76:\tTraining loss: 0.414\tValidation loss: 0.516\n",
      "\n",
      "EPOCH 77:\tTraining loss: 0.413\tValidation loss: 0.516\n",
      "\n",
      "EPOCH 78:\tTraining loss: 0.413\tValidation loss: 0.516\n",
      "\n",
      "EPOCH 79:\tTraining loss: 0.413\tValidation loss: 0.516\n",
      "\n",
      "EPOCH 80:\tTraining loss: 0.413\tValidation loss: 0.517\n",
      "\n",
      "EPOCH 81:\tTraining loss: 0.413\tValidation loss: 0.517\n",
      "\n",
      "EPOCH 82:\tTraining loss: 0.413\tValidation loss: 0.517\n",
      "\n",
      "EPOCH 83:\tTraining loss: 0.413\tValidation loss: 0.517\n",
      "\n",
      "EPOCH 84:\tTraining loss: 0.413\tValidation loss: 0.517\n",
      "\n",
      "EPOCH 85:\tTraining loss: 0.413\tValidation loss: 0.517\n",
      "\n",
      "EPOCH 86:\tTraining loss: 0.413\tValidation loss: 0.517\n",
      "\n",
      "EPOCH 87:\tTraining loss: 0.413\tValidation loss: 0.518\n",
      "\n",
      "EPOCH 88:\tTraining loss: 0.413\tValidation loss: 0.518\n",
      "\n",
      "EPOCH 89:\tTraining loss: 0.413\tValidation loss: 0.518\n",
      "\n",
      "EPOCH 90:\tTraining loss: 0.413\tValidation loss: 0.518\n",
      "\n",
      "EPOCH 91:\tTraining loss: 0.413\tValidation loss: 0.518\n",
      "\n",
      "EPOCH 92:\tTraining loss: 0.413\tValidation loss: 0.518\n",
      "\n",
      "EPOCH 93:\tTraining loss: 0.413\tValidation loss: 0.518\n",
      "\n",
      "EPOCH 94:\tTraining loss: 0.412\tValidation loss: 0.519\n",
      "\n",
      "EPOCH 95:\tTraining loss: 0.412\tValidation loss: 0.519\n",
      "\n",
      "EPOCH 96:\tTraining loss: 0.412\tValidation loss: 0.519\n",
      "\n",
      "EPOCH 97:\tTraining loss: 0.412\tValidation loss: 0.519\n",
      "\n",
      "EPOCH 98:\tTraining loss: 0.412\tValidation loss: 0.519\n",
      "\n",
      "EPOCH 99:\tTraining loss: 0.412\tValidation loss: 0.519\n",
      "\n",
      "EPOCH 100:\tTraining loss: 0.412\tValidation loss: 0.519\n"
     ]
    }
   ],
   "source": [
    "train_accs = []\n",
    "train_losses = []\n",
    "val_accs = []\n",
    "val_losses = []\n",
    "\n",
    "for epoch in range(epochs):\n",
    "    train_batch_losses = []\n",
    "    train_batch_accs = []\n",
    "    val_batch_losses = []\n",
    "    val_batch_accs = []\n",
    "\n",
    "    for i in range(0, X_train.shape[0], batch_size):\n",
    "        X_i = X_train[i:i + batch_size]\n",
    "        y_i = y_train[i:i + batch_size]\n",
    "\n",
    "        y_hat = predict(X_i, theta)\n",
    "\n",
    "        train_loss = compute_loss(y_hat, y_i)\n",
    "\n",
    "        gradient = compute_gradient(X_i, y_i, y_hat)\n",
    "\n",
    "        theta = update_theta(theta, gradient, lr)\n",
    "\n",
    "        train_batch_losses.append(train_loss)\n",
    "\n",
    "        train_acc = compute_accuracy(X_train, y_train, theta)\n",
    "        train_batch_accs.append(train_acc)\n",
    "\n",
    "        y_val_hat = predict(X_val, theta)\n",
    "        val_loss = compute_loss(y_val_hat, y_val)\n",
    "        val_batch_losses.append(val_loss)\n",
    "\n",
    "        val_acc = compute_accuracy(X_val, y_val, theta)\n",
    "        val_batch_accs.append(val_acc)\n",
    "\n",
    "    train_batch_loss = sum(train_batch_losses) / len(\n",
    "        train_batch_losses)\n",
    "    val_batch_loss = sum(val_batch_losses) / len(val_batch_losses)\n",
    "    train_batch_acc = sum(train_batch_accs) / len(train_batch_accs)\n",
    "    val_batch_acc = sum(val_batch_accs) / len(val_batch_accs)\n",
    "\n",
    "    train_losses.append(train_batch_loss)\n",
    "    val_losses.append(val_batch_loss)\n",
    "    train_accs.append(train_batch_acc)\n",
    "    val_accs.append(val_batch_acc)\n",
    "\n",
    "    print(\n",
    "        f'\\nEPOCH {epoch + 1}:\\tTraining loss: {train_batch_loss:.3f}\\tValidation loss: {val_batch_loss:.3f}')"
   ]
  },
  {
   "cell_type": "code",
   "execution_count": null,
   "metadata": {},
   "outputs": [
    {
     "data": {
      "image/png": "[encoded data removed]",
      "text/plain": [
       "<Figure size 1200x1000 with 4 Axes>"
      ]
     },
     "metadata": {},
     "output_type": "display_data"
    }
   ],
   "source": [
    "fig, ax = plt.subplots(2, 2, figsize=(12, 10))\n",
    "ax[0, 0].plot(train_losses)\n",
    "ax[0, 0].set(xlabel='Epoch', ylabel='Loss')\n",
    "ax[0, 0].set_title('Training Loss')\n",
    "\n",
    "ax[0, 1].plot(val_losses,  'orange')\n",
    "ax[0, 1].set(xlabel='Epoch', ylabel='Loss')\n",
    "ax[0, 1].set_title('Validation Loss')\n",
    "\n",
    "ax[1, 0].plot(train_accs)\n",
    "ax[1, 0].set(xlabel='Epoch', ylabel='Accuracy')\n",
    "ax[1, 0].set_title('Training Accuracy')\n",
    "\n",
    "ax[1, 1].plot(val_accs,  'orange')\n",
    "ax[1, 1].set(xlabel='Epoch', ylabel='Accuracy')\n",
    "ax[1, 1].set_title('Validation Accuracy')\n",
    "\n",
    "plt.show()"
   ]
  },
  {
   "cell_type": "markdown",
   "metadata": {},
   "source": [
    "### Evaluate the model"
   ]
  },
  {
   "cell_type": "code",
   "execution_count": null,
   "metadata": {},
   "outputs": [
    {
     "name": "stdout",
     "output_type": "stream",
     "text": [
      "Evaluation on validation and test set:\n",
      "Accuracy: 0.77\n",
      "Accuracy: 0.78\n"
     ]
    }
   ],
   "source": [
    "val_set_acc = compute_accuracy(X_val, y_val, theta)\n",
    "test_set_acc = compute_accuracy(X_test, y_test, theta)\n",
    "print('Evaluation on validation and test set:')\n",
    "print(f'Accuracy: {val_set_acc:.2f}')\n",
    "print(f'Accuracy: {test_set_acc:.2f}')"
   ]
  },
  {
   "cell_type": "markdown",
   "metadata": {},
   "source": [
    "## Twitter Sentiment Analysis"
   ]
  },
  {
   "cell_type": "markdown",
   "metadata": {},
   "source": [
    "### Download the dataset"
   ]
  },
  {
   "cell_type": "code",
   "execution_count": null,
   "metadata": {},
   "outputs": [],
   "source": [
    "!gdown -cq 1dANzxlEjeCEbveFOWWqzSG-niVx-vCgK"
   ]
  },
  {
   "cell_type": "markdown",
   "metadata": {},
   "source": [
    "### Import libraries"
   ]
  },
  {
   "cell_type": "code",
   "execution_count": null,
   "metadata": {},
   "outputs": [],
   "source": [
    "import pandas as pd\n",
    "import numpy as np\n",
    "import re\n",
    "import nltk\n",
    "import matplotlib. pyplot as plt\n",
    "\n",
    "from sklearn. model_selection import train_test_split\n",
    "from sklearn. preprocessing import StandardScaler\n",
    "from nltk. tokenize import TweetTokenizer\n",
    "from collections import defaultdict"
   ]
  },
  {
   "cell_type": "markdown",
   "metadata": {},
   "source": [
    "### Read the dataset"
   ]
  },
  {
   "cell_type": "code",
   "execution_count": null,
   "metadata": {},
   "outputs": [],
   "source": [
    "dataset_path = 'sentiment_analysis.csv'\n",
    "df = pd. read_csv(\n",
    "    dataset_path,\n",
    "    index_col='id'\n",
    ")"
   ]
  },
  {
   "cell_type": "code",
   "execution_count": null,
   "metadata": {},
   "outputs": [
    {
     "data": {
      "text/html": [
       "<div>\n",
       "<style scoped>\n",
       "    .dataframe tbody tr th:only-of-type {\n",
       "        vertical-align: middle;\n",
       "    }\n",
       "\n",
       "    .dataframe tbody tr th {\n",
       "        vertical-align: top;\n",
       "    }\n",
       "\n",
       "    .dataframe thead th {\n",
       "        text-align: right;\n",
       "    }\n",
       "</style>\n",
       "<table border=\"1\" class=\"dataframe\">\n",
       "  <thead>\n",
       "    <tr style=\"text-align: right;\">\n",
       "      <th></th>\n",
       "      <th>label</th>\n",
       "      <th>tweet</th>\n",
       "    </tr>\n",
       "    <tr>\n",
       "      <th>id</th>\n",
       "      <th></th>\n",
       "      <th></th>\n",
       "    </tr>\n",
       "  </thead>\n",
       "  <tbody>\n",
       "    <tr>\n",
       "      <th>1</th>\n",
       "      <td>0</td>\n",
       "      <td>#fingerprint #Pregnancy Test https://goo.gl/h1...</td>\n",
       "    </tr>\n",
       "    <tr>\n",
       "      <th>2</th>\n",
       "      <td>0</td>\n",
       "      <td>Finally a transparant silicon case ^^ Thanks t...</td>\n",
       "    </tr>\n",
       "    <tr>\n",
       "      <th>3</th>\n",
       "      <td>0</td>\n",
       "      <td>We love this! Would you go? #talk #makememorie...</td>\n",
       "    </tr>\n",
       "    <tr>\n",
       "      <th>4</th>\n",
       "      <td>0</td>\n",
       "      <td>I'm wired I know I'm George I was made that wa...</td>\n",
       "    </tr>\n",
       "    <tr>\n",
       "      <th>5</th>\n",
       "      <td>1</td>\n",
       "      <td>What amazing service! Apple won't even talk to...</td>\n",
       "    </tr>\n",
       "    <tr>\n",
       "      <th>...</th>\n",
       "      <td>...</td>\n",
       "      <td>...</td>\n",
       "    </tr>\n",
       "    <tr>\n",
       "      <th>7916</th>\n",
       "      <td>0</td>\n",
       "      <td>Live out loud #lol #liveoutloud #selfie #smile...</td>\n",
       "    </tr>\n",
       "    <tr>\n",
       "      <th>7917</th>\n",
       "      <td>0</td>\n",
       "      <td>We would like to wish you an amazing day! Make...</td>\n",
       "    </tr>\n",
       "    <tr>\n",
       "      <th>7918</th>\n",
       "      <td>0</td>\n",
       "      <td>Helping my lovely 90 year old neighbor with he...</td>\n",
       "    </tr>\n",
       "    <tr>\n",
       "      <th>7919</th>\n",
       "      <td>0</td>\n",
       "      <td>Finally got my #smart #pocket #wifi stay conne...</td>\n",
       "    </tr>\n",
       "    <tr>\n",
       "      <th>7920</th>\n",
       "      <td>0</td>\n",
       "      <td>Apple Barcelona!!! #Apple #Store #BCN #Barcelo...</td>\n",
       "    </tr>\n",
       "  </tbody>\n",
       "</table>\n",
       "<p>7920 rows × 2 columns</p>\n",
       "</div>"
      ],
      "text/plain": [
       "      label                                              tweet\n",
       "id                                                            \n",
       "1         0  #fingerprint #Pregnancy Test https://goo.gl/h1...\n",
       "2         0  Finally a transparant silicon case ^^ Thanks t...\n",
       "3         0  We love this! Would you go? #talk #makememorie...\n",
       "4         0  I'm wired I know I'm George I was made that wa...\n",
       "5         1  What amazing service! Apple won't even talk to...\n",
       "...     ...                                                ...\n",
       "7916      0  Live out loud #lol #liveoutloud #selfie #smile...\n",
       "7917      0  We would like to wish you an amazing day! Make...\n",
       "7918      0  Helping my lovely 90 year old neighbor with he...\n",
       "7919      0  Finally got my #smart #pocket #wifi stay conne...\n",
       "7920      0  Apple Barcelona!!! #Apple #Store #BCN #Barcelo...\n",
       "\n",
       "[7920 rows x 2 columns]"
      ]
     },
     "execution_count": null,
     "metadata": {},
     "output_type": "execute_result"
    }
   ],
   "source": [
    "df"
   ]
  },
  {
   "cell_type": "markdown",
   "metadata": {},
   "source": [
    "### Preprocess the dataset"
   ]
  },
  {
   "cell_type": "code",
   "execution_count": null,
   "metadata": {},
   "outputs": [],
   "source": [
    "def text_normalize(text):\n",
    "    # Retweet old acronym \"RT\" removal\n",
    "    text = re.sub(r'^RT[\\s]+', '', text)\n",
    "\n",
    "    # Hyperlinks removal\n",
    "    text = re.sub(r'https ?:\\/\\/.*[\\r\\n]*', '', text)\n",
    "\n",
    "    # Hashtags removal\n",
    "    text = re.sub(r'#', '', text)\n",
    "\n",
    "    # Punctuation removal\n",
    "    text = re.sub(r'[^\\w\\s]', '', text)\n",
    "\n",
    "    # Tokenization\n",
    "    tokenizer = TweetTokenizer(\n",
    "        preserve_case=False,\n",
    "        strip_handles=True,\n",
    "        reduce_len=True\n",
    "    )\n",
    "    text_tokens = tokenizer.tokenize(text)\n",
    "\n",
    "    return text_tokens"
   ]
  },
  {
   "cell_type": "code",
   "execution_count": null,
   "metadata": {},
   "outputs": [],
   "source": [
    "def get_freqs(df):\n",
    "    freqs = defaultdict(lambda: 0)\n",
    "    for idx, row in df. iterrows():\n",
    "        tweet = row['tweet']\n",
    "        label = row['label']\n",
    "\n",
    "        tokens = text_normalize(tweet)\n",
    "        for token in tokens:\n",
    "            pair = (token, label)\n",
    "            freqs[pair] += 1\n",
    "\n",
    "    return freqs"
   ]
  },
  {
   "cell_type": "code",
   "execution_count": null,
   "metadata": {},
   "outputs": [],
   "source": [
    "def get_feature(text, freqs):\n",
    "    tokens = text_normalize(text)\n",
    "\n",
    "    X = np.zeros(3)\n",
    "    X[0] = 1\n",
    "\n",
    "    for token in tokens:\n",
    "        X[1] += freqs[(token, 0)]\n",
    "        X[2] += freqs[(token, 1)]\n",
    "\n",
    "    return X"
   ]
  },
  {
   "cell_type": "code",
   "execution_count": null,
   "metadata": {},
   "outputs": [],
   "source": [
    "X = []\n",
    "y = []\n",
    "\n",
    "freqs = get_freqs(df)\n",
    "for idx, row in df.iterrows():\n",
    "    tweet = row['tweet']\n",
    "    label = row['label']\n",
    "\n",
    "    X_i = get_feature(tweet, freqs)\n",
    "    X.append(X_i)\n",
    "    y.append(label)\n",
    "\n",
    "X = np.array(X)\n",
    "y = np.array(y)"
   ]
  },
  {
   "cell_type": "code",
   "execution_count": null,
   "metadata": {},
   "outputs": [
    {
     "data": {
      "text/plain": [
       "array([[1.000e+00, 1.400e+01, 2.000e+00],\n",
       "       [1.000e+00, 4.294e+03, 2.794e+03],\n",
       "       [1.000e+00, 5.425e+03, 1.440e+03],\n",
       "       [1.000e+00, 6.679e+03, 3.169e+03],\n",
       "       [1.000e+00, 7.365e+03, 6.269e+03]])"
      ]
     },
     "execution_count": null,
     "metadata": {},
     "output_type": "execute_result"
    }
   ],
   "source": [
    "X[:5]"
   ]
  },
  {
   "cell_type": "code",
   "execution_count": null,
   "metadata": {},
   "outputs": [
    {
     "data": {
      "text/plain": [
       "((7920, 3), (7920,))"
      ]
     },
     "execution_count": null,
     "metadata": {},
     "output_type": "execute_result"
    }
   ],
   "source": [
    "X.shape, y.shape"
   ]
  },
  {
   "cell_type": "markdown",
   "metadata": {},
   "source": [
    "### Split `train`, `val` and `test` sets"
   ]
  },
  {
   "cell_type": "code",
   "execution_count": null,
   "metadata": {},
   "outputs": [],
   "source": [
    "val_size = 0.2\n",
    "test_size = 0.125\n",
    "random_state = 2\n",
    "is_shuffle = True\n",
    "\n",
    "X_train, X_val, y_train, y_val = train_test_split(\n",
    "    X, y,\n",
    "    test_size=val_size,\n",
    "    random_state=random_state,\n",
    "    shuffle=is_shuffle\n",
    ")\n",
    "\n",
    "X_train, X_test, y_train, y_test = train_test_split(\n",
    "    X_train, y_train,\n",
    "    test_size=test_size,\n",
    "    random_state=random_state,\n",
    "    shuffle=is_shuffle\n",
    ")"
   ]
  },
  {
   "cell_type": "markdown",
   "metadata": {},
   "source": [
    "### Standardize the sets"
   ]
  },
  {
   "cell_type": "code",
   "execution_count": null,
   "metadata": {},
   "outputs": [],
   "source": [
    "normalizer = StandardScaler()\n",
    "X_train[:, 1:] = normalizer.fit_transform(X_train[:, 1:])\n",
    "X_val[:, 1:] = normalizer.transform(X_val[:, 1:])\n",
    "X_test[:, 1:] = normalizer.transform(X_test[:, 1:])"
   ]
  },
  {
   "cell_type": "markdown",
   "metadata": {},
   "source": [
    "### Implemnent functions"
   ]
  },
  {
   "cell_type": "code",
   "execution_count": null,
   "metadata": {},
   "outputs": [],
   "source": [
    "def sigmoid(z):\n",
    "    return 1 / (1 + np.exp(-z))\n",
    "\n",
    "def compute_loss(y_hat, y):\n",
    "    y_hat = np.clip(\n",
    "        y_hat, 1e-7, 1 - 1e-7\n",
    "    )\n",
    "\n",
    "    return(-y * np.log(y_hat) - (1 - y) * np.log(1 - y_hat)).mean()\n",
    "\n",
    "def predict(X, theta):\n",
    "    dot_product = np.dot(X, theta)\n",
    "    y_hat = sigmoid(dot_product)\n",
    "\n",
    "    return y_hat\n",
    "\n",
    "def compute_gradient(X, y, y_hat):\n",
    "    return np.dot(\n",
    "        X.T, (y_hat - y)\n",
    "    ) / y.size\n",
    "\n",
    "def update_theta(theta, gradient, lr):\n",
    "    return theta - lr * gradient\n",
    "\n",
    "def compute_accuracy(X, y, theta):\n",
    "    y_hat = predict(X, theta).round()\n",
    "    acc = (y_hat==y).mean()\n",
    "\n",
    "    return acc"
   ]
  },
  {
   "cell_type": "markdown",
   "metadata": {},
   "source": [
    "### Initialize hyperparameters"
   ]
  },
  {
   "cell_type": "code",
   "execution_count": null,
   "metadata": {},
   "outputs": [],
   "source": [
    "lr = 0.01\n",
    "epochs = 200\n",
    "batch_size = 128\n",
    "\n",
    "np.random.seed(random_state)\n",
    "theta = np.random.uniform(\n",
    "    size=X_train.shape[1]\n",
    ")"
   ]
  },
  {
   "cell_type": "markdown",
   "metadata": {},
   "source": [
    "### Train the model"
   ]
  },
  {
   "cell_type": "code",
   "execution_count": null,
   "metadata": {},
   "outputs": [
    {
     "name": "stdout",
     "output_type": "stream",
     "text": [
      "\n",
      "EPOCH 1:\tTraining loss: 0.710\tValidation loss: 0.705\n",
      "\n",
      "EPOCH 2:\tTraining loss: 0.664\tValidation loss: 0.659\n",
      "\n",
      "EPOCH 3:\tTraining loss: 0.626\tValidation loss: 0.622\n",
      "\n",
      "EPOCH 4:\tTraining loss: 0.595\tValidation loss: 0.591\n",
      "\n",
      "EPOCH 5:\tTraining loss: 0.570\tValidation loss: 0.566\n",
      "\n",
      "EPOCH 6:\tTraining loss: 0.548\tValidation loss: 0.545\n",
      "\n",
      "EPOCH 7:\tTraining loss: 0.531\tValidation loss: 0.527\n",
      "\n",
      "EPOCH 8:\tTraining loss: 0.516\tValidation loss: 0.512\n",
      "\n",
      "EPOCH 9:\tTraining loss: 0.503\tValidation loss: 0.500\n",
      "\n",
      "EPOCH 10:\tTraining loss: 0.492\tValidation loss: 0.489\n",
      "\n",
      "EPOCH 11:\tTraining loss: 0.483\tValidation loss: 0.480\n",
      "\n",
      "EPOCH 12:\tTraining loss: 0.475\tValidation loss: 0.472\n",
      "\n",
      "EPOCH 13:\tTraining loss: 0.468\tValidation loss: 0.465\n",
      "\n",
      "EPOCH 14:\tTraining loss: 0.462\tValidation loss: 0.459\n",
      "\n",
      "EPOCH 15:\tTraining loss: 0.457\tValidation loss: 0.454\n",
      "\n",
      "EPOCH 16:\tTraining loss: 0.452\tValidation loss: 0.449\n",
      "\n",
      "EPOCH 17:\tTraining loss: 0.448\tValidation loss: 0.445\n",
      "\n",
      "EPOCH 18:\tTraining loss: 0.444\tValidation loss: 0.441\n",
      "\n",
      "EPOCH 19:\tTraining loss: 0.441\tValidation loss: 0.438\n",
      "\n",
      "EPOCH 20:\tTraining loss: 0.438\tValidation loss: 0.435\n",
      "\n",
      "EPOCH 21:\tTraining loss: 0.435\tValidation loss: 0.432\n",
      "\n",
      "EPOCH 22:\tTraining loss: 0.432\tValidation loss: 0.429\n",
      "\n",
      "EPOCH 23:\tTraining loss: 0.430\tValidation loss: 0.427\n",
      "\n",
      "EPOCH 24:\tTraining loss: 0.428\tValidation loss: 0.425\n",
      "\n",
      "EPOCH 25:\tTraining loss: 0.426\tValidation loss: 0.423\n",
      "\n",
      "EPOCH 26:\tTraining loss: 0.424\tValidation loss: 0.421\n",
      "\n",
      "EPOCH 27:\tTraining loss: 0.422\tValidation loss: 0.419\n",
      "\n",
      "EPOCH 28:\tTraining loss: 0.421\tValidation loss: 0.417\n",
      "\n",
      "EPOCH 29:\tTraining loss: 0.419\tValidation loss: 0.416\n",
      "\n",
      "EPOCH 30:\tTraining loss: 0.418\tValidation loss: 0.414\n",
      "\n",
      "EPOCH 31:\tTraining loss: 0.416\tValidation loss: 0.413\n",
      "\n",
      "EPOCH 32:\tTraining loss: 0.415\tValidation loss: 0.412\n",
      "\n",
      "EPOCH 33:\tTraining loss: 0.414\tValidation loss: 0.410\n",
      "\n",
      "EPOCH 34:\tTraining loss: 0.413\tValidation loss: 0.409\n",
      "\n",
      "EPOCH 35:\tTraining loss: 0.411\tValidation loss: 0.408\n",
      "\n",
      "EPOCH 36:\tTraining loss: 0.410\tValidation loss: 0.407\n",
      "\n",
      "EPOCH 37:\tTraining loss: 0.409\tValidation loss: 0.406\n",
      "\n",
      "EPOCH 38:\tTraining loss: 0.408\tValidation loss: 0.405\n",
      "\n",
      "EPOCH 39:\tTraining loss: 0.407\tValidation loss: 0.404\n",
      "\n",
      "EPOCH 40:\tTraining loss: 0.407\tValidation loss: 0.403\n",
      "\n",
      "EPOCH 41:\tTraining loss: 0.406\tValidation loss: 0.402\n",
      "\n",
      "EPOCH 42:\tTraining loss: 0.405\tValidation loss: 0.401\n",
      "\n",
      "EPOCH 43:\tTraining loss: 0.404\tValidation loss: 0.401\n",
      "\n",
      "EPOCH 44:\tTraining loss: 0.403\tValidation loss: 0.400\n",
      "\n",
      "EPOCH 45:\tTraining loss: 0.403\tValidation loss: 0.399\n",
      "\n",
      "EPOCH 46:\tTraining loss: 0.402\tValidation loss: 0.398\n",
      "\n",
      "EPOCH 47:\tTraining loss: 0.401\tValidation loss: 0.398\n",
      "\n",
      "EPOCH 48:\tTraining loss: 0.400\tValidation loss: 0.397\n",
      "\n",
      "EPOCH 49:\tTraining loss: 0.400\tValidation loss: 0.396\n",
      "\n",
      "EPOCH 50:\tTraining loss: 0.399\tValidation loss: 0.396\n",
      "\n",
      "EPOCH 51:\tTraining loss: 0.399\tValidation loss: 0.395\n",
      "\n",
      "EPOCH 52:\tTraining loss: 0.398\tValidation loss: 0.395\n",
      "\n",
      "EPOCH 53:\tTraining loss: 0.397\tValidation loss: 0.394\n",
      "\n",
      "EPOCH 54:\tTraining loss: 0.397\tValidation loss: 0.393\n",
      "\n",
      "EPOCH 55:\tTraining loss: 0.396\tValidation loss: 0.393\n",
      "\n",
      "EPOCH 56:\tTraining loss: 0.396\tValidation loss: 0.392\n",
      "\n",
      "EPOCH 57:\tTraining loss: 0.395\tValidation loss: 0.392\n",
      "\n",
      "EPOCH 58:\tTraining loss: 0.395\tValidation loss: 0.391\n",
      "\n",
      "EPOCH 59:\tTraining loss: 0.394\tValidation loss: 0.391\n",
      "\n",
      "EPOCH 60:\tTraining loss: 0.394\tValidation loss: 0.391\n",
      "\n",
      "EPOCH 61:\tTraining loss: 0.394\tValidation loss: 0.390\n",
      "\n",
      "EPOCH 62:\tTraining loss: 0.393\tValidation loss: 0.390\n",
      "\n",
      "EPOCH 63:\tTraining loss: 0.393\tValidation loss: 0.389\n",
      "\n",
      "EPOCH 64:\tTraining loss: 0.392\tValidation loss: 0.389\n",
      "\n",
      "EPOCH 65:\tTraining loss: 0.392\tValidation loss: 0.388\n",
      "\n",
      "EPOCH 66:\tTraining loss: 0.391\tValidation loss: 0.388\n",
      "\n",
      "EPOCH 67:\tTraining loss: 0.391\tValidation loss: 0.388\n",
      "\n",
      "EPOCH 68:\tTraining loss: 0.391\tValidation loss: 0.387\n",
      "\n",
      "EPOCH 69:\tTraining loss: 0.390\tValidation loss: 0.387\n",
      "\n",
      "EPOCH 70:\tTraining loss: 0.390\tValidation loss: 0.387\n",
      "\n",
      "EPOCH 71:\tTraining loss: 0.390\tValidation loss: 0.386\n",
      "\n",
      "EPOCH 72:\tTraining loss: 0.389\tValidation loss: 0.386\n",
      "\n",
      "EPOCH 73:\tTraining loss: 0.389\tValidation loss: 0.386\n",
      "\n",
      "EPOCH 74:\tTraining loss: 0.389\tValidation loss: 0.385\n",
      "\n",
      "EPOCH 75:\tTraining loss: 0.388\tValidation loss: 0.385\n",
      "\n",
      "EPOCH 76:\tTraining loss: 0.388\tValidation loss: 0.385\n",
      "\n",
      "EPOCH 77:\tTraining loss: 0.388\tValidation loss: 0.384\n",
      "\n",
      "EPOCH 78:\tTraining loss: 0.388\tValidation loss: 0.384\n",
      "\n",
      "EPOCH 79:\tTraining loss: 0.387\tValidation loss: 0.384\n",
      "\n",
      "EPOCH 80:\tTraining loss: 0.387\tValidation loss: 0.384\n",
      "\n",
      "EPOCH 81:\tTraining loss: 0.387\tValidation loss: 0.383\n",
      "\n",
      "EPOCH 82:\tTraining loss: 0.387\tValidation loss: 0.383\n",
      "\n",
      "EPOCH 83:\tTraining loss: 0.386\tValidation loss: 0.383\n",
      "\n",
      "EPOCH 84:\tTraining loss: 0.386\tValidation loss: 0.383\n",
      "\n",
      "EPOCH 85:\tTraining loss: 0.386\tValidation loss: 0.382\n",
      "\n",
      "EPOCH 86:\tTraining loss: 0.386\tValidation loss: 0.382\n",
      "\n",
      "EPOCH 87:\tTraining loss: 0.385\tValidation loss: 0.382\n",
      "\n",
      "EPOCH 88:\tTraining loss: 0.385\tValidation loss: 0.382\n",
      "\n",
      "EPOCH 89:\tTraining loss: 0.385\tValidation loss: 0.381\n",
      "\n",
      "EPOCH 90:\tTraining loss: 0.385\tValidation loss: 0.381\n",
      "\n",
      "EPOCH 91:\tTraining loss: 0.385\tValidation loss: 0.381\n",
      "\n",
      "EPOCH 92:\tTraining loss: 0.384\tValidation loss: 0.381\n",
      "\n",
      "EPOCH 93:\tTraining loss: 0.384\tValidation loss: 0.381\n",
      "\n",
      "EPOCH 94:\tTraining loss: 0.384\tValidation loss: 0.380\n",
      "\n",
      "EPOCH 95:\tTraining loss: 0.384\tValidation loss: 0.380\n",
      "\n",
      "EPOCH 96:\tTraining loss: 0.384\tValidation loss: 0.380\n",
      "\n",
      "EPOCH 97:\tTraining loss: 0.383\tValidation loss: 0.380\n",
      "\n",
      "EPOCH 98:\tTraining loss: 0.383\tValidation loss: 0.380\n",
      "\n",
      "EPOCH 99:\tTraining loss: 0.383\tValidation loss: 0.380\n",
      "\n",
      "EPOCH 100:\tTraining loss: 0.383\tValidation loss: 0.379\n",
      "\n",
      "EPOCH 101:\tTraining loss: 0.383\tValidation loss: 0.379\n",
      "\n",
      "EPOCH 102:\tTraining loss: 0.383\tValidation loss: 0.379\n",
      "\n",
      "EPOCH 103:\tTraining loss: 0.382\tValidation loss: 0.379\n",
      "\n",
      "EPOCH 104:\tTraining loss: 0.382\tValidation loss: 0.379\n",
      "\n",
      "EPOCH 105:\tTraining loss: 0.382\tValidation loss: 0.379\n",
      "\n",
      "EPOCH 106:\tTraining loss: 0.382\tValidation loss: 0.378\n",
      "\n",
      "EPOCH 107:\tTraining loss: 0.382\tValidation loss: 0.378\n",
      "\n",
      "EPOCH 108:\tTraining loss: 0.382\tValidation loss: 0.378\n",
      "\n",
      "EPOCH 109:\tTraining loss: 0.382\tValidation loss: 0.378\n",
      "\n",
      "EPOCH 110:\tTraining loss: 0.381\tValidation loss: 0.378\n",
      "\n",
      "EPOCH 111:\tTraining loss: 0.381\tValidation loss: 0.378\n",
      "\n",
      "EPOCH 112:\tTraining loss: 0.381\tValidation loss: 0.378\n",
      "\n",
      "EPOCH 113:\tTraining loss: 0.381\tValidation loss: 0.377\n",
      "\n",
      "EPOCH 114:\tTraining loss: 0.381\tValidation loss: 0.377\n",
      "\n",
      "EPOCH 115:\tTraining loss: 0.381\tValidation loss: 0.377\n",
      "\n",
      "EPOCH 116:\tTraining loss: 0.381\tValidation loss: 0.377\n",
      "\n",
      "EPOCH 117:\tTraining loss: 0.381\tValidation loss: 0.377\n",
      "\n",
      "EPOCH 118:\tTraining loss: 0.380\tValidation loss: 0.377\n",
      "\n",
      "EPOCH 119:\tTraining loss: 0.380\tValidation loss: 0.377\n",
      "\n",
      "EPOCH 120:\tTraining loss: 0.380\tValidation loss: 0.377\n",
      "\n",
      "EPOCH 121:\tTraining loss: 0.380\tValidation loss: 0.377\n",
      "\n",
      "EPOCH 122:\tTraining loss: 0.380\tValidation loss: 0.376\n",
      "\n",
      "EPOCH 123:\tTraining loss: 0.380\tValidation loss: 0.376\n",
      "\n",
      "EPOCH 124:\tTraining loss: 0.380\tValidation loss: 0.376\n",
      "\n",
      "EPOCH 125:\tTraining loss: 0.380\tValidation loss: 0.376\n",
      "\n",
      "EPOCH 126:\tTraining loss: 0.380\tValidation loss: 0.376\n",
      "\n",
      "EPOCH 127:\tTraining loss: 0.380\tValidation loss: 0.376\n",
      "\n",
      "EPOCH 128:\tTraining loss: 0.380\tValidation loss: 0.376\n",
      "\n",
      "EPOCH 129:\tTraining loss: 0.379\tValidation loss: 0.376\n",
      "\n",
      "EPOCH 130:\tTraining loss: 0.379\tValidation loss: 0.376\n",
      "\n",
      "EPOCH 131:\tTraining loss: 0.379\tValidation loss: 0.376\n",
      "\n",
      "EPOCH 132:\tTraining loss: 0.379\tValidation loss: 0.375\n",
      "\n",
      "EPOCH 133:\tTraining loss: 0.379\tValidation loss: 0.375\n",
      "\n",
      "EPOCH 134:\tTraining loss: 0.379\tValidation loss: 0.375\n",
      "\n",
      "EPOCH 135:\tTraining loss: 0.379\tValidation loss: 0.375\n",
      "\n",
      "EPOCH 136:\tTraining loss: 0.379\tValidation loss: 0.375\n",
      "\n",
      "EPOCH 137:\tTraining loss: 0.379\tValidation loss: 0.375\n",
      "\n",
      "EPOCH 138:\tTraining loss: 0.379\tValidation loss: 0.375\n",
      "\n",
      "EPOCH 139:\tTraining loss: 0.379\tValidation loss: 0.375\n",
      "\n",
      "EPOCH 140:\tTraining loss: 0.379\tValidation loss: 0.375\n",
      "\n",
      "EPOCH 141:\tTraining loss: 0.378\tValidation loss: 0.375\n",
      "\n",
      "EPOCH 142:\tTraining loss: 0.378\tValidation loss: 0.375\n",
      "\n",
      "EPOCH 143:\tTraining loss: 0.378\tValidation loss: 0.375\n",
      "\n",
      "EPOCH 144:\tTraining loss: 0.378\tValidation loss: 0.374\n",
      "\n",
      "EPOCH 145:\tTraining loss: 0.378\tValidation loss: 0.374\n",
      "\n",
      "EPOCH 146:\tTraining loss: 0.378\tValidation loss: 0.374\n",
      "\n",
      "EPOCH 147:\tTraining loss: 0.378\tValidation loss: 0.374\n",
      "\n",
      "EPOCH 148:\tTraining loss: 0.378\tValidation loss: 0.374\n",
      "\n",
      "EPOCH 149:\tTraining loss: 0.378\tValidation loss: 0.374\n",
      "\n",
      "EPOCH 150:\tTraining loss: 0.378\tValidation loss: 0.374\n",
      "\n",
      "EPOCH 151:\tTraining loss: 0.378\tValidation loss: 0.374\n",
      "\n",
      "EPOCH 152:\tTraining loss: 0.378\tValidation loss: 0.374\n",
      "\n",
      "EPOCH 153:\tTraining loss: 0.378\tValidation loss: 0.374\n",
      "\n",
      "EPOCH 154:\tTraining loss: 0.378\tValidation loss: 0.374\n",
      "\n",
      "EPOCH 155:\tTraining loss: 0.378\tValidation loss: 0.374\n",
      "\n",
      "EPOCH 156:\tTraining loss: 0.378\tValidation loss: 0.374\n",
      "\n",
      "EPOCH 157:\tTraining loss: 0.378\tValidation loss: 0.374\n",
      "\n",
      "EPOCH 158:\tTraining loss: 0.377\tValidation loss: 0.374\n",
      "\n",
      "EPOCH 159:\tTraining loss: 0.377\tValidation loss: 0.374\n",
      "\n",
      "EPOCH 160:\tTraining loss: 0.377\tValidation loss: 0.374\n",
      "\n",
      "EPOCH 161:\tTraining loss: 0.377\tValidation loss: 0.373\n",
      "\n",
      "EPOCH 162:\tTraining loss: 0.377\tValidation loss: 0.373\n",
      "\n",
      "EPOCH 163:\tTraining loss: 0.377\tValidation loss: 0.373\n",
      "\n",
      "EPOCH 164:\tTraining loss: 0.377\tValidation loss: 0.373\n",
      "\n",
      "EPOCH 165:\tTraining loss: 0.377\tValidation loss: 0.373\n",
      "\n",
      "EPOCH 166:\tTraining loss: 0.377\tValidation loss: 0.373\n",
      "\n",
      "EPOCH 167:\tTraining loss: 0.377\tValidation loss: 0.373\n",
      "\n",
      "EPOCH 168:\tTraining loss: 0.377\tValidation loss: 0.373\n",
      "\n",
      "EPOCH 169:\tTraining loss: 0.377\tValidation loss: 0.373\n",
      "\n",
      "EPOCH 170:\tTraining loss: 0.377\tValidation loss: 0.373\n",
      "\n",
      "EPOCH 171:\tTraining loss: 0.377\tValidation loss: 0.373\n",
      "\n",
      "EPOCH 172:\tTraining loss: 0.377\tValidation loss: 0.373\n",
      "\n",
      "EPOCH 173:\tTraining loss: 0.377\tValidation loss: 0.373\n",
      "\n",
      "EPOCH 174:\tTraining loss: 0.377\tValidation loss: 0.373\n",
      "\n",
      "EPOCH 175:\tTraining loss: 0.377\tValidation loss: 0.373\n",
      "\n",
      "EPOCH 176:\tTraining loss: 0.377\tValidation loss: 0.373\n",
      "\n",
      "EPOCH 177:\tTraining loss: 0.377\tValidation loss: 0.373\n",
      "\n",
      "EPOCH 178:\tTraining loss: 0.377\tValidation loss: 0.373\n",
      "\n",
      "EPOCH 179:\tTraining loss: 0.377\tValidation loss: 0.373\n",
      "\n",
      "EPOCH 180:\tTraining loss: 0.377\tValidation loss: 0.373\n",
      "\n",
      "EPOCH 181:\tTraining loss: 0.377\tValidation loss: 0.373\n",
      "\n",
      "EPOCH 182:\tTraining loss: 0.377\tValidation loss: 0.373\n",
      "\n",
      "EPOCH 183:\tTraining loss: 0.376\tValidation loss: 0.373\n",
      "\n",
      "EPOCH 184:\tTraining loss: 0.376\tValidation loss: 0.372\n",
      "\n",
      "EPOCH 185:\tTraining loss: 0.376\tValidation loss: 0.372\n",
      "\n",
      "EPOCH 186:\tTraining loss: 0.376\tValidation loss: 0.372\n",
      "\n",
      "EPOCH 187:\tTraining loss: 0.376\tValidation loss: 0.372\n",
      "\n",
      "EPOCH 188:\tTraining loss: 0.376\tValidation loss: 0.372\n",
      "\n",
      "EPOCH 189:\tTraining loss: 0.376\tValidation loss: 0.372\n",
      "\n",
      "EPOCH 190:\tTraining loss: 0.376\tValidation loss: 0.372\n",
      "\n",
      "EPOCH 191:\tTraining loss: 0.376\tValidation loss: 0.372\n",
      "\n",
      "EPOCH 192:\tTraining loss: 0.376\tValidation loss: 0.372\n",
      "\n",
      "EPOCH 193:\tTraining loss: 0.376\tValidation loss: 0.372\n",
      "\n",
      "EPOCH 194:\tTraining loss: 0.376\tValidation loss: 0.372\n",
      "\n",
      "EPOCH 195:\tTraining loss: 0.376\tValidation loss: 0.372\n",
      "\n",
      "EPOCH 196:\tTraining loss: 0.376\tValidation loss: 0.372\n",
      "\n",
      "EPOCH 197:\tTraining loss: 0.376\tValidation loss: 0.372\n",
      "\n",
      "EPOCH 198:\tTraining loss: 0.376\tValidation loss: 0.372\n",
      "\n",
      "EPOCH 199:\tTraining loss: 0.376\tValidation loss: 0.372\n",
      "\n",
      "EPOCH 200:\tTraining loss: 0.376\tValidation loss: 0.372\n"
     ]
    }
   ],
   "source": [
    "train_accs = []\n",
    "train_losses = []\n",
    "val_accs = []\n",
    "val_losses = []\n",
    "\n",
    "for epoch in range(epochs):\n",
    "    train_batch_losses = []\n",
    "    train_batch_accs = []\n",
    "    val_batch_losses = []\n",
    "    val_batch_accs = []\n",
    "\n",
    "    for i in range(0, X_train.shape[0], batch_size):\n",
    "        X_i = X_train[i:i + batch_size]\n",
    "        y_i = y_train[i:i + batch_size]\n",
    "\n",
    "        y_hat = predict(X_i, theta)\n",
    "\n",
    "        train_loss = compute_loss(y_hat, y_i)\n",
    "\n",
    "        gradient = compute_gradient(X_i, y_i, y_hat)\n",
    "\n",
    "        theta = update_theta(theta, gradient, lr)\n",
    "\n",
    "        train_batch_losses.append(train_loss)\n",
    "\n",
    "        train_acc = compute_accuracy(X_train, y_train, theta)\n",
    "        train_batch_accs.append(train_acc)\n",
    "\n",
    "        y_val_hat = predict(X_val, theta)\n",
    "        val_loss = compute_loss(y_val_hat, y_val)\n",
    "        val_batch_losses.append(val_loss)\n",
    "\n",
    "        val_acc = compute_accuracy(X_val, y_val, theta)\n",
    "        val_batch_accs.append(val_acc)\n",
    "\n",
    "    train_batch_loss = sum(train_batch_losses) / len(\n",
    "        train_batch_losses)\n",
    "    val_batch_loss = sum(val_batch_losses) / len(val_batch_losses)\n",
    "    train_batch_acc = sum(train_batch_accs) / len(train_batch_accs)\n",
    "    val_batch_acc = sum(val_batch_accs) / len(val_batch_accs)\n",
    "\n",
    "    train_losses.append(train_batch_loss)\n",
    "    val_losses.append(val_batch_loss)\n",
    "    train_accs.append(train_batch_acc)\n",
    "    val_accs.append(val_batch_acc)\n",
    "\n",
    "    print(\n",
    "        f'\\nEPOCH {epoch + 1}:\\tTraining loss: {train_batch_loss:.3f}\\tValidation loss: {val_batch_loss:.3f}')"
   ]
  },
  {
   "cell_type": "code",
   "execution_count": null,
   "metadata": {},
   "outputs": [
    {
     "data": {
      "image/png": "[encoded data removed]",
      "text/plain": [
       "<Figure size 1200x1000 with 4 Axes>"
      ]
     },
     "metadata": {},
     "output_type": "display_data"
    }
   ],
   "source": [
    "fig, ax = plt.subplots(2, 2, figsize=(12, 10))\n",
    "ax[0, 0].plot(train_losses)\n",
    "ax[0, 0].set(xlabel='Epoch', ylabel='Loss')\n",
    "ax[0, 0].set_title('Training Loss')\n",
    "\n",
    "ax[0, 1].plot(val_losses,  'orange')\n",
    "ax[0, 1].set(xlabel='Epoch', ylabel='Loss')\n",
    "ax[0, 1].set_title('Validation Loss')\n",
    "\n",
    "ax[1, 0].plot(train_accs)\n",
    "ax[1, 0].set(xlabel='Epoch', ylabel='Accuracy')\n",
    "ax[1, 0].set_title('Training Accuracy')\n",
    "\n",
    "ax[1, 1].plot(val_accs,  'orange')\n",
    "ax[1, 1].set(xlabel='Epoch', ylabel='Accuracy')\n",
    "ax[1, 1].set_title('Validation Accuracy')\n",
    "\n",
    "plt.show()"
   ]
  },
  {
   "cell_type": "markdown",
   "metadata": {},
   "source": [
    "### Evaluate the model"
   ]
  },
  {
   "cell_type": "code",
   "execution_count": null,
   "metadata": {},
   "outputs": [
    {
     "name": "stdout",
     "output_type": "stream",
     "text": [
      "Evaluation on validation and test set:\n",
      "Accuracy: 0.82\n",
      "Accuracy: 0.84\n"
     ]
    }
   ],
   "source": [
    "val_set_acc = compute_accuracy(X_val, y_val, theta)\n",
    "test_set_acc = compute_accuracy(X_test, y_test, theta)\n",
    "print('Evaluation on validation and test set:')\n",
    "print(f'Accuracy: {val_set_acc:.2f}')\n",
    "print(f'Accuracy: {test_set_acc:.2f}')"
   ]
  }
 ],
 "metadata": {
  "kernelspec": {
   "display_name": "Python 3",
   "language": "python",
   "name": "python3"
  },
  "language_info": {
   "codemirror_mode": {
    "name": "ipython",
    "version": 3
   },
   "file_extension": ".py",
   "mimetype": "text/x-python",
   "name": "python",
   "nbconvert_exporter": "python",
   "pygments_lexer": "ipython3",
   "version": "3.8.10"
  }
 },
 "nbformat": 4,
 "nbformat_minor": 2
}
