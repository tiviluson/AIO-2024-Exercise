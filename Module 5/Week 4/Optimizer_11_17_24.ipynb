{
 "cells": [
  {
   "cell_type": "markdown",
   "metadata": {},
   "source": [
    "# Optimizer (November 17, 2024)"
   ]
  },
  {
   "cell_type": "markdown",
   "metadata": {},
   "source": [
    "## Optimize the following function"
   ]
  },
  {
   "cell_type": "markdown",
   "metadata": {},
   "source": [
    "$$ f(x_1, x_2) = 0.1w_1^2 + 2w_2^2"
   ]
  },
  {
   "cell_type": "markdown",
   "metadata": {},
   "source": [
    "### With `Gradient Descent`"
   ]
  },
  {
   "cell_type": "markdown",
   "metadata": {},
   "source": [
    "> $$ W = W - \\alpha * dW"
   ]
  },
  {
   "cell_type": "markdown",
   "metadata": {},
   "source": [
    ">\\begin{align*}\n",
    ">    W & = [w_1, w_2] \\\\\n",
    ">    => dW & = [0.4w_1, 4w_2]\n",
    ">\\end{align*}"
   ]
  },
  {
   "cell_type": "markdown",
   "metadata": {},
   "source": [
    "Initial values:\n",
    "$$\n",
    "w_1 = -5\\\\\n",
    "w_2 = -2\\\\\n",
    "\\alpha = 0.4\n",
    "$$"
   ]
  },
  {
   "cell_type": "markdown",
   "metadata": {},
   "source": [
    "Epoch 1:\n",
    "$$\n",
    "\\begin{align*}\n",
    "dW & \\leftarrow [0.4w_1, 4w_2] \\\\\n",
    "   & = [0.4*(-5), 4*(-2)] \\\\\n",
    "   & = [-2, -8] \\\\\n",
    "W & \\leftarrow W - \\alpha*dW\\\\\n",
    "  & = [-5,-2] - 0.4*[-2,-8]\\\\\n",
    "  & = [-4.2, 1.2]\n",
    "\\end{align*}\n",
    "$$"
   ]
  },
  {
   "cell_type": "markdown",
   "metadata": {},
   "source": [
    "Epoch 2:\n",
    "$$\n",
    "\\begin{align*}\n",
    "dW & \\leftarrow [0.4w_1, 4w_2] \\\\\n",
    "   & = [0.4*(-4.2), 4*(1.2)] \\\\\n",
    "   & = [-1.68, 4.8] \\\\\n",
    "W & \\leftarrow W - \\alpha*[0.4\\alpha_1, 4\\alpha_2] \\\\\n",
    "  & = [-4.2, 1.2] - 0.4*[-1.68, 4.8] \\\\\n",
    "  & = [-3.528, -0.72]\n",
    "\\end{align*}\n",
    "$$"
   ]
  },
  {
   "cell_type": "code",
   "execution_count": null,
   "metadata": {},
   "outputs": [],
   "source": [
    "import numpy as np"
   ]
  },
  {
   "cell_type": "code",
   "execution_count": null,
   "metadata": {},
   "outputs": [],
   "source": [
    "def df_W(W):\n",
    "    return np.array([0.4, 4]) * W"
   ]
  },
  {
   "cell_type": "code",
   "execution_count": null,
   "metadata": {},
   "outputs": [],
   "source": [
    "def sgd(W, dW, lr):\n",
    "    W = W - lr * dW\n",
    "    return W"
   ]
  },
  {
   "cell_type": "code",
   "execution_count": null,
   "metadata": {},
   "outputs": [],
   "source": [
    "def train_p1(optimizer, lr, epochs):\n",
    "    W = np.array([-5, -2], dtype=np.float32)\n",
    "    results = [W]\n",
    "    for _ in range(epochs):\n",
    "        dW = df_W(W)\n",
    "        W = optimizer(W, dW, lr)\n",
    "        results.append(W)\n",
    "    return results"
   ]
  },
  {
   "cell_type": "code",
   "execution_count": null,
   "metadata": {},
   "outputs": [
    {
     "data": {
      "text/plain": [
       "[array([-5., -2.], dtype=float32),\n",
       " array([-4.2,  1.2]),\n",
       " array([-3.528, -0.72 ]),\n",
       " array([-2.96352,  0.432  ]),\n",
       " array([-2.4893568, -0.2592   ]),\n",
       " array([-2.09105971,  0.15552   ]),\n",
       " array([-1.75649016, -0.093312  ]),\n",
       " array([-1.47545173,  0.0559872 ]),\n",
       " array([-1.23937946, -0.03359232]),\n",
       " array([-1.04107874,  0.02015539]),\n",
       " array([-0.87450614, -0.01209324]),\n",
       " array([-0.73458516,  0.00725594]),\n",
       " array([-0.61705154, -0.00435356]),\n",
       " array([-0.51832329,  0.00261214]),\n",
       " array([-0.43539156, -0.00156728]),\n",
       " array([-0.36572891,  0.00094037]),\n",
       " array([-0.30721229, -0.00056422]),\n",
       " array([-0.25805832,  0.00033853]),\n",
       " array([-2.16768990e-01, -2.03119913e-04]),\n",
       " array([-1.82085951e-01,  1.21871948e-04]),\n",
       " array([-1.52952199e-01, -7.31231688e-05]),\n",
       " array([-1.28479847e-01,  4.38739013e-05]),\n",
       " array([-1.07923072e-01, -2.63243408e-05]),\n",
       " array([-9.06553802e-02,  1.57946045e-05]),\n",
       " array([-7.61505194e-02, -9.47676268e-06]),\n",
       " array([-6.39664363e-02,  5.68605761e-06]),\n",
       " array([-5.37318065e-02, -3.41163456e-06]),\n",
       " array([-4.51347174e-02,  2.04698074e-06]),\n",
       " array([-3.79131627e-02, -1.22818844e-06]),\n",
       " array([-3.18470566e-02,  7.36913066e-07]),\n",
       " array([-2.67515276e-02, -4.42147839e-07])]"
      ]
     },
     "execution_count": null,
     "metadata": {},
     "output_type": "execute_result"
    }
   ],
   "source": [
    "train_p1(sgd, 0.4, 30)"
   ]
  },
  {
   "cell_type": "markdown",
   "metadata": {},
   "source": [
    "### With `Gradient Descent + Momentum`"
   ]
  },
  {
   "cell_type": "markdown",
   "metadata": {},
   "source": [
    "> \\begin{align*}\n",
    ">  V_t & = \\beta V_{t-1}+(1-\\beta)dW_t \\\\\n",
    ">  W_t & = W_{t-1} - \\alpha*V_t\n",
    "> \\end{align*}"
   ]
  },
  {
   "cell_type": "markdown",
   "metadata": {},
   "source": [
    ">\\begin{align*}\n",
    ">    W & = [w_1, w_2] \\\\\n",
    ">    => dW & = [0.4w_1, 4w_2]\n",
    ">\\end{align*}"
   ]
  },
  {
   "cell_type": "markdown",
   "metadata": {},
   "source": [
    "Initial values:\n",
    "$$ \\begin{align*}\n",
    "W & = [w_1, w_2] = [-5,-2]\\\\\n",
    "V & = [v_1, v_2] = [0, 0]\\\\\n",
    "\\alpha & = 0.6 \\\\\n",
    "\\beta & = 0.5\n",
    "\\end{align*}"
   ]
  },
  {
   "cell_type": "markdown",
   "metadata": {},
   "source": [
    "Epoch 1:\n",
    "$$\n",
    "\\begin{align*}\n",
    "t & \\leftarrow 1\\\\\n",
    "dW_1 & \\leftarrow [0.4w_1, 4w_2] \\\\\n",
    "   & = [0.4*(-5), 4*(-2)] \\\\\n",
    "   & = [-2, -8] \\\\\n",
    "V_1 & \\leftarrow \\beta V_{0}+(1-\\beta)dW_1\\\\\n",
    "    & = 0.5*0 + (1-0.5)*[-2, -8] \\\\\n",
    "    & = [-1, -4] \\\\\n",
    "W_1 & \\leftarrow W_0 - \\alpha V_1 \\\\\n",
    "    & = [-5, -2] - 0.6*[-1,-4] \\\\\n",
    "    & = [-4.4, 0.4]\n",
    "\\end{align*}\n",
    "$$"
   ]
  },
  {
   "cell_type": "markdown",
   "metadata": {},
   "source": [
    "Epoch 2:\n",
    "$$\n",
    "\\begin{align*}\n",
    "t & \\leftarrow 1\\\\\n",
    "dW_2 & \\leftarrow [0.4w_1, 4w_2] \\\\\n",
    "   & = [0.4*(-4.4), 4*(0.4)] \\\\\n",
    "   & = [-1.76, 1.6] \\\\\n",
    "V_2 & \\leftarrow \\beta V_{1}+(1-\\beta)dW_2\\\\\n",
    "    & = 0.5*[-1,-4] + (1-0.5)*[-1.76, 1.6] \\\\\n",
    "    & = [-1.38, -1.2 ] \\\\\n",
    "W_2 & \\leftarrow W_1 - \\alpha V_2 \\\\\n",
    "    & = [-4.4, 0.4] - 0.6*[-1.38, -1.2 ] \\\\\n",
    "    & = [-3.572,  1.12 ]\n",
    "\\end{align*}\n",
    "$$"
   ]
  },
  {
   "cell_type": "code",
   "execution_count": null,
   "metadata": {},
   "outputs": [
    {
     "data": {
      "text/plain": [
       "[array([-5., -2.], dtype=float32),\n",
       " array([-4.4,  0.4]),\n",
       " array([-3.572,  1.12 ]),\n",
       " array([-2.72936,  0.136  ]),\n",
       " array([-1.9805168, -0.5192   ]),\n",
       " array([-1.36843318, -0.22376   ]),\n",
       " array([-0.89817939,  0.192472  ]),\n",
       " array([-0.55527097,  0.1696216 ]),\n",
       " array([-0.31718424, -0.04534952]),\n",
       " array([-0.16007877, -0.09841566]),\n",
       " array([-0.06231658, -0.00684994]),\n",
       " array([-0.0059575 ,  0.04715285]),\n",
       " array([0.02293694, 0.01757082]),\n",
       " array([ 0.03463173, -0.01830518]),\n",
       " array([ 0.03632332, -0.01427696]),\n",
       " array([0.03281031, 0.0048695 ]),\n",
       " array([0.02711657, 0.00859933]),\n",
       " array([0.02101571, 0.00014505]),\n",
       " array([ 0.0154434 , -0.00425615]),\n",
       " array([ 0.01080403, -0.00134937]),\n",
       " array([0.00718787, 0.00172326]),\n",
       " array([0.00451724, 0.00119166]),\n",
       " array([ 0.00263986, -0.00050413]),\n",
       " array([ 0.00138438, -0.00074707]),\n",
       " array([5.90519957e-04, 2.79448010e-05]),\n",
       " array([0.00012273, 0.00038192]),\n",
       " array([-0.0001259,  0.0001006]),\n",
       " array([-0.0002351 , -0.00016078]),\n",
       " array([-2.61492134e-04, -9.85353344e-05]),\n",
       " array([-2.43308011e-04,  5.08287536e-05]),\n",
       " array([-2.05018988e-04,  6.45162933e-05])]"
      ]
     },
     "execution_count": null,
     "metadata": {},
     "output_type": "execute_result"
    }
   ],
   "source": [
    "def df_W(W):\n",
    "    return np.array([0.4, 4]) * W\n",
    "\n",
    "\n",
    "def sgd_momentum(W, dW, V, lr, beta):\n",
    "    V_new = beta * V + (1-beta)*dW\n",
    "    W_new = W - lr * V_new\n",
    "    return V_new, W_new\n",
    "\n",
    "\n",
    "def train_p2(optimizer, lr, epochs):\n",
    "    W = np.array([-5, -2], dtype=np.float32)\n",
    "    V = np.zeros_like(W)\n",
    "    beta = 0.5\n",
    "    results = [W]\n",
    "    for _ in range(epochs):\n",
    "        dW = df_W(W)\n",
    "        V, W = optimizer(W, dW, V, lr, beta)\n",
    "        results.append(W)\n",
    "    return results\n",
    "\n",
    "\n",
    "train_p2(sgd_momentum, 0.6, 30)"
   ]
  },
  {
   "cell_type": "markdown",
   "metadata": {},
   "source": [
    "### With `RMSProp`"
   ]
  },
  {
   "cell_type": "markdown",
   "metadata": {},
   "source": [
    "> \\begin{align*}\n",
    "> S_t & = \\gamma S_{t-1} + (1-\\gamma)dW_t^2 \\\\\n",
    "> W_t & = W_{t-1} - \\alpha*\\dfrac{dW_t}{\\sqrt{S_t+\\epsilon}}\n",
    "> \\end{align*}"
   ]
  },
  {
   "cell_type": "markdown",
   "metadata": {},
   "source": [
    "Initial values:\n",
    "$$ \\begin{align*}\n",
    "W_0 & = [w_1, w_2] = [-5,-2]\\\\\n",
    "S_0 & = [s_1, s_2] = [0, 0]\\\\\n",
    "\\alpha & = 0.3 \\\\\n",
    "\\gamma & = 0.9 \\\\\n",
    "\\epsilon & = 10^{-6}\n",
    "\\end{align*}"
   ]
  },
  {
   "cell_type": "markdown",
   "metadata": {},
   "source": [
    "Epoch 1:\n",
    "$$\n",
    "\\begin{align*}\n",
    "t & \\leftarrow 1\\\\\n",
    "dW_1 & \\leftarrow [0.4w_1, 4w_2] \\\\\n",
    "   & = [0.4*(-5), 4*(-2)] \\\\\n",
    "   & = [-2, -8] \\\\\n",
    "\\Rightarrow dW_1^2 & = dW_1 \\odot dW_1 \\\\\n",
    "                   & = [-2, -8] \\odot [-2, -8] \\\\\n",
    "                   & = [4, 64] \\\\\n",
    "S_1 & \\leftarrow \\gamma S_{0}+(1-\\gamma)dW_1^2\\\\\n",
    "    & = 0.9*[0, 0] + (1-0.9)*[4, 64] \\\\\n",
    "    & = [0.4, 6.4] \\\\\n",
    "W_1 & \\leftarrow W_0 - \\alpha * \\dfrac{dW_1}{\\sqrt{S_1+\\epsilon}} \\\\\n",
    "    & = [-5,-2] - 0.3*[\\dfrac{1}{\\sqrt{0.4+10^{-6}}} * (-2), \\dfrac{1}{\\sqrt{6.4+10^{-6}}} * (-8)] \\\\\n",
    "    & \\approx [-4.0513, -1.0513]\n",
    "\\end{align*}\n",
    "$$"
   ]
  },
  {
   "cell_type": "markdown",
   "metadata": {},
   "source": [
    "Epoch 2:\n",
    "$$\n",
    "\\begin{align*}\n",
    "t & \\leftarrow 2\\\\\n",
    "dW_2 & \\leftarrow [0.4w_1, 4w_2] \\\\\n",
    "   & = [0.4*(-4.0513), 4*(-1.0513)] \\\\\n",
    "   & \\approx [-1.6205, -4.2052] \\\\\n",
    "\\Rightarrow dW_2^2 & = dW_2 \\odot dW_2 \\\\\n",
    "                   & = [-1.6205, 4.2052] \\odot [-1.6205, 4.2052] \\\\\n",
    "                   & \\approx [2.6261, 17.6837] \\\\\n",
    "S_2 & \\leftarrow \\gamma S_1+(1-\\gamma)dW_2^2\\\\\n",
    "    & = 0.9*[0.4, 6.4] + (1-0.9)*[2.6261, 17.6837] \\\\\n",
    "    & \\approx [0.6226, 7.5284] \\\\\n",
    "W_2 & \\leftarrow W_1 - \\alpha * \\dfrac{dW_2}{\\sqrt{S_2+\\epsilon}} \\\\\n",
    "    & = [-4.0513, -1.0513] - 0.3*[\\dfrac{1}{\\sqrt{0.6226+10^{-6}}} * (-1.6205), \\dfrac{1}{\\sqrt{7.52837+10^{-6}}} * (-4.2052)] \\\\\n",
    "    & \\approx [-3.4352, -0.5915]\n",
    "\\end{align*}\n",
    "$$"
   ]
  },
  {
   "cell_type": "code",
   "execution_count": null,
   "metadata": {},
   "outputs": [
    {
     "data": {
      "text/plain": [
       "[array([-5., -2.], dtype=float32),\n",
       " array([-4.05131789, -1.05131678]),\n",
       " array([-3.43519281, -0.59152343]),\n",
       " array([-2.95893161, -0.3294394 ]),\n",
       " array([-2.56545722, -0.17756482]),\n",
       " array([-2.22919966, -0.09163256]),\n",
       " array([-1.93626156, -0.04494499]),\n",
       " array([-1.67817088, -0.02081423]),\n",
       " array([-1.44934392, -0.00903559]),\n",
       " array([-1.24587616, -0.00364591]),\n",
       " array([-1.06489733, -0.00135351]),\n",
       " array([-9.04196768e-01, -4.56444431e-04]),\n",
       " array([-7.61991235e-01, -1.37562928e-04]),\n",
       " array([-6.36773507e-01, -3.62601019e-05]),\n",
       " array([-5.27210543e-01, -8.11337456e-06]),\n",
       " array([-4.32074135e-01, -1.47473412e-06]),\n",
       " array([-3.50194482e-01, -2.02783991e-07]),\n",
       " array([-2.80430983e-01, -1.84231187e-08]),\n",
       " array([-2.21656535e-01, -7.67742748e-10]),\n",
       " array([-1.72752581e-01,  7.80451998e-12]),\n",
       " array([-1.32612565e-01, -5.05794800e-13]),\n",
       " array([-1.00151561e-01,  6.19123501e-14]),\n",
       " array([-7.43198850e-02, -1.13373781e-14]),\n",
       " array([-5.41185515e-02,  2.80166702e-15]),\n",
       " array([-3.86146217e-02, -8.81341191e-16]),\n",
       " array([-2.69547649e-02,  3.39921117e-16]),\n",
       " array([-1.83757423e-02, -1.56581731e-16]),\n",
       " array([-1.22109768e-02,  8.44994985e-17]),\n",
       " array([-7.89284258e-03, -5.26376595e-17]),\n",
       " array([-4.95075486e-03,  3.74107995e-17]),\n",
       " array([-3.00552379e-03, -3.00506084e-17])]"
      ]
     },
     "execution_count": null,
     "metadata": {},
     "output_type": "execute_result"
    }
   ],
   "source": [
    "def df_W(W):\n",
    "    return np.array([0.4, 4]) * W\n",
    "\n",
    "\n",
    "def rmsprop(W, dW, S, lr, gamma, epsilon):\n",
    "    S_new = gamma * S + (1-gamma)*dW*dW\n",
    "    W_new = W - lr * dW/np.sqrt(S_new+epsilon)\n",
    "    return S_new, W_new\n",
    "\n",
    "\n",
    "def train_p3(optimizer, lr, epochs):\n",
    "    W = np.array([-5, -2], dtype=np.float32)\n",
    "    S = np.zeros_like(W)\n",
    "    gamma = 0.9\n",
    "    epsilon = 1e-6\n",
    "    results = [W]\n",
    "    for _ in range(epochs):\n",
    "        dW = df_W(W)\n",
    "        S, W = optimizer(W, dW, S, lr, gamma, epsilon)\n",
    "        results.append(W)\n",
    "    return results\n",
    "\n",
    "\n",
    "train_p3(rmsprop, 0.3, 30)"
   ]
  },
  {
   "cell_type": "markdown",
   "metadata": {},
   "source": [
    "### With `Adam`"
   ]
  },
  {
   "cell_type": "markdown",
   "metadata": {},
   "source": [
    "> \\begin{align*}\n",
    "> V_t & = \\beta_1V_{t-1} + (1-\\beta_1)dW_t  \\\\\n",
    "> S_t & = \\beta_2 S_{t-1} + (1-\\beta_2)dW_t^2 \\\\\n",
    "> \\hat{V}_t & = \\dfrac{V_t}{1-\\beta_1^t} \\\\\n",
    "> \\hat{S}_t & = \\dfrac{S_t}{1-\\beta_2^t} \\\\\n",
    "> W_t & = W_{t-1} - \\alpha*\\dfrac{\\hat{V}_t}{\\sqrt{\\hat{S}_t}+\\epsilon}\n",
    "> \\end{align*}"
   ]
  },
  {
   "cell_type": "markdown",
   "metadata": {},
   "source": [
    "Initial values:\n",
    "$$ \\begin{align*}\n",
    "W_0 & = [w_1, w_2] = [-5,-2]\\\\\n",
    "V_0 & = [s_1, s_2] = [0, 0]\\\\\n",
    "S_0 & = [s_1, s_2] = [0, 0]\\\\\n",
    "\\alpha & = 0.2 \\\\\n",
    "\\beta_1 & = 0.9 \\\\\n",
    "\\beta_2 & = 0.999 \\\\\n",
    "\\epsilon & = 10^{-6}\n",
    "\\end{align*}"
   ]
  },
  {
   "cell_type": "markdown",
   "metadata": {},
   "source": [
    "Epoch 1:\n",
    "$$\n",
    "\\begin{align*}\n",
    "t & \\leftarrow 1\\\\\n",
    "dW_1 & \\leftarrow [0.4w_1, 4w_2] \\\\\n",
    "   & = [0.4*(-5), 4*(-2)] \\\\\n",
    "   & = [-2, -8] \\\\\n",
    "\\Rightarrow dW_1^2 & = dW_1 \\odot dW_1 \\\\\n",
    "                   & = [-2, -8] \\odot [-2, -8] \\\\\n",
    "                   & = [4, 64] \\\\\n",
    "V_1 & \\leftarrow \\gamma_1 V_{0}+(1-\\gamma_1)dW_1\\\\\n",
    "    & = 0.9*[0, 0] + (1-0.9)*[-2, -8] \\\\\n",
    "    & = [-0.2, -0.8] \\\\\n",
    "\\Rightarrow \\hat{V}_1 & = \\dfrac{V_1}{1-\\beta_1^t} \\\\\n",
    "    & = \\left[\\dfrac{-0.2}{1-0.9^1}, \\dfrac{-0.8}{1-0.9^1}\\right] \\\\\n",
    "    & = [-2, -8] \\\\\n",
    "S_1 & \\leftarrow \\gamma_2 S_{0}+(1-\\gamma_2)dW_1^2\\\\\n",
    "    & = 0.999*[0, 0] + (1-0.999)*[4, 64] \\\\\n",
    "    & = [0.004, 0.064] \\\\\n",
    "\\Rightarrow \\hat{S}_1 & \\leftarrow \\dfrac{S_1}{1-\\gamma_2^t} \\\\\n",
    "    & = \\left[\\dfrac{0.004}{1-0.999^1}, \\dfrac{0.064}{1-0.999^1}\\right] \\\\\n",
    "    & = [4, 64] \\\\\n",
    "W_1 & \\leftarrow W_0 - \\alpha * \\dfrac{\\hat{V}_1}{\\sqrt{\\hat{S}_1}+\\epsilon} \\\\\n",
    "    & = [-5,-2] - 0.2*\\left[\\dfrac{1}{\\sqrt{4}+10^{-6}} * (-2), \\dfrac{1}{\\sqrt{64}+10^{-6}} * (-8)\\right] \\\\\n",
    "    & \\approx [-4.8, -1.8]\n",
    "\\end{align*}\n",
    "$$"
   ]
  },
  {
   "cell_type": "markdown",
   "metadata": {},
   "source": [
    "Epoch 2:\n",
    "$$\n",
    "\\begin{align*}\n",
    "t & \\leftarrow 1\\\\\n",
    "dW_2 & \\leftarrow [0.4w_1, 4w_2] \\\\\n",
    "   & = [0.4*(-4.8), 4*(-1.8)] \\\\\n",
    "   & = [-1.98, -7.2] \\\\\n",
    "\\Rightarrow dW_2^2 & = dW_2 \\odot dW_2 \\\\\n",
    "                   & = [-1.98, -7.2] \\odot [-1.98, -7.2] \\\\\n",
    "                   & \\approx [3.6864, 51.84] \\\\\n",
    "V_2 & \\leftarrow \\gamma_1 V_{2}+(1-\\gamma_1)dW_2\\\\\n",
    "    & = 0.9*[-0.2, 0.8] + (1-0.9)*[-1.98, -7.2] \\\\\n",
    "    & = [-0.0372, -1.44] \\\\\n",
    "\\Rightarrow \\hat{V}_1 & = \\dfrac{V_2}{1-\\beta_1^t} \\\\\n",
    "    & = \\left[\\dfrac{-0.0372}{1-0.9^2}, \\dfrac{-1.44}{1-0.9^2}\\right] \\\\\n",
    "    & \\approx [-1.9579, -7.579] \\\\\n",
    "S_2 & \\leftarrow \\gamma_2 S_{1}+(1-\\gamma_2)dW_2^2\\\\\n",
    "    & = 0.999*[0.004, 0.064] + (1-0.999)*[3.6864, 51.84] \\\\\n",
    "    & = [0.0077, 0.1158] \\\\\n",
    "\\Rightarrow \\hat{S}_2 & \\leftarrow \\dfrac{S_2}{1-\\gamma_2^t} \\\\\n",
    "    & = \\left[\\dfrac{0.0077}{1-0.999^2}, \\dfrac{0.1158}{1-0.999^2}\\right] \\\\\n",
    "    & \\approx [3.8431, 57.917] \\\\\n",
    "W_1 & \\leftarrow W_0 - \\alpha * \\dfrac{\\hat{V}_1}{\\sqrt{\\hat{S}_1}+\\epsilon} \\\\\n",
    "    & = [-4.8, -1.8] - 0.2*\\left[\\dfrac{1}{\\sqrt{3.8431}+10^{-6}} * (-1.9579), \\dfrac{1}{\\sqrt{57.917}+10^{-6}} * (-7.579)\\right] \\\\\n",
    "    & \\approx [-4.6003, -1.6008]\n",
    "\\end{align*}\n",
    "$$"
   ]
  },
  {
   "cell_type": "code",
   "execution_count": null,
   "metadata": {},
   "outputs": [
    {
     "data": {
      "text/plain": [
       "[array([-5., -2.], dtype=float32),\n",
       " array([-4.8000001 , -1.80000002]),\n",
       " array([-4.60025458, -1.60082451]),\n",
       " array([-4.40094817, -1.40317262]),\n",
       " array([-4.20227723, -1.20787822]),\n",
       " array([-4.00444981, -1.01592745]),\n",
       " array([-3.80768576, -0.82847307]),\n",
       " array([-3.61221659, -0.64684159]),\n",
       " array([-3.41828539, -0.47252765]),\n",
       " array([-3.22614645, -0.30716934]),\n",
       " array([-3.03606486, -0.15249855]),\n",
       " array([-2.8483159 , -0.01026326]),\n",
       " array([-2.66318417,  0.11787552]),\n",
       " array([-2.48096263,  0.23046161]),\n",
       " array([-2.30195133,  0.3263587 ]),\n",
       " array([-2.12645586,  0.40484195]),\n",
       " array([-1.95478566,  0.46564961]),\n",
       " array([-1.78725195,  0.50898799]),\n",
       " array([-1.62416544,  0.53549442]),\n",
       " array([-1.46583375,  0.54617144]),\n",
       " array([-1.3125587 ,  0.54230812]),\n",
       " array([-1.16463323,  0.52540206]),\n",
       " array([-1.02233827,  0.4970906 ]),\n",
       " array([-0.8859395,  0.4590951]),\n",
       " array([-0.755684  ,  0.41317781]),\n",
       " array([-0.631797 ,  0.3611089]),\n",
       " array([-0.51447868,  0.30464048]),\n",
       " array([-0.40390125,  0.24548409]),\n",
       " array([-0.30020621,  0.18528918]),\n",
       " array([-0.20350207,  0.12562074]),\n",
       " array([-0.11386242,  0.06793529])]"
      ]
     },
     "execution_count": null,
     "metadata": {},
     "output_type": "execute_result"
    }
   ],
   "source": [
    "def df_W(W):\n",
    "    return np.array([0.4, 4]) * W\n",
    "\n",
    "\n",
    "def adam(W, dW, t, V, S, lr, gamma_1, gamma_2, epsilon):\n",
    "    V_new = gamma_1*V + (1-gamma_1)*dW\n",
    "    S_new = gamma_2 * S + (1-gamma_2)*dW*dW\n",
    "    V_corr = V_new / (1-gamma_1**t)\n",
    "    S_corr = S_new / (1-gamma_2**t)\n",
    "    W_new = W - lr * V_corr/(np.sqrt(S_corr)+epsilon)\n",
    "    return V_new, S_new, W_new\n",
    "\n",
    "\n",
    "def train_p4(optimizer, lr, epochs):\n",
    "    W = np.array([-5, -2], dtype=np.float32)\n",
    "    V = np.zeros_like(W)\n",
    "    S = np.zeros_like(W)\n",
    "    gamma_1 = 0.9\n",
    "    gamma_2 = 0.999\n",
    "    epsilon = 1e-6\n",
    "    results = [W]\n",
    "    for t in range(epochs):\n",
    "        dW = df_W(W)\n",
    "        V, S, W = optimizer(W, dW, t+1, V, S, lr, gamma_1, gamma_2, epsilon)\n",
    "        results.append(W)\n",
    "    return results\n",
    "\n",
    "\n",
    "train_p4(adam, 0.2, 30)"
   ]
  }
 ],
 "metadata": {
  "kernelspec": {
   "display_name": "Python 3",
   "language": "python",
   "name": "python3"
  },
  "language_info": {
   "codemirror_mode": {
    "name": "ipython",
    "version": 3
   },
   "file_extension": ".py",
   "mimetype": "text/x-python",
   "name": "python",
   "nbconvert_exporter": "python",
   "pygments_lexer": "ipython3",
   "version": "3.8.10"
  }
 },
 "nbformat": 4,
 "nbformat_minor": 2
}
