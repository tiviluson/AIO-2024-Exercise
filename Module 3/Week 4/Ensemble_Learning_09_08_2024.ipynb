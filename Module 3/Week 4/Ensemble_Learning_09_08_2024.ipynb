{
 "cells": [
  {
   "cell_type": "markdown",
   "metadata": {},
   "source": [
    "# Ensemble Learning (September 8th, 2024)"
   ]
  },
  {
   "cell_type": "markdown",
   "metadata": {},
   "source": [
    "## 1. Import dependencies"
   ]
  },
  {
   "cell_type": "code",
   "execution_count": null,
   "metadata": {},
   "outputs": [],
   "source": [
    "import numpy as np\n",
    "import pandas as pd\n",
    "import matplotlib.pyplot as plt\n",
    "\n",
    "from sklearn.tree import DecisionTreeRegressor\n",
    "from sklearn.ensemble import RandomForestRegressor\n",
    "from sklearn.preprocessing import OrdinalEncoder, StandardScaler\n",
    "from sklearn.model_selection import train_test_split\n",
    "from sklearn.metrics import mean_absolute_error, mean_squared_error"
   ]
  },
  {
   "cell_type": "markdown",
   "metadata": {},
   "source": [
    "## 2. Download dataset"
   ]
  },
  {
   "cell_type": "code",
   "execution_count": null,
   "metadata": {},
   "outputs": [
    {
     "name": "stderr",
     "output_type": "stream",
     "text": [
      "Skipping already downloaded file Housing.csv\n"
     ]
    }
   ],
   "source": [
    "!gdown -c 1qeJqFtRdjjHqExbWJcgKy0yJbczTTAE3"
   ]
  },
  {
   "cell_type": "markdown",
   "metadata": {},
   "source": [
    "## 3. Load dataset"
   ]
  },
  {
   "cell_type": "code",
   "execution_count": null,
   "metadata": {},
   "outputs": [],
   "source": [
    "dataset_path = './Housing.csv'\n",
    "df = pd.read_csv(dataset_path)"
   ]
  },
  {
   "cell_type": "code",
   "execution_count": null,
   "metadata": {},
   "outputs": [
    {
     "data": {
      "text/html": [
       "<div>\n",
       "<style scoped>\n",
       "    .dataframe tbody tr th:only-of-type {\n",
       "        vertical-align: middle;\n",
       "    }\n",
       "\n",
       "    .dataframe tbody tr th {\n",
       "        vertical-align: top;\n",
       "    }\n",
       "\n",
       "    .dataframe thead th {\n",
       "        text-align: right;\n",
       "    }\n",
       "</style>\n",
       "<table border=\"1\" class=\"dataframe\">\n",
       "  <thead>\n",
       "    <tr style=\"text-align: right;\">\n",
       "      <th></th>\n",
       "      <th>price</th>\n",
       "      <th>area</th>\n",
       "      <th>bedrooms</th>\n",
       "      <th>bathrooms</th>\n",
       "      <th>stories</th>\n",
       "      <th>mainroad</th>\n",
       "      <th>guestroom</th>\n",
       "      <th>basement</th>\n",
       "      <th>hotwaterheating</th>\n",
       "      <th>airconditioning</th>\n",
       "      <th>parking</th>\n",
       "      <th>prefarea</th>\n",
       "      <th>furnishingstatus</th>\n",
       "    </tr>\n",
       "  </thead>\n",
       "  <tbody>\n",
       "    <tr>\n",
       "      <th>0</th>\n",
       "      <td>13300000</td>\n",
       "      <td>7420</td>\n",
       "      <td>4</td>\n",
       "      <td>2</td>\n",
       "      <td>3</td>\n",
       "      <td>yes</td>\n",
       "      <td>no</td>\n",
       "      <td>no</td>\n",
       "      <td>no</td>\n",
       "      <td>yes</td>\n",
       "      <td>2</td>\n",
       "      <td>yes</td>\n",
       "      <td>furnished</td>\n",
       "    </tr>\n",
       "    <tr>\n",
       "      <th>1</th>\n",
       "      <td>12250000</td>\n",
       "      <td>8960</td>\n",
       "      <td>4</td>\n",
       "      <td>4</td>\n",
       "      <td>4</td>\n",
       "      <td>yes</td>\n",
       "      <td>no</td>\n",
       "      <td>no</td>\n",
       "      <td>no</td>\n",
       "      <td>yes</td>\n",
       "      <td>3</td>\n",
       "      <td>no</td>\n",
       "      <td>furnished</td>\n",
       "    </tr>\n",
       "    <tr>\n",
       "      <th>2</th>\n",
       "      <td>12250000</td>\n",
       "      <td>9960</td>\n",
       "      <td>3</td>\n",
       "      <td>2</td>\n",
       "      <td>2</td>\n",
       "      <td>yes</td>\n",
       "      <td>no</td>\n",
       "      <td>yes</td>\n",
       "      <td>no</td>\n",
       "      <td>no</td>\n",
       "      <td>2</td>\n",
       "      <td>yes</td>\n",
       "      <td>semi-furnished</td>\n",
       "    </tr>\n",
       "    <tr>\n",
       "      <th>3</th>\n",
       "      <td>12215000</td>\n",
       "      <td>7500</td>\n",
       "      <td>4</td>\n",
       "      <td>2</td>\n",
       "      <td>2</td>\n",
       "      <td>yes</td>\n",
       "      <td>no</td>\n",
       "      <td>yes</td>\n",
       "      <td>no</td>\n",
       "      <td>yes</td>\n",
       "      <td>3</td>\n",
       "      <td>yes</td>\n",
       "      <td>furnished</td>\n",
       "    </tr>\n",
       "    <tr>\n",
       "      <th>4</th>\n",
       "      <td>11410000</td>\n",
       "      <td>7420</td>\n",
       "      <td>4</td>\n",
       "      <td>1</td>\n",
       "      <td>2</td>\n",
       "      <td>yes</td>\n",
       "      <td>yes</td>\n",
       "      <td>yes</td>\n",
       "      <td>no</td>\n",
       "      <td>yes</td>\n",
       "      <td>2</td>\n",
       "      <td>no</td>\n",
       "      <td>furnished</td>\n",
       "    </tr>\n",
       "  </tbody>\n",
       "</table>\n",
       "</div>"
      ],
      "text/plain": [
       "      price  area  bedrooms  bathrooms  stories mainroad guestroom basement  \\\n",
       "0  13300000  7420         4          2        3      yes        no       no   \n",
       "1  12250000  8960         4          4        4      yes        no       no   \n",
       "2  12250000  9960         3          2        2      yes        no      yes   \n",
       "3  12215000  7500         4          2        2      yes        no      yes   \n",
       "4  11410000  7420         4          1        2      yes       yes      yes   \n",
       "\n",
       "  hotwaterheating airconditioning  parking prefarea furnishingstatus  \n",
       "0              no             yes        2      yes        furnished  \n",
       "1              no             yes        3       no        furnished  \n",
       "2              no              no        2      yes   semi-furnished  \n",
       "3              no             yes        3      yes        furnished  \n",
       "4              no             yes        2       no        furnished  "
      ]
     },
     "execution_count": null,
     "metadata": {},
     "output_type": "execute_result"
    }
   ],
   "source": [
    "df.head()"
   ]
  },
  {
   "cell_type": "markdown",
   "metadata": {},
   "source": [
    "## 4. Pre-process categorical columns"
   ]
  },
  {
   "cell_type": "code",
   "execution_count": null,
   "metadata": {},
   "outputs": [],
   "source": [
    "# df = pd.DataFrame({'Y': [12, 20, 28, 32, 36], 'X': [3, 5, 8, 10, 12]})\n",
    "# df"
   ]
  },
  {
   "cell_type": "code",
   "execution_count": null,
   "metadata": {},
   "outputs": [
    {
     "data": {
      "text/plain": [
       "['mainroad',\n",
       " 'guestroom',\n",
       " 'basement',\n",
       " 'hotwaterheating',\n",
       " 'airconditioning',\n",
       " 'prefarea',\n",
       " 'furnishingstatus']"
      ]
     },
     "execution_count": null,
     "metadata": {},
     "output_type": "execute_result"
    }
   ],
   "source": [
    "categorical_cols = df.select_dtypes(include=['object']).columns.to_list()\n",
    "categorical_cols"
   ]
  },
  {
   "cell_type": "code",
   "execution_count": null,
   "metadata": {},
   "outputs": [],
   "source": [
    "ordinal_encoder = OrdinalEncoder()\n",
    "encoded_categorical_cols = ordinal_encoder.fit_transform(df[categorical_cols])\n",
    "encoded_categorical_df = pd.DataFrame(\n",
    "    encoded_categorical_cols, columns=categorical_cols)\n",
    "numerical_df = df.drop(categorical_cols, axis=1)\n",
    "encoded_df = pd.concat([numerical_df, encoded_categorical_df], axis=1)"
   ]
  },
  {
   "cell_type": "code",
   "execution_count": null,
   "metadata": {},
   "outputs": [
    {
     "data": {
      "text/html": [
       "<div>\n",
       "<style scoped>\n",
       "    .dataframe tbody tr th:only-of-type {\n",
       "        vertical-align: middle;\n",
       "    }\n",
       "\n",
       "    .dataframe tbody tr th {\n",
       "        vertical-align: top;\n",
       "    }\n",
       "\n",
       "    .dataframe thead th {\n",
       "        text-align: right;\n",
       "    }\n",
       "</style>\n",
       "<table border=\"1\" class=\"dataframe\">\n",
       "  <thead>\n",
       "    <tr style=\"text-align: right;\">\n",
       "      <th></th>\n",
       "      <th>price</th>\n",
       "      <th>area</th>\n",
       "      <th>bedrooms</th>\n",
       "      <th>bathrooms</th>\n",
       "      <th>stories</th>\n",
       "      <th>parking</th>\n",
       "      <th>mainroad</th>\n",
       "      <th>guestroom</th>\n",
       "      <th>basement</th>\n",
       "      <th>hotwaterheating</th>\n",
       "      <th>airconditioning</th>\n",
       "      <th>prefarea</th>\n",
       "      <th>furnishingstatus</th>\n",
       "    </tr>\n",
       "  </thead>\n",
       "  <tbody>\n",
       "    <tr>\n",
       "      <th>0</th>\n",
       "      <td>13300000</td>\n",
       "      <td>7420</td>\n",
       "      <td>4</td>\n",
       "      <td>2</td>\n",
       "      <td>3</td>\n",
       "      <td>2</td>\n",
       "      <td>1.0</td>\n",
       "      <td>0.0</td>\n",
       "      <td>0.0</td>\n",
       "      <td>0.0</td>\n",
       "      <td>1.0</td>\n",
       "      <td>1.0</td>\n",
       "      <td>0.0</td>\n",
       "    </tr>\n",
       "    <tr>\n",
       "      <th>1</th>\n",
       "      <td>12250000</td>\n",
       "      <td>8960</td>\n",
       "      <td>4</td>\n",
       "      <td>4</td>\n",
       "      <td>4</td>\n",
       "      <td>3</td>\n",
       "      <td>1.0</td>\n",
       "      <td>0.0</td>\n",
       "      <td>0.0</td>\n",
       "      <td>0.0</td>\n",
       "      <td>1.0</td>\n",
       "      <td>0.0</td>\n",
       "      <td>0.0</td>\n",
       "    </tr>\n",
       "    <tr>\n",
       "      <th>2</th>\n",
       "      <td>12250000</td>\n",
       "      <td>9960</td>\n",
       "      <td>3</td>\n",
       "      <td>2</td>\n",
       "      <td>2</td>\n",
       "      <td>2</td>\n",
       "      <td>1.0</td>\n",
       "      <td>0.0</td>\n",
       "      <td>1.0</td>\n",
       "      <td>0.0</td>\n",
       "      <td>0.0</td>\n",
       "      <td>1.0</td>\n",
       "      <td>1.0</td>\n",
       "    </tr>\n",
       "    <tr>\n",
       "      <th>3</th>\n",
       "      <td>12215000</td>\n",
       "      <td>7500</td>\n",
       "      <td>4</td>\n",
       "      <td>2</td>\n",
       "      <td>2</td>\n",
       "      <td>3</td>\n",
       "      <td>1.0</td>\n",
       "      <td>0.0</td>\n",
       "      <td>1.0</td>\n",
       "      <td>0.0</td>\n",
       "      <td>1.0</td>\n",
       "      <td>1.0</td>\n",
       "      <td>0.0</td>\n",
       "    </tr>\n",
       "    <tr>\n",
       "      <th>4</th>\n",
       "      <td>11410000</td>\n",
       "      <td>7420</td>\n",
       "      <td>4</td>\n",
       "      <td>1</td>\n",
       "      <td>2</td>\n",
       "      <td>2</td>\n",
       "      <td>1.0</td>\n",
       "      <td>1.0</td>\n",
       "      <td>1.0</td>\n",
       "      <td>0.0</td>\n",
       "      <td>1.0</td>\n",
       "      <td>0.0</td>\n",
       "      <td>0.0</td>\n",
       "    </tr>\n",
       "  </tbody>\n",
       "</table>\n",
       "</div>"
      ],
      "text/plain": [
       "      price  area  bedrooms  bathrooms  stories  parking  mainroad  guestroom  \\\n",
       "0  13300000  7420         4          2        3        2       1.0        0.0   \n",
       "1  12250000  8960         4          4        4        3       1.0        0.0   \n",
       "2  12250000  9960         3          2        2        2       1.0        0.0   \n",
       "3  12215000  7500         4          2        2        3       1.0        0.0   \n",
       "4  11410000  7420         4          1        2        2       1.0        1.0   \n",
       "\n",
       "   basement  hotwaterheating  airconditioning  prefarea  furnishingstatus  \n",
       "0       0.0              0.0              1.0       1.0               0.0  \n",
       "1       0.0              0.0              1.0       0.0               0.0  \n",
       "2       1.0              0.0              0.0       1.0               1.0  \n",
       "3       1.0              0.0              1.0       1.0               0.0  \n",
       "4       1.0              0.0              1.0       0.0               0.0  "
      ]
     },
     "execution_count": null,
     "metadata": {},
     "output_type": "execute_result"
    }
   ],
   "source": [
    "encoded_df.head()"
   ]
  },
  {
   "cell_type": "markdown",
   "metadata": {},
   "source": [
    "## 5. Standardize dataset"
   ]
  },
  {
   "cell_type": "code",
   "execution_count": null,
   "metadata": {},
   "outputs": [],
   "source": [
    "normalizer = StandardScaler()\n",
    "dataset_arr = normalizer.fit_transform(encoded_df)"
   ]
  },
  {
   "cell_type": "code",
   "execution_count": null,
   "metadata": {},
   "outputs": [
    {
     "data": {
      "text/plain": [
       "array([[ 4.56636513,  1.04672629,  1.40341936, ...,  1.4726183 ,\n",
       "         1.80494113, -1.40628573],\n",
       "       [ 4.00448405,  1.75700953,  1.40341936, ...,  1.4726183 ,\n",
       "        -0.55403469, -1.40628573],\n",
       "       [ 4.00448405,  2.21823241,  0.04727831, ..., -0.67906259,\n",
       "         1.80494113, -0.09166185],\n",
       "       ...,\n",
       "       [-1.61432675, -0.70592066, -1.30886273, ..., -0.67906259,\n",
       "        -0.55403469,  1.22296203],\n",
       "       [-1.61432675, -1.03338891,  0.04727831, ..., -0.67906259,\n",
       "        -0.55403469, -1.40628573],\n",
       "       [-1.61432675, -0.5998394 ,  0.04727831, ..., -0.67906259,\n",
       "        -0.55403469,  1.22296203]])"
      ]
     },
     "execution_count": null,
     "metadata": {},
     "output_type": "execute_result"
    }
   ],
   "source": [
    "dataset_arr"
   ]
  },
  {
   "cell_type": "markdown",
   "metadata": {},
   "source": [
    "## 6. Split input, output"
   ]
  },
  {
   "cell_type": "code",
   "execution_count": null,
   "metadata": {},
   "outputs": [],
   "source": [
    "X, y = dataset_arr[:, 1:], dataset_arr[:, 0]"
   ]
  },
  {
   "cell_type": "code",
   "execution_count": null,
   "metadata": {},
   "outputs": [
    {
     "data": {
      "text/plain": [
       "(array([[ 1.04672629,  1.40341936,  1.42181174, ...,  1.4726183 ,\n",
       "          1.80494113, -1.40628573],\n",
       "        [ 1.75700953,  1.40341936,  5.40580863, ...,  1.4726183 ,\n",
       "         -0.55403469, -1.40628573],\n",
       "        [ 2.21823241,  0.04727831,  1.42181174, ..., -0.67906259,\n",
       "          1.80494113, -0.09166185],\n",
       "        ...,\n",
       "        [-0.70592066, -1.30886273, -0.57018671, ..., -0.67906259,\n",
       "         -0.55403469,  1.22296203],\n",
       "        [-1.03338891,  0.04727831, -0.57018671, ..., -0.67906259,\n",
       "         -0.55403469, -1.40628573],\n",
       "        [-0.5998394 ,  0.04727831, -0.57018671, ..., -0.67906259,\n",
       "         -0.55403469,  1.22296203]]),\n",
       " array([ 4.56636513e+00,  4.00448405e+00,  4.00448405e+00,  3.98575468e+00,\n",
       "         3.55497918e+00,  3.25530927e+00,  2.88072189e+00,  2.88072189e+00,\n",
       "         2.73088693e+00,  2.69342819e+00,  2.69342819e+00,  2.62974834e+00,\n",
       "         2.43121702e+00,  2.39375829e+00,  2.39375829e+00,  2.31884081e+00,\n",
       "         2.31884081e+00,  2.24392333e+00,  2.20646459e+00,  2.18773522e+00,\n",
       "         2.13154711e+00,  2.09408838e+00,  2.07535901e+00,  2.07535901e+00,\n",
       "         2.03790027e+00,  2.01917090e+00,  1.97796629e+00,  1.94425342e+00,\n",
       "         1.94425342e+00,  1.94425342e+00,  1.94425342e+00,  1.94425342e+00,\n",
       "         1.88806531e+00,  1.83187721e+00,  1.79441847e+00,  1.77351649e+00,\n",
       "         1.75321385e+00,  1.71950099e+00,  1.71013630e+00,  1.68204225e+00,\n",
       "         1.66331288e+00,  1.64458351e+00,  1.56966604e+00,  1.56966604e+00,\n",
       "         1.49474856e+00,  1.49474856e+00,  1.47601919e+00,  1.45728982e+00,\n",
       "         1.43856045e+00,  1.41983108e+00,  1.41983108e+00,  1.41983108e+00,\n",
       "         1.38237234e+00,  1.38237234e+00,  1.38237234e+00,  1.38237234e+00,\n",
       "         1.37862647e+00,  1.32618423e+00,  1.30745486e+00,  1.30745486e+00,\n",
       "         1.26999613e+00,  1.23253739e+00,  1.23253739e+00,  1.21380802e+00,\n",
       "         1.19507865e+00,  1.15761991e+00,  1.15761991e+00,  1.13889054e+00,\n",
       "         1.12016117e+00,  1.08270243e+00,  1.08270243e+00,  1.06397306e+00,\n",
       "         1.04524369e+00,  1.02651432e+00,  1.00778496e+00,  1.00778496e+00,\n",
       "         1.00778496e+00,  1.00778496e+00,  1.00778496e+00,  1.00778496e+00,\n",
       "         9.96547334e-01,  9.89055586e-01,  9.89055586e-01,  9.70326217e-01,\n",
       "         9.32867478e-01,  9.32867478e-01,  9.32867478e-01,  9.14138109e-01,\n",
       "         9.14138109e-01,  8.95408740e-01,  8.95408740e-01,  8.84171118e-01,\n",
       "         8.76679370e-01,  8.20491262e-01,  8.20491262e-01,  8.20491262e-01,\n",
       "         8.20491262e-01,  8.20491262e-01,  8.16745389e-01,  8.01761893e-01,\n",
       "         7.83032524e-01,  7.83032524e-01,  7.64303154e-01,  7.64303154e-01,\n",
       "         7.64303154e-01,  7.45573785e-01,  7.45573785e-01,  7.26844416e-01,\n",
       "         7.17479731e-01,  7.08115046e-01,  7.08115046e-01,  7.08115046e-01,\n",
       "         7.04369173e-01,  7.04369173e-01,  6.70656308e-01,  6.70656308e-01,\n",
       "         6.70656308e-01,  6.33197569e-01,  6.33197569e-01,  6.33197569e-01,\n",
       "         6.33197569e-01,  6.33197569e-01,  6.33197569e-01,  6.33197569e-01,\n",
       "         6.33197569e-01,  6.29451695e-01,  5.95738831e-01,  5.95738831e-01,\n",
       "         5.91992957e-01,  5.91992957e-01,  5.88247083e-01,  5.58280092e-01,\n",
       "         5.58280092e-01,  5.58280092e-01,  5.54534218e-01,  5.39550723e-01,\n",
       "         5.20821353e-01,  5.20821353e-01,  5.20821353e-01,  5.20821353e-01,\n",
       "         5.20821353e-01,  4.73997930e-01,  4.45903876e-01,  4.45903876e-01,\n",
       "         4.45903876e-01,  4.45903876e-01,  4.45903876e-01,  4.45903876e-01,\n",
       "         4.45903876e-01,  4.45903876e-01,  4.45903876e-01,  4.27174507e-01,\n",
       "         4.27174507e-01,  4.08445137e-01,  4.08445137e-01,  4.08445137e-01,\n",
       "         4.04699264e-01,  3.89715768e-01,  3.89715768e-01,  3.70986399e-01,\n",
       "         3.70986399e-01,  3.70986399e-01,  3.70986399e-01,  3.52257029e-01,\n",
       "         3.33527660e-01,  3.29781786e-01,  2.96068921e-01,  2.77339552e-01,\n",
       "         2.58610183e-01,  2.58610183e-01,  2.58610183e-01,  2.58610183e-01,\n",
       "         2.58610183e-01,  2.58610183e-01,  2.58610183e-01,  2.58610183e-01,\n",
       "         2.58610183e-01,  2.54864309e-01,  2.47372561e-01,  2.39880814e-01,\n",
       "         2.39880814e-01,  2.39880814e-01,  2.02422075e-01,  2.02422075e-01,\n",
       "         1.83692706e-01,  1.83692706e-01,  1.83692706e-01,  1.83692706e-01,\n",
       "         1.64963336e-01,  1.46233967e-01,  1.46233967e-01,  1.46233967e-01,\n",
       "         1.46233967e-01,  1.42488093e-01,  1.27504598e-01,  1.08775228e-01,\n",
       "         1.08775228e-01,  1.01283481e-01,  9.00458590e-02,  7.50623635e-02,\n",
       "         7.13164897e-02,  7.13164897e-02,  7.13164897e-02,  7.13164897e-02,\n",
       "         7.13164897e-02,  7.13164897e-02,  7.13164897e-02,  7.13164897e-02,\n",
       "         7.13164897e-02,  7.13164897e-02,  7.13164897e-02,  7.13164897e-02,\n",
       "         6.75706158e-02,  6.75706158e-02,  5.25871204e-02,  3.38577510e-02,\n",
       "         3.38577510e-02,  3.38577510e-02,  3.38577510e-02,  1.51283817e-02,\n",
       "         1.51283817e-02,  1.44886277e-04, -3.60098759e-03, -3.60098759e-03,\n",
       "        -3.60098759e-03, -7.34686145e-03, -4.10597262e-02, -4.10597262e-02,\n",
       "        -4.10597262e-02, -4.10597262e-02, -4.10597262e-02, -4.10597262e-02,\n",
       "        -5.97890955e-02, -7.85184649e-02, -7.85184649e-02, -7.85184649e-02,\n",
       "        -7.85184649e-02, -7.85184649e-02, -8.22643387e-02, -9.72478342e-02,\n",
       "        -9.72478342e-02, -1.15977203e-01, -1.15977203e-01, -1.15977203e-01,\n",
       "        -1.15977203e-01, -1.15977203e-01, -1.15977203e-01, -1.15977203e-01,\n",
       "        -1.19723077e-01, -1.19723077e-01, -1.34706573e-01, -1.34706573e-01,\n",
       "        -1.34706573e-01, -1.34706573e-01, -1.53435942e-01, -1.53435942e-01,\n",
       "        -1.53435942e-01, -1.53435942e-01, -1.53435942e-01, -1.57181816e-01,\n",
       "        -1.57181816e-01, -1.57181816e-01, -1.72165311e-01, -1.90894681e-01,\n",
       "        -1.90894681e-01, -1.94640555e-01, -1.94640555e-01, -1.94640555e-01,\n",
       "        -2.05878176e-01, -2.09624050e-01, -2.28353419e-01, -2.28353419e-01,\n",
       "        -2.28353419e-01, -2.28353419e-01, -2.28353419e-01, -2.39591041e-01,\n",
       "        -2.47082789e-01, -2.47082789e-01, -2.62066284e-01, -2.65812158e-01,\n",
       "        -2.65812158e-01, -2.65812158e-01, -2.65812158e-01, -2.65812158e-01,\n",
       "        -2.65812158e-01, -2.84541527e-01, -2.84541527e-01, -3.03270897e-01,\n",
       "        -3.03270897e-01, -3.03270897e-01, -3.03270897e-01, -3.03270897e-01,\n",
       "        -3.03270897e-01, -3.03270897e-01, -3.03270897e-01, -3.03270897e-01,\n",
       "        -3.03270897e-01, -3.03270897e-01, -3.03270897e-01, -3.03270897e-01,\n",
       "        -3.03270897e-01, -3.03270897e-01, -3.03270897e-01, -3.03270897e-01,\n",
       "        -3.07016771e-01, -3.07016771e-01, -3.22000266e-01, -3.22000266e-01,\n",
       "        -3.22000266e-01, -3.40729635e-01, -3.40729635e-01, -3.44475509e-01,\n",
       "        -3.57586068e-01, -3.59459005e-01, -3.59459005e-01, -3.59459005e-01,\n",
       "        -3.78188374e-01, -3.78188374e-01, -3.78188374e-01, -3.78188374e-01,\n",
       "        -3.78188374e-01, -3.96917743e-01, -3.96917743e-01, -3.96917743e-01,\n",
       "        -4.06282428e-01, -4.06282428e-01, -4.15647113e-01, -4.15647113e-01,\n",
       "        -4.15647113e-01, -4.15647113e-01, -4.15647113e-01, -4.53105851e-01,\n",
       "        -4.53105851e-01, -4.53105851e-01, -4.53105851e-01, -4.53105851e-01,\n",
       "        -4.53105851e-01, -4.53105851e-01, -4.71835221e-01, -4.71835221e-01,\n",
       "        -4.90564590e-01, -4.90564590e-01, -4.90564590e-01, -4.90564590e-01,\n",
       "        -4.90564590e-01, -4.90564590e-01, -4.90564590e-01, -4.98056338e-01,\n",
       "        -5.09293959e-01, -5.28023328e-01, -5.28023328e-01, -5.28023328e-01,\n",
       "        -5.28023328e-01, -5.28023328e-01, -5.28023328e-01, -5.31769202e-01,\n",
       "        -5.31769202e-01, -5.31769202e-01, -5.46752698e-01, -5.65482067e-01,\n",
       "        -5.65482067e-01, -5.65482067e-01, -5.65482067e-01, -5.65482067e-01,\n",
       "        -5.69227941e-01, -5.69227941e-01, -5.84211436e-01, -5.84211436e-01,\n",
       "        -5.84211436e-01, -5.84211436e-01, -6.02940806e-01, -6.02940806e-01,\n",
       "        -6.02940806e-01, -6.02940806e-01, -6.02940806e-01, -6.02940806e-01,\n",
       "        -6.02940806e-01, -6.02940806e-01, -6.02940806e-01, -6.06686680e-01,\n",
       "        -6.21670175e-01, -6.21670175e-01, -6.40399544e-01, -6.40399544e-01,\n",
       "        -6.40399544e-01, -6.40399544e-01, -6.59128914e-01, -6.77858283e-01,\n",
       "        -6.77858283e-01, -6.77858283e-01, -6.77858283e-01, -6.77858283e-01,\n",
       "        -6.77858283e-01, -6.77858283e-01, -6.77858283e-01, -6.77858283e-01,\n",
       "        -6.77858283e-01, -6.77858283e-01, -6.77858283e-01, -6.77858283e-01,\n",
       "        -6.77858283e-01, -6.77858283e-01, -6.77858283e-01, -6.77858283e-01,\n",
       "        -6.81604157e-01, -6.96587652e-01, -6.96587652e-01, -6.96587652e-01,\n",
       "        -7.15317022e-01, -7.15317022e-01, -7.15317022e-01, -7.15317022e-01,\n",
       "        -7.15317022e-01, -7.15317022e-01, -7.19062896e-01, -7.34046391e-01,\n",
       "        -7.34046391e-01, -7.34046391e-01, -7.52775760e-01, -7.52775760e-01,\n",
       "        -7.52775760e-01, -7.52775760e-01, -7.52775760e-01, -7.52775760e-01,\n",
       "        -7.52775760e-01, -7.52775760e-01, -7.56521634e-01, -7.67759256e-01,\n",
       "        -7.71505130e-01, -7.71505130e-01, -7.90234499e-01, -7.90234499e-01,\n",
       "        -7.90234499e-01, -7.90234499e-01, -7.90234499e-01, -7.90234499e-01,\n",
       "        -7.90234499e-01, -7.90234499e-01, -8.08963868e-01, -8.08963868e-01,\n",
       "        -8.20201490e-01, -8.27693238e-01, -8.27693238e-01, -8.27693238e-01,\n",
       "        -8.27693238e-01, -8.65151976e-01, -8.65151976e-01, -8.65151976e-01,\n",
       "        -8.65151976e-01, -8.65151976e-01, -8.65151976e-01, -8.65151976e-01,\n",
       "        -8.65151976e-01, -8.65151976e-01, -8.68897850e-01, -8.76389598e-01,\n",
       "        -8.81821115e-01, -8.83881346e-01, -8.83881346e-01, -8.83881346e-01,\n",
       "        -8.98864841e-01, -9.02610715e-01, -9.02610715e-01, -9.02610715e-01,\n",
       "        -9.02610715e-01, -9.21340084e-01, -9.40069453e-01, -9.40069453e-01,\n",
       "        -9.40069453e-01, -9.40069453e-01, -9.40069453e-01, -9.40069453e-01,\n",
       "        -9.40069453e-01, -9.43815327e-01, -9.58798823e-01, -9.66290571e-01,\n",
       "        -9.77528192e-01, -9.77528192e-01, -9.77528192e-01, -9.77528192e-01,\n",
       "        -9.77528192e-01, -9.77528192e-01, -9.77528192e-01, -9.77528192e-01,\n",
       "        -1.01498693e+00, -1.01498693e+00, -1.01498693e+00, -1.01498693e+00,\n",
       "        -1.02435162e+00, -1.03371630e+00, -1.03371630e+00, -1.03371630e+00,\n",
       "        -1.05244567e+00, -1.05244567e+00, -1.08990441e+00, -1.08990441e+00,\n",
       "        -1.10863378e+00, -1.12736315e+00, -1.12736315e+00, -1.12736315e+00,\n",
       "        -1.12736315e+00, -1.12736315e+00, -1.12736315e+00, -1.12736315e+00,\n",
       "        -1.13110902e+00, -1.13110902e+00, -1.15733014e+00, -1.16482189e+00,\n",
       "        -1.16482189e+00, -1.16482189e+00, -1.20228062e+00, -1.20228062e+00,\n",
       "        -1.20228062e+00, -1.22100999e+00, -1.22100999e+00, -1.23973936e+00,\n",
       "        -1.23973936e+00, -1.23973936e+00, -1.23973936e+00, -1.23973936e+00,\n",
       "        -1.23973936e+00, -1.26221461e+00, -1.27719810e+00, -1.27719810e+00,\n",
       "        -1.27719810e+00, -1.29592747e+00, -1.31465684e+00, -1.33338621e+00,\n",
       "        -1.33338621e+00, -1.33338621e+00, -1.35211558e+00, -1.35586145e+00,\n",
       "        -1.40830369e+00, -1.42703306e+00, -1.42703306e+00, -1.42703306e+00,\n",
       "        -1.50195053e+00, -1.53940927e+00, -1.53940927e+00, -1.55813864e+00,\n",
       "        -1.57686801e+00, -1.60514936e+00, -1.61432675e+00, -1.61432675e+00,\n",
       "        -1.61432675e+00]))"
      ]
     },
     "execution_count": null,
     "metadata": {},
     "output_type": "execute_result"
    }
   ],
   "source": [
    "X, y"
   ]
  },
  {
   "cell_type": "markdown",
   "metadata": {},
   "source": [
    "## 7. Split train set and test set"
   ]
  },
  {
   "cell_type": "code",
   "execution_count": null,
   "metadata": {},
   "outputs": [],
   "source": [
    "test_size = 0.3\n",
    "random_state = 1\n",
    "is_shuffle = True\n",
    "X_train, X_val, y_train, y_val = train_test_split(\n",
    "    X, y, test_size=test_size, random_state=random_state, shuffle=is_shuffle)"
   ]
  },
  {
   "cell_type": "markdown",
   "metadata": {},
   "source": [
    "## 8. Train the models"
   ]
  },
  {
   "cell_type": "markdown",
   "metadata": {},
   "source": [
    "### Decision tree"
   ]
  },
  {
   "cell_type": "code",
   "execution_count": null,
   "metadata": {},
   "outputs": [
    {
     "data": {
      "text/plain": [
       "DecisionTreeRegressor(random_state=1)"
      ]
     },
     "execution_count": null,
     "metadata": {},
     "output_type": "execute_result"
    }
   ],
   "source": [
    "regressor_dt = DecisionTreeRegressor(random_state=random_state)\n",
    "regressor_dt.fit(X_train, y_train)"
   ]
  },
  {
   "cell_type": "markdown",
   "metadata": {},
   "source": [
    "### Random forest"
   ]
  },
  {
   "cell_type": "code",
   "execution_count": null,
   "metadata": {},
   "outputs": [
    {
     "data": {
      "text/plain": [
       "RandomForestRegressor(random_state=1)"
      ]
     },
     "execution_count": null,
     "metadata": {},
     "output_type": "execute_result"
    }
   ],
   "source": [
    "regressor_rf = RandomForestRegressor(random_state=random_state)\n",
    "regressor_rf.fit(X_train, y_train)"
   ]
  },
  {
   "cell_type": "markdown",
   "metadata": {},
   "source": [
    "### AdaBoost"
   ]
  },
  {
   "cell_type": "code",
   "execution_count": null,
   "metadata": {},
   "outputs": [
    {
     "data": {
      "text/plain": [
       "AdaBoostRegressor(random_state=1)"
      ]
     },
     "execution_count": null,
     "metadata": {},
     "output_type": "execute_result"
    }
   ],
   "source": [
    "from sklearn.ensemble import AdaBoostRegressor\n",
    "\n",
    "\n",
    "regressor_ab = AdaBoostRegressor(random_state=random_state)\n",
    "regressor_ab.fit(X_train, y_train)"
   ]
  },
  {
   "cell_type": "markdown",
   "metadata": {},
   "source": [
    "### Gradient Boosting"
   ]
  },
  {
   "cell_type": "code",
   "execution_count": null,
   "metadata": {},
   "outputs": [
    {
     "data": {
      "text/plain": [
       "GradientBoostingRegressor(random_state=1)"
      ]
     },
     "execution_count": null,
     "metadata": {},
     "output_type": "execute_result"
    }
   ],
   "source": [
    "from sklearn.ensemble import GradientBoostingRegressor\n",
    "\n",
    "\n",
    "regressor_gb = GradientBoostingRegressor(random_state=random_state)\n",
    "regressor_gb.fit(X_train, y_train)"
   ]
  },
  {
   "cell_type": "markdown",
   "metadata": {},
   "source": [
    "## 9. Evaluate the models"
   ]
  },
  {
   "cell_type": "code",
   "execution_count": null,
   "metadata": {},
   "outputs": [],
   "source": [
    "names = ['Decision Tree', 'RandomForest', 'AdaBoost', 'Gradient Boosting']\n",
    "regressors = regressor_dt, regressor_rf, regressor_ab, regressor_gb\n",
    "mae, mse = [], []\n",
    "for regressor in regressors:\n",
    "    y_pred = regressor.predict(X_val)\n",
    "    mae.append(mean_absolute_error(y_val, y_pred))\n",
    "    mse.append(mean_squared_error(y_val, y_pred))"
   ]
  },
  {
   "cell_type": "code",
   "execution_count": null,
   "metadata": {},
   "outputs": [],
   "source": [
    "import seaborn as sns"
   ]
  },
  {
   "cell_type": "code",
   "execution_count": null,
   "metadata": {},
   "outputs": [
    {
     "data": {
      "image/png": "[encoded data removed]",
      "text/plain": [
       "<Figure size 1000x600 with 1 Axes>"
      ]
     },
     "metadata": {},
     "output_type": "display_data"
    }
   ],
   "source": [
    "metrics = pd.DataFrame([mae, mse], columns=names, index=['MAE', 'MSE'])\n",
    "df_melted = metrics.reset_index().melt(\n",
    "    id_vars='index', var_name='Model', value_name='Value')\n",
    "\n",
    "plt.figure(figsize=(10, 6))\n",
    "ax = sns.barplot(x='index', y='Value', hue='Model', data=df_melted)\n",
    "\n",
    "plt.xlabel('Metric')\n",
    "plt.ylabel('Normalized value')\n",
    "plt.title('Comparison of Models by MAE and MSE')\n",
    "\n",
    "for p in ax.patches:\n",
    "    ax.annotate(format(p.get_height(), '.4f'),\n",
    "                (p.get_x() + p.get_width() / 2., p.get_height()),\n",
    "                ha='center', va='center',\n",
    "                xytext=(0, 9),\n",
    "                textcoords='offset points')\n",
    "\n",
    "plt.show()"
   ]
  }
 ],
 "metadata": {
  "kernelspec": {
   "display_name": "Python 3",
   "language": "python",
   "name": "python3"
  },
  "language_info": {
   "codemirror_mode": {
    "name": "ipython",
    "version": 3
   },
   "file_extension": ".py",
   "mimetype": "text/x-python",
   "name": "python",
   "nbconvert_exporter": "python",
   "pygments_lexer": "ipython3",
   "version": "3.8.10"
  }
 },
 "nbformat": 4,
 "nbformat_minor": 2
}
