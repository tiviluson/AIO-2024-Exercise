{
 "cells": [
  {
   "cell_type": "markdown",
   "metadata": {},
   "source": [
    "# Linear regression (September 28th, 2024)"
   ]
  },
  {
   "cell_type": "code",
   "execution_count": null,
   "metadata": {},
   "outputs": [],
   "source": [
    "!gdown -cq 1FdydikIZfRaENz3CLaZT24Deyc4KvZO3"
   ]
  },
  {
   "cell_type": "markdown",
   "metadata": {},
   "source": [
    "## Question 1: Read and Preprocess dataset"
   ]
  },
  {
   "cell_type": "code",
   "execution_count": null,
   "metadata": {},
   "outputs": [],
   "source": [
    "# dataset\n",
    "import numpy as np\n",
    "import matplotlib.pyplot as plt\n",
    "import random\n",
    "\n",
    "\n",
    "def get_column(data, index):\n",
    "    # your code here ****************************\n",
    "    result = [line[index] for line in data]\n",
    "    return result\n",
    "\n",
    "\n",
    "def prepare_data(file_name_dataset):\n",
    "    data = np.genfromtxt(file_name_dataset, delimiter=',',\n",
    "                         skip_header=1).tolist()\n",
    "    N = len(data)\n",
    "\n",
    "    # get tv(index=0)\n",
    "    tv_data = get_column(data, 0)\n",
    "\n",
    "    # get radio(index=1)\n",
    "    radio_data = get_column(data, 1)\n",
    "\n",
    "    # get newspaper(index=2)\n",
    "    newspaper_data = get_column(data, 2)\n",
    "\n",
    "    # get sales(index=3)\n",
    "    sales_data = get_column(data, 3)\n",
    "\n",
    "    # building X input and y output for training\n",
    "    X = [tv_data, radio_data, newspaper_data]\n",
    "    y = sales_data\n",
    "    return X, y"
   ]
  },
  {
   "cell_type": "code",
   "execution_count": null,
   "metadata": {},
   "outputs": [
    {
     "name": "stdout",
     "output_type": "stream",
     "text": [
      "[624.1, 175.10000000000002, 300.5, 78.9]\n"
     ]
    }
   ],
   "source": [
    "X, y = prepare_data('advertising.csv')\n",
    "list_ = [sum(X[0][:5]), sum(X[1][:5]), sum(X[2][:5]), sum(y[:5])]\n",
    "print(list_)"
   ]
  },
  {
   "cell_type": "markdown",
   "metadata": {},
   "source": [
    "## Quetion 2: Linear regression with one data point"
   ]
  },
  {
   "cell_type": "code",
   "execution_count": null,
   "metadata": {},
   "outputs": [],
   "source": [
    "# def initialize_params():\n",
    "#     w1 = random.gauss(mu=0.0, sigma=0.01)\n",
    "#     w2 = random.gauss(mu=0.0, sigma=0.01)\n",
    "#     w3 = random.gauss(mu=0.0, sigma=0.01)\n",
    "#     b = 0\n",
    "#     return w1, w2, w3, b\n",
    "\n",
    "\n",
    "def initialize_params():\n",
    "    w1, w2, w3, b = (0.016992259082509283, 0.0070783670518262355,\n",
    "                     -0.002307860847821344, 0)\n",
    "    return w1, w2, w3, b\n",
    "\n",
    "\n",
    "def predict(x1, x2, x3, w1, w2, w3, b):\n",
    "    # your code here ****************************\n",
    "    result = w1*x1 + w2*x2 + w3*x3 + b\n",
    "    return result"
   ]
  },
  {
   "cell_type": "code",
   "execution_count": null,
   "metadata": {},
   "outputs": [
    {
     "name": "stdout",
     "output_type": "stream",
     "text": [
      "1.0\n"
     ]
    }
   ],
   "source": [
    "y = predict(x1=1, x2=1, x3=1, w1=0, w2=0.5, w3=0, b=0.5)\n",
    "print(y)"
   ]
  },
  {
   "cell_type": "code",
   "execution_count": null,
   "metadata": {},
   "outputs": [],
   "source": [
    "def compute_loss(y_hat, y):\n",
    "    # your code here ****************************\n",
    "    loss = (y_hat - y)**2\n",
    "    return loss"
   ]
  },
  {
   "cell_type": "code",
   "execution_count": null,
   "metadata": {},
   "outputs": [
    {
     "name": "stdout",
     "output_type": "stream",
     "text": [
      "0.25\n"
     ]
    }
   ],
   "source": [
    "l = compute_loss(y_hat=1, y=0.5)\n",
    "print(l)"
   ]
  },
  {
   "cell_type": "code",
   "execution_count": null,
   "metadata": {},
   "outputs": [],
   "source": [
    "# compute gradient\n",
    "def compute_gradient_wi(xi, y, y_hat):\n",
    "    # your code here ****************************\n",
    "    dl_dwi = 2*xi*(y_hat - y)\n",
    "    return dl_dwi\n",
    "\n",
    "\n",
    "def compute_gradient_b(y, y_hat):\n",
    "    # your code here ****************************\n",
    "    dl_db = 2*(y_hat - y)\n",
    "    return dl_db"
   ]
  },
  {
   "cell_type": "code",
   "execution_count": null,
   "metadata": {},
   "outputs": [
    {
     "name": "stdout",
     "output_type": "stream",
     "text": [
      "-1.0\n"
     ]
    }
   ],
   "source": [
    "# MSE loss\n",
    "g_wi = compute_gradient_wi(xi=1.0, y=1.0, y_hat=0.5)\n",
    "print(g_wi)"
   ]
  },
  {
   "cell_type": "code",
   "execution_count": null,
   "metadata": {},
   "outputs": [
    {
     "name": "stdout",
     "output_type": "stream",
     "text": [
      "-3.0\n"
     ]
    }
   ],
   "source": [
    "g_b = compute_gradient_b(y=2.0, y_hat=0.5)\n",
    "print(g_b)"
   ]
  },
  {
   "cell_type": "code",
   "execution_count": null,
   "metadata": {},
   "outputs": [],
   "source": [
    "# update weights\n",
    "def update_weight_wi(wi, dl_dwi, lr):\n",
    "    # your code here ****************************\n",
    "    wi = wi - lr*dl_dwi\n",
    "    return wi\n",
    "\n",
    "\n",
    "def update_weight_b(b, dl_db, lr):\n",
    "    # your code here ****************************\n",
    "    b = b - lr*dl_db\n",
    "    return b"
   ]
  },
  {
   "cell_type": "code",
   "execution_count": null,
   "metadata": {},
   "outputs": [
    {
     "name": "stdout",
     "output_type": "stream",
     "text": [
      "1.000005\n"
     ]
    }
   ],
   "source": [
    "after_wi = update_weight_wi(wi=1.0, dl_dwi=-0.5, lr=1e-5)\n",
    "print(after_wi)"
   ]
  },
  {
   "cell_type": "code",
   "execution_count": null,
   "metadata": {},
   "outputs": [
    {
     "name": "stdout",
     "output_type": "stream",
     "text": [
      "0.50001\n",
      "1.000005\n"
     ]
    }
   ],
   "source": [
    "after_b = update_weight_b(b=0.5, dl_db=-1.0, lr=1e-5)\n",
    "print(after_b)\n",
    "print(after_wi)"
   ]
  },
  {
   "cell_type": "code",
   "execution_count": null,
   "metadata": {},
   "outputs": [],
   "source": [
    "def implement_linear_regression(X_data, y_data, epoch_max=50, lr=1e-5):\n",
    "    losses = []\n",
    "\n",
    "    w1, w2, w3, b = initialize_params()\n",
    "\n",
    "    N = len(y_data)\n",
    "    for epoch in range(epoch_max):\n",
    "        for i in range(N):\n",
    "            # get a sample\n",
    "            x1 = X_data[0][i]\n",
    "            x2 = X_data[1][i]\n",
    "            x3 = X_data[2][i]\n",
    "\n",
    "            y = y_data[i]\n",
    "\n",
    "            # compute output\n",
    "            y_hat = predict(x1, x2, x3, w1, w2, w3, b)\n",
    "            # print(y_hat, x1, x2, x3, w1, w2, w3, b)\n",
    "\n",
    "            # compute loss\n",
    "            loss = compute_loss(y, y_hat)\n",
    "\n",
    "            # compute gradient w1, w2, w3, b\n",
    "            dl_dw1 = compute_gradient_wi(x1, y, y_hat)\n",
    "            dl_dw2 = compute_gradient_wi(x2, y, y_hat)\n",
    "            dl_dw3 = compute_gradient_wi(x3, y, y_hat)\n",
    "            dl_db = compute_gradient_b(y, y_hat)\n",
    "\n",
    "            # update parameters\n",
    "            w1 = update_weight_wi(w1, dl_dw1, lr)\n",
    "            w2 = update_weight_wi(w2, dl_dw2, lr)\n",
    "            w3 = update_weight_wi(w3, dl_dw3, lr)\n",
    "            b = update_weight_b(b, dl_db, lr)\n",
    "\n",
    "            # logging\n",
    "            losses.append(loss)\n",
    "    return (w1, w2, w3, b, losses)"
   ]
  },
  {
   "cell_type": "code",
   "execution_count": null,
   "metadata": {},
   "outputs": [
    {
     "data": {
      "image/png": "[encoded data removed]",
      "text/plain": [
       "<Figure size 640x480 with 1 Axes>"
      ]
     },
     "metadata": {},
     "output_type": "display_data"
    }
   ],
   "source": [
    "X, y = prepare_data('advertising.csv')\n",
    "(w1, w2, w3, b, losses) = implement_linear_regression(X, y)\n",
    "plt.plot(losses[:100])\n",
    "plt.xlabel(\"# iterations\")\n",
    "plt.ylabel(\"Loss\")\n",
    "plt.show()"
   ]
  },
  {
   "cell_type": "code",
   "execution_count": null,
   "metadata": {},
   "outputs": [
    {
     "name": "stdout",
     "output_type": "stream",
     "text": [
      "0.07405984066396477 0.15917360263437663 0.017561197559948935\n"
     ]
    }
   ],
   "source": [
    "X, y = prepare_data('advertising.csv')\n",
    "(w1, w2, w3, b, losses) = implement_linear_regression(X, y)\n",
    "print(w1, w2, w3)"
   ]
  },
  {
   "cell_type": "code",
   "execution_count": null,
   "metadata": {},
   "outputs": [
    {
     "name": "stdout",
     "output_type": "stream",
     "text": [
      "predicted sales is8.176413319549823\n"
     ]
    }
   ],
   "source": [
    "# given new data\n",
    "tv = 19.2\n",
    "radio = 35.9\n",
    "newspaper = 51.3\n",
    "X, y = prepare_data('advertising.csv')\n",
    "(w1, w2, w3, b, losses) = implement_linear_regression(X, y, epoch_max=50, lr=1e-5)\n",
    "sales = predict(tv, radio, newspaper, w1, w2, w3, b)\n",
    "print(f'predicted sales is {sales}')"
   ]
  },
  {
   "cell_type": "code",
   "execution_count": null,
   "metadata": {},
   "outputs": [],
   "source": [
    "def compute_loss_mae(y_hat, y):\n",
    "    # your code here ****************************\n",
    "    loss = abs(y_hat - y)\n",
    "    return loss"
   ]
  },
  {
   "cell_type": "code",
   "execution_count": null,
   "metadata": {},
   "outputs": [
    {
     "name": "stdout",
     "output_type": "stream",
     "text": [
      "0.5\n"
     ]
    }
   ],
   "source": [
    "l = compute_loss_mae(y_hat=1, y=0.5)\n",
    "print(l)"
   ]
  },
  {
   "cell_type": "markdown",
   "metadata": {},
   "source": [
    "## Question 3: Mini-batch training"
   ]
  },
  {
   "cell_type": "code",
   "execution_count": null,
   "metadata": {},
   "outputs": [],
   "source": [
    "def compute_loss_mse(y_hat, y):\n",
    "    # your code here ****************************\n",
    "    loss = (y_hat - y)**2\n",
    "    return loss"
   ]
  },
  {
   "cell_type": "code",
   "execution_count": null,
   "metadata": {},
   "outputs": [],
   "source": [
    "def implement_linear_regression_nsamples(X_data, y_data, epoch_max=50, lr=1e-5):\n",
    "    losses = []\n",
    "\n",
    "    w1, w2, w3, b = initialize_params()\n",
    "    # w1, w2, w3, b = 0, 0, 0, 0\n",
    "\n",
    "    N = len(y_data)\n",
    "\n",
    "    for epoch in range(epoch_max):\n",
    "\n",
    "        loss_total = 0.0\n",
    "        dw1_total = 0.0\n",
    "        dw2_total = 0.0\n",
    "        dw3_total = 0.0\n",
    "        db_total = 0.0\n",
    "\n",
    "        for i in range(N):\n",
    "            # get a sample\n",
    "            x1 = X_data[0][i]\n",
    "            x2 = X_data[1][i]\n",
    "            x3 = X_data[2][i]\n",
    "\n",
    "            y = y_data[i]\n",
    "\n",
    "            # compute output\n",
    "            y_hat = predict(x1, x2, x3, w1, w2, w3, b)\n",
    "\n",
    "            # compute loss\n",
    "            loss = compute_loss_mse(y, y_hat)\n",
    "\n",
    "            # accumulate loss\n",
    "            # your code here **************\n",
    "            loss_total += loss\n",
    "\n",
    "            # compute gradient w1, w2, w3, b\n",
    "            dl_dw1 = compute_gradient_wi(x1, y, y_hat)\n",
    "            dl_dw2 = compute_gradient_wi(x2, y, y_hat)\n",
    "            dl_dw3 = compute_gradient_wi(x3, y, y_hat)\n",
    "            dl_db = compute_gradient_b(y, y_hat)\n",
    "\n",
    "            # accumulate gradient w1, w2, w3, b\n",
    "\n",
    "            # your code here **************\n",
    "            dw1_total += dl_dw1\n",
    "            dw2_total += dl_dw2\n",
    "            dw3_total += dl_dw3\n",
    "            db_total += dl_db\n",
    "\n",
    "        # (after processing N samples) - update parameters\n",
    "\n",
    "        # your code here **************\n",
    "        w1 = update_weight_wi(w1, dw1_total/N, lr)\n",
    "        w2 = update_weight_wi(w2, dw2_total/N, lr)\n",
    "        w3 = update_weight_wi(w3, dw3_total/N, lr)\n",
    "        b = update_weight_b(b, db_total/N, lr)\n",
    "\n",
    "        # logging\n",
    "        losses.append(loss_total/N)\n",
    "    return (w1, w2, w3, b, losses)"
   ]
  },
  {
   "cell_type": "code",
   "execution_count": null,
   "metadata": {},
   "outputs": [
    {
     "data": {
      "image/png": "[encoded data removed]",
      "text/plain": [
       "<Figure size 640x480 with 1 Axes>"
      ]
     },
     "metadata": {},
     "output_type": "display_data"
    }
   ],
   "source": [
    "X, y = prepare_data('advertising.csv')\n",
    "(w1, w2, w3, b, losses) = implement_linear_regression_nsamples(X, y,\n",
    "                                                               epoch_max=1000,\n",
    "                                                               lr=1e-5)\n",
    "plt.plot(losses)\n",
    "plt.xlabel(\"# epoch\")\n",
    "plt.ylabel(\"MSE Loss\")\n",
    "plt.show()"
   ]
  },
  {
   "cell_type": "code",
   "execution_count": null,
   "metadata": {},
   "outputs": [
    {
     "name": "stdout",
     "output_type": "stream",
     "text": [
      "0.06710990754044266 0.15756173831487585 0.029619799386084403\n"
     ]
    }
   ],
   "source": [
    "X, y = prepare_data('advertising.csv')\n",
    "# using MSE loss\n",
    "(w1, w2, w3, b, losses) = implement_linear_regression_nsamples(X, y,\n",
    "                                                               epoch_max=1000,\n",
    "                                                               lr=1e-5)\n",
    "print(w1, w2, w3)"
   ]
  },
  {
   "cell_type": "code",
   "execution_count": null,
   "metadata": {},
   "outputs": [],
   "source": [
    "def implement_linear_regression_nsamples_mae(X_data, y_data, epoch_max=50, lr=1e-5):\n",
    "    def compute_loss(y_hat, y):\n",
    "        # your code here ****************************\n",
    "        loss = abs(y_hat - y)\n",
    "        return loss\n",
    "\n",
    "    def compute_gradient_wi(xi, y, y_hat):\n",
    "        # your code here ****************************\n",
    "        dl_dwi = 0 if y_hat == y else xi*(y_hat - y)/abs(y_hat - y)\n",
    "        return dl_dwi\n",
    "\n",
    "    def compute_gradient_b(y, y_hat):\n",
    "        # your code here ****************************\n",
    "        dl_db = 0 if y_hat == y else (y_hat - y)/abs(y_hat - y)\n",
    "        return dl_db\n",
    "\n",
    "    losses = []\n",
    "\n",
    "    w1, w2, w3, b = initialize_params()\n",
    "    # w1, w2, w3, b = 0, 0, 0, 0\n",
    "\n",
    "    N = len(y_data)\n",
    "\n",
    "    for epoch in range(epoch_max):\n",
    "\n",
    "        loss_total = 0.0\n",
    "        dw1_total = 0.0\n",
    "        dw2_total = 0.0\n",
    "        dw3_total = 0.0\n",
    "        db_total = 0.0\n",
    "\n",
    "        for i in range(N):\n",
    "            # get a sample\n",
    "            x1 = X_data[0][i]\n",
    "            x2 = X_data[1][i]\n",
    "            x3 = X_data[2][i]\n",
    "\n",
    "            y = y_data[i]\n",
    "\n",
    "            # compute output\n",
    "            y_hat = predict(x1, x2, x3, w1, w2, w3, b)\n",
    "\n",
    "            # compute loss\n",
    "            loss = compute_loss(y, y_hat)\n",
    "\n",
    "            # accumulate loss\n",
    "            # your code here **************\n",
    "            loss_total += loss\n",
    "\n",
    "            # compute gradient w1, w2, w3, b\n",
    "            dl_dw1 = compute_gradient_wi(x1, y, y_hat)\n",
    "            dl_dw2 = compute_gradient_wi(x2, y, y_hat)\n",
    "            dl_dw3 = compute_gradient_wi(x3, y, y_hat)\n",
    "            dl_db = compute_gradient_b(y, y_hat)\n",
    "\n",
    "            # accumulate gradient w1, w2, w3, b\n",
    "\n",
    "            # your code here **************\n",
    "            dw1_total += dl_dw1\n",
    "            dw2_total += dl_dw2\n",
    "            dw3_total += dl_dw3\n",
    "            db_total += dl_db\n",
    "\n",
    "        # (after processing N samples) - update parameters\n",
    "\n",
    "        # your code here **************\n",
    "        w1 = update_weight_wi(w1, dw1_total/N, lr)\n",
    "        w2 = update_weight_wi(w2, dw2_total/N, lr)\n",
    "        w3 = update_weight_wi(w3, dw3_total/N, lr)\n",
    "        b = update_weight_b(b, db_total/N, lr)\n",
    "\n",
    "        # logging\n",
    "        losses.append(loss_total/N)\n",
    "    return (w1, w2, w3, b, losses)"
   ]
  },
  {
   "cell_type": "code",
   "execution_count": null,
   "metadata": {},
   "outputs": [
    {
     "name": "stdout",
     "output_type": "stream",
     "text": [
      "[12.537758993110772, 12.306786418928269, 12.075813844745774, 11.844841270563279, 11.613868696380775, 11.382896122198277, 11.151923548015775, 10.92095097383327, 10.689978399650776, 10.459005825468275, 10.228033251285774, 9.99706067710327, 9.76608810292077, 9.535115528738277, 9.304142954555772, 9.073170380373279, 8.842197806190775, 8.611225232008282, 8.380252657825782, 8.149280083643282, 7.9183075094607815, 7.687334935278275, 7.456362361095777, 7.2253897869132775, 6.99441721273078, 6.763444638548282, 6.532472064365782, 6.303696928779395, 6.081189938366895, 5.8586829479543985, 5.639518193954374, 5.433280404481873, 5.227042615009367, 5.02627351250224, 4.8386930358577445, 4.660172871694349, 4.487604353415483, 4.332324542879863, 4.195409847013496, 4.064693875461415, 3.956540575164051, 3.864482068331549, 3.778410233557584, 3.706484966712123, 3.6375251151200856, 3.575952255926808, 3.5242288100202717, 3.483688061341444, 3.4455647874889426, 3.4090701904365743, 3.3760863653040722, 3.3432516667412937, 3.3127994259881497, 3.2855072228581146, 3.2623176536821723, 3.2425336943353114, 3.226649380479397, 3.2123242797811185, 3.1995438419718223, 3.190972111914734, 3.1853539097622336, 3.179735707609735, 3.174409130287844, 3.1695187343553437, 3.165036796187689, 3.1610363414951905, 3.1570358868026904, 3.153035432110187, 3.1490349774176893, 3.1450345227251892, 3.1410340680326914, 3.137235156953474, 3.133772913997792, 3.1308586589657144, 3.1280920767032128, 3.125325494440714, 3.122558912178213, 3.1198607592337395, 3.117314243641241, 3.1147677280487396, 3.1122212124562427, 3.1096746968637405, 3.1071748858312094, 3.104803324758711, 3.1024317636862118, 3.1000602026137107, 3.0976886415412093, 3.095317080468711, 3.0929455193962103, 3.09058083302496, 3.08821398804621, 3.0858424269737084, 3.083474837847453, 3.0811108956237128, 3.0787393345512117, 3.076368842669953, 3.0740078032012086, 3.0716447438811643, 3.069313767958664, 3.0669827920361636, 3.0646518161136624, 3.0623208805787105, 3.059991999803663, 3.0576610238811623, 3.0553300479586625, 3.0529990720361626, 3.050668096113664, 3.048337120191162, 3.0460061442686617, 3.0436751683461627, 3.041344192423663, 3.039013216501161, 3.036682240578664, 3.034351264656162, 3.0320202887336634, 3.0296893128111635, 3.027358336888662, 3.0250273609661646, 3.022696385043665, 3.020365409121161, 3.018034433198664, 3.015703457276162, 3.013372511756208, 3.011043640966161, 3.0087126650436615, 3.006381689121162, 3.004050713198662, 3.001719737276163, 2.999388761353661, 2.997057785431163, 2.994726809508661, 2.9923958335861642, 2.990064857663661, 2.9877338817411623, 2.9854029058186624, 2.9830719298961634, 2.98076759404824, 2.978446064785737, 2.97614885091866, 2.9738284839957396, 2.9715218234686605, 2.9692109032057403, 2.9668947960186625, 2.9645933224157415, 2.9622717931532367, 2.959971717041163, 2.957654212363239, 2.9553446895911635, 2.9530366315732386, 2.9507176621411624, 2.9484832508394097, 2.9462102938873325, 2.9439828079048307, 2.9417553219223334, 2.9395278359398334, 2.937300349957331, 2.9350728639748316, 2.932845377992334, 2.930617892009833, 2.928390406027331, 2.926162920044834, 2.923935434062333, 2.9217079480798316, 2.9194804620973334, 2.917252976114832, 2.9150254901323307, 2.912798004149832, 2.9105705181673316, 2.908343032184831, 2.9061155462023316, 2.903888060219832, 2.9016605742373334, 2.899433088254833, 2.897205602272332, 2.894978116289832, 2.892750630307331, 2.8905231443248325, 2.8882956583423316, 2.886068172359831, 2.883840686377331, 2.881613200394833, 2.8794278970896725, 2.8773015372571735, 2.8751751774246737, 2.873065510959922, 2.8709989544274266, 2.868932397894926, 2.8668658413624257, 2.864799284829923, 2.8627327282974244, 2.860666171764924, 2.8585996152324236, 2.856548258138137, 2.854526825949249, 2.852578830228138, 2.8505422517152126, 2.848605500142714, 2.8466687485702153, 2.8447319969977127, 2.8428448045896055, 2.840965525237106, 2.8390862458846056, 2.837206966532106, 2.8353276871796056, 2.8334484078271065, 2.831569128474606, 2.829689849122107, 2.8278105697696065, 2.8259493509525315, 2.8240742663996072, 2.822197156122528, 2.820340978348907, 2.818512079226406, 2.8166831801039085, 2.8148542809814057, 2.8130253818589055, 2.8111964827364058, 2.809367583613904, 2.807538684491407, 2.805709785368909, 2.8038808862464055, 2.8020519871239085, 2.800223088001405, 2.7983941888789086, 2.7965652897564066, 2.7947363906339064, 2.7929074915114027, 2.791078592388906, 2.789249693266403, 2.787420794143906, 2.7855918950214074, 2.7837629958989054, 2.781934096776406, 2.7801051976539055, 2.7782762985314053, 2.7764473994089065, 2.774618500286406, 2.772789601163904, 2.7709607020414064, 2.769144351393667, 2.7673289770214056, 2.7655211966936637, 2.763700867891164, 2.7618944261039053, 2.7600777131911656, 2.758262701083906, 2.756454558491165, 2.7546342296886657, 2.7528281501664065, 2.751011074988665, 2.7491964251464065, 2.747387920288665, 2.745593080441589, 2.743797349519091, 2.742011933891166, 2.740223789799091, 2.738428058876591, 2.736635947493667, 2.7348544991565893, 2.7330587682340917, 2.7312630373115905, 2.729482132298666, 2.7276894775915896, 2.7258937466690907, 2.724112013387779, 2.7224464602852776, 2.7207848501782057, 2.719121390655279, 2.717455837552778, 2.715790284450279, 2.714124731347779, 2.71245917824528, 2.710793625142781, 2.70912807204028, 2.70746251893778, 2.7057969658352796, 2.7041353193482043, 2.702471896205277, 2.700828170805179, 2.6991806686631024, 2.697572690895179, 2.695963427333104, 2.694349265780604, 2.692735104228104, 2.691120942675604, 2.689507971652679, 2.6879037013456037, 2.6862895397931026, 2.6846753782406045, 2.683061216688103, 2.6814470551356027, 2.679840172632679, 2.678229813805602, 2.6766156522531013, 2.675001490700601, 2.673387329148103, 2.671775453390179, 2.6702002942461736, 2.6685629052751794, 2.6669918718511743, 2.66535722301325, 2.6637585269607507, 2.6621704867798734, 2.6606343968961736, 2.6590211371552948, 2.657456221842795, 2.6558913065302954, 2.654326391217795, 2.652761475905295, 2.651196560592794, 2.649631645280295, 2.648066729967795, 2.646501814655297, 2.644936899342795, 2.6433719840302956, 2.6418070687177946, 2.6402421534052958, 2.638677238092794, 2.6371123227802955, 2.6355474074677945, 2.633982492155296, 2.632417576842795, 2.630852661530294, 2.6292877462177957, 2.6277228309052965, 2.6261579155927968, 2.6245930002802953, 2.623028084967794, 2.621463169655296, 2.6198982543427958, 2.618333339030297, 2.6167729969067732, 2.615217356460296, 2.613652441147796, 2.612087525835297, 2.610524324901773, 2.6090267720385407, 2.607493295465019, 2.6060020358225193, 2.604510776180019, 2.6030195165375187, 2.6015282568950187, 2.600036997252519, 2.598545737610019, 2.5970544779675184, 2.5955632183250175, 2.594071958682519, 2.5925806990400173, 2.59108943939752, 2.5895981797550185, 2.588106920112521, 2.586615660470018, 2.5851244008275183, 2.5836331411850177, 2.58214188154252, 2.5806506219000203, 2.579159362257519, 2.57766810261502, 2.576176842972518, 2.5746855833300204, 2.573194323687519, 2.5717030640450194, 2.57021180440252, 2.5687205447600197, 2.5672292851175196, 2.565738025475018, 2.564246765832521, 2.5627555061900207, 2.561264246547519, 2.559772989416043, 2.5582821989275195, 2.5567909392850185, 2.5552996796425207, 2.55380842000002, 2.5523171603575188, 2.5508259007150182, 2.54933464107252, 2.547843381430019, 2.5463958019139494, 2.544999347791448, 2.543602893668949, 2.542206439546449, 2.5408099854239508, 2.5394135313014496, 2.53801707717895, 2.5366206230564496, 2.5352241689339494, 2.5338277148114496, 2.532444324250661, 2.53106445654145, 2.5296950137006617, 2.528312507298161, 2.5269343941239497, 2.5255631967481604, 2.524180690345662, 2.5228043317064492, 2.521431379795661, 2.520048873393162, 2.5186742692889488, 2.517299562843161, 2.5159170564406605, 2.5145442068714505, 2.5131677458906614, 2.5117852394881615, 2.5104141444539487, 2.50903592893816, 2.5076534225356624, 2.5062840820364496, 2.50490411198566, 2.5035216055831615, 2.50215401961895, 2.5007775622883135, 2.4994339387089495, 2.4980420283416045, 2.4966887582991015, 2.495335488256603, 2.4939822182141027, 2.4926289481716037, 2.4912756781291017, 2.489922408086603, 2.4885691380441015, 2.4872867863839945, 2.4861340371614964, 2.4849812879389948, 2.483828538716494, 2.482675789493995, 2.4815230402714974, 2.4803702910489966, 2.4792175418264946, 2.478064792603995, 2.476912043381496, 2.4757592941589968, 2.4746065449364965, 2.4734537957139957, 2.4723010464914963, 2.4711482972689964, 2.469995548046496, 2.468842798823996, 2.4676986102531133, 2.4665831511806133, 2.4654676921081147, 2.464373814412324, 2.4632890055798238, 2.462204196747324, 2.4611198595231114, 2.4600419300773244, 2.4589571212448247, 2.4578723124123263, 2.4567875035798235, 2.455702694747326, 2.4546178859148258, 2.4535396534256133, 2.4524556192448235, 2.451370810412326, 2.4502860015798236, 2.4492011927473256, 2.4481163839148237, 2.4470369051656116, 2.4459541172448245, 2.4448693084123247, 2.4437844995798232, 2.442699690747324, 2.441614881914825, 2.440563826613268, 2.439638227122481, 2.4387133345999796, 2.4377884420774794, 2.43686354955498, 2.43593865703248, 2.435013764509979, 2.4340888719874796, 2.4331639794649793, 2.4322390869424795, 2.4313141944199796, 2.4303893018974794, 2.429464409374978, 2.4285421475607687, 2.42761800118498, 2.42669310866248, 2.4257763907308343, 2.424865222248334, 2.4239540537658355, 2.4230428852833343, 2.422133857349981, 2.4212231271033344, 2.420311958620834, 2.419400790138334, 2.4184896216558345, 2.4175784531733346, 2.4166672846908352, 2.41575742664248, 2.4148475265108345, 2.4139363580283333, 2.413025189545834, 2.4121140210633345, 2.4112028525808356, 2.4102916840983344, 2.4093809959349786, 2.4084719259183345, 2.4075607574358346, 2.406649588953334, 2.405738420470832, 2.4048272519883347, 2.403916083505834, 2.4030049150233337, 2.4020959755299796, 2.4011851568433342, 2.4002739883608344, 2.3993628198783323, 2.398451651395833, 2.397540482913333, 2.396629314430834, 2.3957195448224784, 2.3948095562508325, 2.393898387768334, 2.3929872192858337, 2.392076050803334, 2.391164882320833, 2.390253713838334, 2.3893431141149803, 2.3884587673456967, 2.3875993066623415, 2.3867592521898415, 2.3859191977173433, 2.3850791432448424, 2.384239088772341, 2.383399034299842, 2.3825589798273423, 2.3817189253548428, 2.380878870882342, 2.3800388164098423, 2.379250224430983, 2.378533930768483, 2.3778176371059816, 2.3771013434434813, 2.376385049780981, 2.375668756118482, 2.374952462455981, 2.374236168793482, 2.3735198751309814, 2.3728035814684816, 2.3720872878059818, 2.371370994143483, 2.370654700480983, 2.3699384068184814, 2.369222113155982, 2.3685058194934836, 2.3677895258309825, 2.3670732321684813, 2.3663573108277816, 2.365692447168481, 2.365026109417782, 2.3643593993452807, 2.363692689272782, 2.3630259792002803, 2.362359269127782, 2.3616925590552817, 2.3610258489827816, 2.360359138910281, 2.359692428837781, 2.3590257187652814, 2.358362887833636, 2.3577197594211374, 2.3570766310086357, 2.356433502596135, 2.355790374183635, 2.3551472457711373, 2.3545041173586365, 2.3538609889461353, 2.3532178605336362, 2.3525747321211377, 2.351931603708634, 2.3512884752961343, 2.3506453468836357, 2.350002218471134, 2.3493590900586363, 2.348715961646136, 2.3480728332336356, 2.3474297048211357, 2.3467865764086366, 2.3461434479961345, 2.3455003195836364, 2.3448571911711356, 2.3442140627586356, 2.3435709343461344, 2.342927805933636, 2.3422846775211354, 2.3416415491086355, 2.340998420696134, 2.3403552922836366, 2.3397121638711345, 2.339069035458633, 2.3384259070461346, 2.3377827786336347, 2.337139650221134, 2.336496521808634, 2.335853393396135, 2.335210264983635, 2.334567136571134, 2.333924008158634, 2.333280879746135, 2.3326377513336345, 2.331994622921135, 2.3313514945086347, 2.3307083660961343, 2.3300652376836313, 2.329422109271135, 2.328778980858634, 2.3281358524461346, 2.327492724033633, 2.3268495956211335, 2.3262064672086327, 2.3255633387961336, 2.3249202103836346, 2.324277081971134, 2.323633953558632, 2.3229908251461353, 2.322347696733632, 2.3217045683211337, 2.3210614399086342, 2.3204183114961343, 2.3197751830836335, 2.3191320546711336, 2.318488926258633, 2.317845797846134, 2.317202669433633, 2.316559541021133, 2.3159164126086327, 2.315273284196134, 2.314630155783633, 2.3139870273711325, 2.3133438989586335, 2.312700770546132, 2.3120576421336323, 2.3114145137211337, 2.3107713853086334, 2.3101282568961325, 2.309485128483633, 2.3088420000711336, 2.3081988716586315, 2.3075557432461324, 2.306912614833633, 2.306269486421131, 2.3056263580086322, 2.304983229596132, 2.3043401011836333, 2.3036969727711325, 2.303053844358633, 2.3024107159461327, 2.3017675875336328, 2.3011244591211315, 2.300481330708631, 2.299838202296132, 2.2991950738836304, 2.298551945471133, 2.297908817058631, 2.2972656886461316, 2.2966225602336308, 2.2959794318211317, 2.295336303408632, 2.2946931749961306, 2.294050046583631, 2.293406918171132, 2.2927637897586304, 2.292120661346131, 2.291477532933632, 2.29083440452113, 2.2901912761086316, 2.2895481476961312, 2.2889050192836318, 2.288261890871132, 2.2876187624586297, 2.2869756340461302, 2.286332505633631, 2.285689377221131, 2.28504624880863, 2.2844031203961297, 2.283759991983631, 2.2831168635711303, 2.2824737351586304, 2.2818306067461323, 2.2811874783336314, 2.280544349921131, 2.2799012215086294, 2.27925809309613, 2.27861496468363, 2.2779718362711283, 2.277328707858631, 2.2766855794461294, 2.2760424510336303, 2.2754008104057064, 2.27476089376363, 2.274117765351131, 2.27347463693863, 2.2728315085261297, 2.2721883801136284, 2.2715452517011294, 2.27090212328863, 2.2702589948761296, 2.269615866463631, 2.2689727380511298, 2.268329609638631, 2.2676864812261295, 2.2670455326832064, 2.26640492395613, 2.2657617955436296, 2.265118667131132, 2.2644755387186293, 2.263832410306129, 2.263189281893629, 2.2625461534811273, 2.2619030250686283, 2.2612598966561306, 2.26061676824363, 2.2599736398311285, 2.2593305114186304, 2.2586902549607055, 2.2580489541486304, 2.257405825736129, 2.2567626973236288, 2.256119568911128, 2.255476440498627, 2.2548333120861295, 2.254190183673629, 2.2535470552611288, 2.2529039268486297, 2.252260798436127, 2.2516176700236263, 2.250974541611128, 2.250334977238204, 2.2496929843411286, 2.2490498559286283, 2.2484067275161284, 2.2477635991036276, 2.2471204706911267, 2.2464773422786273, 2.2458342138661296, 2.245191085453628, 2.2445660337137268, 2.244003020171227, 2.2434439404033037, 2.2428862310212256, 2.2423232174787278, 2.241760203936227, 2.241197190393726, 2.240634176851227, 2.2400711633087282, 2.2395163469558037, 2.238954374158728, 2.2383913606162276, 2.237828347073728, 2.237265333531227, 2.236702319988728, 2.2361425291158055, 2.235585530838727, 2.2350225172962275, 2.234459503753725, 2.2338964902112277, 2.2333334766687276, 2.2327704631262266, 2.232214935668304, 2.2316536739762256, 2.2310906604337264, 2.230527646891228, 2.229964633348727, 2.229401619806227, 2.228841117828304, 2.2282848306562286, 2.2277218171137276, 2.2271588035712258, 2.2265957900287274, 2.2260327764862273, 2.225469762943728, 2.224913524380803, 2.224352973793727, 2.2237899602512257, 2.2232269467087264, 2.2226639331662286, 2.222100919623727, 2.2215397065408045, 2.220984130473729, 2.2204211169312282, 2.2198581033887277, 2.2192950898462276, 2.218732076303728, 2.2181690627612265, 2.217612113093303, 2.2170522736112273, 2.2164892600687285, 2.2159262465262275, 2.215363232983727, 2.214800219441228, 2.214238295253305, 2.2136834302912267, 2.2131204167487253, 2.212557403206228, 2.2119943896637277, 2.211431376121228, 2.210868362578729, 2.2103107018058044, 2.2097515734287283, 2.209188559886228, 2.208625546343729, 2.208062532801229, 2.207499519258727, 2.206936883965803, 2.206382730108729, 2.2058197165662263, 2.205256703023729, 2.204693689481227, 2.204130675938728, 2.2035676623962264, 2.2030417793701766, 2.2024845222612286, 2.201921508718729, 2.2013756406731, 2.200829130648728, 2.200292782643101, 2.1997392891406014, 2.199207388051228, 2.1986564311106007, 2.1981150099812288, 2.1975735730806, 2.1970226319112287, 2.1964907150506012, 2.1959372215481014, 2.195400889313729, 2.1948543635181004, 2.1943085112437286, 2.1937715054881015, 2.1932180119855995, 2.1926867686462277, 2.192135153955602, 2.1915943905762276, 2.191052295925602, 2.190502012506227, 2.189969437895601, 2.1894159443931005, 2.1888802699087275, 2.188334891843871, 2.1878531363513716, 2.1873713808588717, 2.1868896253663728, 2.1864078698738707, 2.1859261143813735, 2.1854443588888715, 2.184962603396372, 2.1844818372269987, 2.184001194826371, 2.1835194393338706, 2.183037683841374, 2.182555928348872, 2.182074172856372, 2.181592417363872, 2.18112771959496, 2.180695987332461, 2.1802642550699605, 2.1798325228074606, 2.17940079054496, 2.1789690582824606, 2.1785373260199616, 2.1781055937574587, 2.1776738614949585, 2.1772421292324595, 2.1768103969699597, 2.176378664707461, 2.175946932444958, 2.17551520018246, 2.17508346791996, 2.17465173565746, 2.1742200033949604, 2.1737882711324605, 2.1733565388699603, 2.17292480660746, 2.1724939862188717, 2.1720752614963716, 2.171657157489959, 2.1712385783463715, 2.1708198536238705, 2.1704011289013723, 2.169982404178873, 2.169563679456372, 2.1691449547338704, 2.168726230011371, 2.168307505288871, 2.167888780566373, 2.167470055843872, 2.167051331121369, 2.16663260639887, 2.1662138816763714, 2.165795156953871, 2.1653764322313718, 2.16495770750887, 2.164538982786371, 2.164120258063869, 2.16370217353246, 2.163283574913871, 2.1628648501913714, 2.162446125468872, 2.162027400746372, 2.1616086760238695, 2.1611899513013695, 2.1607712265788708, 2.1603525018563703, 2.1599337771338707, 2.1595150524113715, 2.1590963276888697, 2.1586776029663697, 2.158277242133408, 2.1578658063109084, 2.1574690949388713, 2.157059478835907, 2.1566554785638705, 2.156253151360908, 2.1558418621888706, 2.155446823885909, 2.155035388063408, 2.1546333541613705, 2.154229060588407, 2.153819737786371, 2.1534227331134077, 2.153011297290908, 2.1526385017442276, 2.15224654736591, 2.1518447765187636, 2.151465253270908, 2.1510922072337646, 2.150709496221265, 2.150326785208766, 2.1499442426309106, 2.1495742159237654, 2.1491915049112653, 2.1488087938987643, 2.148426082886265, 2.1480533737184073, 2.147673513601264, 2.1472908025887643, 2.1469080915762646, 2.1465323630784092, 2.1461555222912647, 2.145772811278766, 2.1453901002662663, 2.145011352438409, 2.144637530981266, 2.1442548199687668, 2.1438721089562645, 2.143490341798408, 2.1431195396712654, 2.142736828658766, 2.1423541176462653, 2.141971406633765, 2.141599472885908, 2.1412188373487644, 2.140836126336267, 2.1404534153237655, 2.1400784622459086, 2.139700846038767, 2.1393181350262664, 2.138935424013765, 2.138568062823795, 2.1382111009387668, 2.1378283899262662, 2.137453121481653, 2.137091214111267, 2.136731310276653, 2.136363963874152, 2.135999573493766, 2.135642152669154, 2.1352748062666524, 2.1349079328762657, 2.1345529950616524, 2.1341856486591517, 2.133818302256654, 2.1334618274562653, 2.1330964910516546, 2.1327291446491516, 2.1323701868387674, 2.132007333444154, 2.1316399870416523, 2.1312785462212664, 2.1309181758366513, 2.1305508294341524, 2.130186905603767, 2.129829018229152, 2.1294616718266512, 2.129095264986268, 2.128739860621652, 2.1283725142191527, 2.1280051678166525, 2.1276491595662663, 2.127283356611651, 2.126916010209153, 2.1265575189487675, 2.1261941990041535, 2.1258268526016524, 2.1254658783312657, 2.125105041396652, 2.124737694994153, 2.124374237713767, 2.124015883789154]\n"
     ]
    },
    {
     "data": {
      "image/png": "[encoded data removed]",
      "text/plain": [
       "<Figure size 640x480 with 1 Axes>"
      ]
     },
     "metadata": {},
     "output_type": "display_data"
    }
   ],
   "source": [
    "(w1, w2, w3, b, losses) = implement_linear_regression_nsamples_mae(X, y,\n",
    "                                                                   epoch_max=1000,\n",
    "                                                                   lr=1e-5)\n",
    "print(losses)\n",
    "plt.plot(losses)\n",
    "plt.xlabel(\"# epoch\")\n",
    "plt.ylabel(\"MAE Loss\")\n",
    "plt.show()"
   ]
  },
  {
   "cell_type": "markdown",
   "metadata": {},
   "source": [
    "## Question 4: Add one slack feature"
   ]
  },
  {
   "cell_type": "code",
   "execution_count": null,
   "metadata": {},
   "outputs": [],
   "source": [
    "def prepare_data(file_name_dataset):\n",
    "    data = np.genfromtxt(file_name_dataset, delimiter=',',\n",
    "                         skip_header=1).tolist()\n",
    "\n",
    "    # get tv(index=0)\n",
    "    tv_data = get_column(data, 0)\n",
    "\n",
    "    # get radio(index=1)\n",
    "    radio_data = get_column(data, 1)\n",
    "\n",
    "    # get newspaper(index=2)\n",
    "    newspaper_data = get_column(data, 2)\n",
    "\n",
    "    # get sales(index=3)\n",
    "    sales_data = get_column(data, 3)\n",
    "\n",
    "    # building X input and y output for training\n",
    "    # Create list of features for input\n",
    "    X = [[1, x1, x2, x3]\n",
    "         for x1, x2, x3 in zip(tv_data, radio_data, newspaper_data)]\n",
    "    y = sales_data\n",
    "    return X, y"
   ]
  },
  {
   "cell_type": "code",
   "execution_count": null,
   "metadata": {},
   "outputs": [],
   "source": [
    "def initialize_params():\n",
    "    bias = 0\n",
    "    w1 = random.gauss(mu=0.0, sigma=0.01)\n",
    "    w2 = random.gauss(mu=0.0, sigma=0.01)\n",
    "    w3 = random.gauss(mu=0.0, sigma=0.01)\n",
    "\n",
    "    # comment this line for real application\n",
    "    return [0, -0.01268850433497871, 0.004752496982185252, 0.0073796171538643845]\n",
    "    # return[bias, w1, w2, w3]"
   ]
  },
  {
   "cell_type": "code",
   "execution_count": null,
   "metadata": {},
   "outputs": [],
   "source": [
    "# Predict output by using y = x0*b + x1*w1 + x2*w2 + x3*w3\n",
    "def predict(X_features, weights):\n",
    "    # your code here......\n",
    "    result = sum([w*x for w, x in zip(weights, X_features)])\n",
    "\n",
    "    return result\n",
    "\n",
    "\n",
    "def compute_loss(y_hat, y):\n",
    "    return (y_hat - y) ** 2\n",
    "\n",
    "# compute gradient\n",
    "\n",
    "\n",
    "def compute_gradient_w(X_features, y, y_hat):\n",
    "    # your code here......\n",
    "    dl_dweights = [2*x*(y_hat - y) for x in X_features]\n",
    "    return dl_dweights\n",
    "\n",
    "# update weights\n",
    "\n",
    "\n",
    "def update_weight(weights, dl_dweights, lr):\n",
    "    # your code here......\n",
    "    weights = [w - lr*dl_dw for w, dl_dw in zip(weights, dl_dweights)]\n",
    "    return weights"
   ]
  },
  {
   "cell_type": "code",
   "execution_count": null,
   "metadata": {},
   "outputs": [
    {
     "name": "stdout",
     "output_type": "stream",
     "text": [
      " epoch 0\n",
      " epoch 1\n",
      " epoch 2\n",
      " epoch 3\n",
      " epoch 4\n",
      " epoch 5\n",
      " epoch 6\n",
      " epoch 7\n",
      " epoch 8\n",
      " epoch 9\n",
      " epoch 10\n",
      " epoch 11\n",
      " epoch 12\n",
      " epoch 13\n",
      " epoch 14\n",
      " epoch 15\n",
      " epoch 16\n",
      " epoch 17\n",
      " epoch 18\n",
      " epoch 19\n",
      " epoch 20\n",
      " epoch 21\n",
      " epoch 22\n",
      " epoch 23\n",
      " epoch 24\n",
      " epoch 25\n",
      " epoch 26\n",
      " epoch 27\n",
      " epoch 28\n",
      " epoch 29\n",
      " epoch 30\n",
      " epoch 31\n",
      " epoch 32\n",
      " epoch 33\n",
      " epoch 34\n",
      " epoch 35\n",
      " epoch 36\n",
      " epoch 37\n",
      " epoch 38\n",
      " epoch 39\n",
      " epoch 40\n",
      " epoch 41\n",
      " epoch 42\n",
      " epoch 43\n",
      " epoch 44\n",
      " epoch 45\n",
      " epoch 46\n",
      " epoch 47\n",
      " epoch 48\n",
      " epoch 49\n"
     ]
    },
    {
     "data": {
      "image/png": "[encoded data removed]",
      "text/plain": [
       "<Figure size 640x480 with 1 Axes>"
      ]
     },
     "metadata": {},
     "output_type": "display_data"
    }
   ],
   "source": [
    "def implement_linear_regression(X_feature, y_ouput, epoch_max=50, lr=1e-5):\n",
    "    losses = []\n",
    "    weights = initialize_params()\n",
    "    N = len(y_ouput)\n",
    "    for epoch in range(epoch_max):\n",
    "        print(\" epoch\", epoch)\n",
    "        for i in range(N):\n",
    "            # get a sample - row i\n",
    "            features_i = X_feature[i]\n",
    "            y = y_ouput[i]\n",
    "\n",
    "            # compute output\n",
    "            y_hat = predict(features_i, weights)\n",
    "\n",
    "            # compute loss\n",
    "            loss = compute_loss(y, y_hat)\n",
    "\n",
    "            # compute gradient w1, w2, w3, b\n",
    "            dl_dweights = compute_gradient_w(features_i, y, y_hat)\n",
    "\n",
    "            # update parameters\n",
    "            weights = update_weight(weights, dl_dweights, lr)\n",
    "\n",
    "            # logging\n",
    "            losses.append(loss)\n",
    "    return weights, losses\n",
    "\n",
    "\n",
    "X, y = prepare_data('advertising.csv')\n",
    "W, L = implement_linear_regression(X, y)\n",
    "plt.plot(L[0:100])\n",
    "plt.xlabel(\"# iteration \")\n",
    "plt.ylabel(\" Loss \")\n",
    "plt.show()"
   ]
  },
  {
   "cell_type": "code",
   "execution_count": null,
   "metadata": {},
   "outputs": [
    {
     "name": "stdout",
     "output_type": "stream",
     "text": [
      " epoch 0\n",
      " epoch 1\n",
      " epoch 2\n",
      " epoch 3\n",
      " epoch 4\n",
      " epoch 5\n",
      " epoch 6\n",
      " epoch 7\n",
      " epoch 8\n",
      " epoch 9\n",
      " epoch 10\n",
      " epoch 11\n",
      " epoch 12\n",
      " epoch 13\n",
      " epoch 14\n",
      " epoch 15\n",
      " epoch 16\n",
      " epoch 17\n",
      " epoch 18\n",
      " epoch 19\n",
      " epoch 20\n",
      " epoch 21\n",
      " epoch 22\n",
      " epoch 23\n",
      " epoch 24\n",
      " epoch 25\n",
      " epoch 26\n",
      " epoch 27\n",
      " epoch 28\n",
      " epoch 29\n",
      " epoch 30\n",
      " epoch 31\n",
      " epoch 32\n",
      " epoch 33\n",
      " epoch 34\n",
      " epoch 35\n",
      " epoch 36\n",
      " epoch 37\n",
      " epoch 38\n",
      " epoch 39\n",
      " epoch 40\n",
      " epoch 41\n",
      " epoch 42\n",
      " epoch 43\n",
      " epoch 44\n",
      " epoch 45\n",
      " epoch 46\n",
      " epoch 47\n",
      " epoch 48\n",
      " epoch 49\n",
      "31.339223408109948\n"
     ]
    }
   ],
   "source": [
    "X, y = prepare_data('advertising.csv')\n",
    "W, L = implement_linear_regression(X, y, epoch_max=50, lr=1e-5)\n",
    "# Print loss value at iteration 9999\n",
    "print(L[9999])"
   ]
  }
 ],
 "metadata": {
  "kernelspec": {
   "display_name": "Python 3",
   "language": "python",
   "name": "python3"
  },
  "language_info": {
   "codemirror_mode": {
    "name": "ipython",
    "version": 3
   },
   "file_extension": ".py",
   "mimetype": "text/x-python",
   "name": "python",
   "nbconvert_exporter": "python",
   "pygments_lexer": "ipython3",
   "version": "3.8.10"
  }
 },
 "nbformat": 4,
 "nbformat_minor": 2
}
