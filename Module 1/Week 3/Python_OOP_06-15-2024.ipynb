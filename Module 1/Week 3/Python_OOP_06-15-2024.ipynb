{
 "cells": [
  {
   "cell_type": "markdown",
   "metadata": {},
   "source": [
    "# Python OOP (June 15, 2024)"
   ]
  },
  {
   "cell_type": "markdown",
   "metadata": {},
   "source": [
    "# 1. Write a class to implement Softmax and Softmax stable"
   ]
  },
  {
   "cell_type": "code",
   "execution_count": null,
   "metadata": {},
   "outputs": [],
   "source": [
    "import torch"
   ]
  },
  {
   "cell_type": "code",
   "execution_count": null,
   "metadata": {},
   "outputs": [],
   "source": [
    "class Softmax(torch.nn.Module):\n",
    "    def __init__(self) -> None:\n",
    "        super(Softmax, self).__init__()\n",
    "        self.eval()\n",
    "\n",
    "    def forward(self, x) -> torch.Tensor:\n",
    "        # Re-factor: return torch.nn.functional.softmax(x, dim=0)\n",
    "        exp_x = torch.exp(x)\n",
    "        sum_exp_x = torch.sum(exp_x, dim=0)\n",
    "        return exp_x / sum_exp_x\n",
    "\n",
    "\n",
    "class SoftmaxStable(torch.nn.Module):\n",
    "    def __init__(self) -> None:\n",
    "        super(SoftmaxStable, self).__init__()\n",
    "        self.eval()\n",
    "\n",
    "    def forward(self, x) -> torch.Tensor:\n",
    "        c = torch.max(x)\n",
    "        exp_x_c = torch.exp(x-c)\n",
    "        sum_exp_x_c = torch.sum(exp_x_c, dim=0)\n",
    "        return exp_x_c / sum_exp_x_c"
   ]
  },
  {
   "cell_type": "code",
   "execution_count": null,
   "metadata": {},
   "outputs": [
    {
     "data": {
      "text/plain": [
       "tensor([0.0900, 0.2447, 0.6652])"
      ]
     },
     "execution_count": null,
     "metadata": {},
     "output_type": "execute_result"
    }
   ],
   "source": [
    "data = torch.Tensor([1, 2, 3])\n",
    "softmax = Softmax()\n",
    "output = softmax(data)\n",
    "output"
   ]
  },
  {
   "cell_type": "code",
   "execution_count": null,
   "metadata": {},
   "outputs": [
    {
     "data": {
      "text/plain": [
       "tensor([0.7054, 0.0351, 0.2595])"
      ]
     },
     "execution_count": null,
     "metadata": {},
     "output_type": "execute_result"
    }
   ],
   "source": [
    "data = torch.Tensor([5, 2, 4])\n",
    "softmax = Softmax()\n",
    "output = softmax(data)\n",
    "output"
   ]
  },
  {
   "cell_type": "code",
   "execution_count": null,
   "metadata": {},
   "outputs": [
    {
     "data": {
      "text/plain": [
       "tensor([0., 0., nan])"
      ]
     },
     "execution_count": null,
     "metadata": {},
     "output_type": "execute_result"
    }
   ],
   "source": [
    "data = torch.Tensor([1, 2, 300000000])\n",
    "softmax = Softmax()\n",
    "output = softmax(data)\n",
    "output"
   ]
  },
  {
   "cell_type": "code",
   "execution_count": null,
   "metadata": {},
   "outputs": [
    {
     "data": {
      "text/plain": [
       "tensor([0.0900, 0.2447, 0.6652])"
      ]
     },
     "execution_count": null,
     "metadata": {},
     "output_type": "execute_result"
    }
   ],
   "source": [
    "data = torch.Tensor([1, 2, 3])\n",
    "softmax_stable = SoftmaxStable()\n",
    "output = softmax_stable(data)\n",
    "output"
   ]
  },
  {
   "cell_type": "markdown",
   "metadata": {},
   "source": [
    "## 2. Một Ward (phường) gồm có name (string) và danh sách của mọi người trong Ward. Một người person có thể là student, doctor, hoặc teacher. Một student gồm có name, yob (int) (năm sinh), và grade (string). Một teacher gồm có name, yob, và subject (string). Một doctor gồm có name, yob, và specialist (string). Lưu ý cần sử dụng a list để chứa danh sách của mọi người trong Ward."
   ]
  },
  {
   "cell_type": "markdown",
   "metadata": {},
   "source": [
    "### (a) Cài đặt các class Student, Doctor, và Teacher theo mô tả trên. Thực hiện phương thức describe() method để in ra tất cả thông tin của các object"
   ]
  },
  {
   "cell_type": "code",
   "execution_count": null,
   "metadata": {},
   "outputs": [],
   "source": [
    "from abc import abstractmethod, ABC"
   ]
  },
  {
   "cell_type": "code",
   "execution_count": null,
   "metadata": {},
   "outputs": [],
   "source": [
    "class Person(ABC):\n",
    "    def __init__(self, name, yob) -> None:\n",
    "        self._name = name\n",
    "        self._yob = yob\n",
    "\n",
    "    @property\n",
    "    def name(self) -> str:\n",
    "        return self._name\n",
    "\n",
    "    @property\n",
    "    def yob(self) -> int:\n",
    "        return self._yob\n",
    "\n",
    "    @abstractmethod\n",
    "    def describe(self) -> None:\n",
    "        pass\n",
    "\n",
    "\n",
    "class Student(Person):\n",
    "    def __init__(self, name, yob, grade) -> None:\n",
    "        super(Student, self).__init__(name, yob)\n",
    "        self._grade = grade\n",
    "\n",
    "    @property\n",
    "    def grade(self) -> str:\n",
    "        return self._grade\n",
    "\n",
    "    def describe(self) -> None:\n",
    "        print(\n",
    "            f\"Student - Name : {self._name} - YoB: {self._yob} - Grade : {self._grade}\")\n",
    "\n",
    "\n",
    "class Teacher(Person):\n",
    "    def __init__(self, name, yob, subject) -> None:\n",
    "        super(Teacher, self).__init__(name, yob)\n",
    "        self._subject = subject\n",
    "\n",
    "    @property\n",
    "    def subject(self) -> str:\n",
    "        return self._subject\n",
    "\n",
    "    def describe(self) -> None:\n",
    "        print(\n",
    "            f\"Teacher - Name : {self._name} - YoB: {self._yob} - Subject : {self._subject}\")\n",
    "\n",
    "\n",
    "class Doctor(Person):\n",
    "    def __init__(self, name, yob, specialist) -> None:\n",
    "        super(Doctor, self).__init__(name, yob)\n",
    "        self._specialist = specialist\n",
    "\n",
    "    @property\n",
    "    def specialty(self) -> str:\n",
    "        return self._specialist\n",
    "\n",
    "    def describe(self) -> None:\n",
    "        print(\n",
    "            f\"Doctor - Name : {self._name} - YoB: {self._yob} - Specialty : {self._specialist}\")"
   ]
  },
  {
   "cell_type": "code",
   "execution_count": null,
   "metadata": {},
   "outputs": [
    {
     "name": "stdout",
     "output_type": "stream",
     "text": [
      "Student - Name : studentA - YoB: 2010 - Grade : 7\n"
     ]
    }
   ],
   "source": [
    "student1 = Student(name=\"studentA\", yob=2010, grade=\"7\")\n",
    "student1.describe()"
   ]
  },
  {
   "cell_type": "code",
   "execution_count": null,
   "metadata": {},
   "outputs": [
    {
     "name": "stdout",
     "output_type": "stream",
     "text": [
      "Teacher - Name : teacherA - YoB: 1969 - Subject : Math\n"
     ]
    }
   ],
   "source": [
    "teacher1 = Teacher(name=\"teacherA\", yob=1969, subject=\"Math\")\n",
    "teacher1.describe()"
   ]
  },
  {
   "cell_type": "code",
   "execution_count": null,
   "metadata": {},
   "outputs": [
    {
     "name": "stdout",
     "output_type": "stream",
     "text": [
      "Doctor - Name : doctorA - YoB: 1945 - Specialty : Endocrinologists\n"
     ]
    }
   ],
   "source": [
    "doctor1 = Doctor(name=\"doctorA\", yob=1945, specialist=\"Endocrinologists\")\n",
    "doctor1.describe()"
   ]
  },
  {
   "cell_type": "markdown",
   "metadata": {},
   "source": [
    "### (b) Viết add_person(person) method trong Ward class để add thêm một người mới với nghề nghiệp bất kỳ (student, teacher, doctor) vào danh sách người của ward. Tạo ra một ward object, và thêm vào 1 student, 2 teacher, và 2 doctor. Thực hiện describe() method để in ra tên ward (name) và toàn bộ thông tin của từng người trong ward."
   ]
  },
  {
   "cell_type": "code",
   "execution_count": null,
   "metadata": {},
   "outputs": [],
   "source": [
    "class Ward:\n",
    "    def __init__(self, name) -> None:\n",
    "        self._people = []\n",
    "        self._name = name\n",
    "\n",
    "    def describe(self) -> None:\n",
    "        print(f\"Ward Name: {self._name}\")\n",
    "        for person in self._people:\n",
    "            person.describe()\n",
    "\n",
    "    # 2b. Add a person to the ward\n",
    "    def add_person(self, person: Person) -> None:\n",
    "        self._people.append(person)\n",
    "\n",
    "    # 2c. Count the number of doctors in the ward\n",
    "    def count_doctor(self) -> int:\n",
    "        return len([person for person in self._people if isinstance(person, Doctor)])\n",
    "\n",
    "    # 2d. Sort age of people in the ward in an increasing order\n",
    "    def sort_age(self) -> None:\n",
    "        self._people.sort(key=lambda x: x._yob, reverse=True)\n",
    "\n",
    "    # 2e. Calculate the average age of teachers in the ward:\n",
    "    def compute_average(self) -> float:\n",
    "        teachers = [\n",
    "            person for person in self._people if isinstance(person, Teacher)]\n",
    "        return sum([teacher.yob for teacher in teachers]) / len(teachers)"
   ]
  },
  {
   "cell_type": "code",
   "execution_count": null,
   "metadata": {},
   "outputs": [
    {
     "name": "stdout",
     "output_type": "stream",
     "text": [
      "Ward Name:  Ward1 \n",
      "Student - Name : studentA - YoB: 2010 - Grade : 7\n",
      "Teacher - Name : teacherA - YoB: 1969 - Subject : Math\n",
      "Teacher - Name : teacherB - YoB: 1995 - Subject : History\n",
      "Doctor - Name : doctorA - YoB: 1945 - Specialty : Endocrinologists\n",
      "Doctor - Name : doctorB - YoB: 1975 - Specialty : Cardiologists\n"
     ]
    }
   ],
   "source": [
    "teacher2 = Teacher(name=\"teacherB\", yob=1995, subject=\"History\")\n",
    "doctor2 = Doctor(name=\"doctorB\", yob=1975, specialist=\"Cardiologists\")\n",
    "ward1 = Ward(name=\"Ward 1\")\n",
    "ward1 = Ward(name=\" Ward1 \")\n",
    "ward1.add_person(student1)\n",
    "ward1.add_person(teacher1)\n",
    "ward1.add_person(teacher2)\n",
    "ward1.add_person(doctor1)\n",
    "ward1.add_person(doctor2)\n",
    "ward1.describe()"
   ]
  },
  {
   "cell_type": "markdown",
   "metadata": {},
   "source": [
    "### (c) Viết count_doctor() method để đếm số lượng doctor trong ward."
   ]
  },
  {
   "cell_type": "code",
   "execution_count": null,
   "metadata": {},
   "outputs": [
    {
     "name": "stdout",
     "output_type": "stream",
     "text": [
      "Number of doctors: 2\n"
     ]
    }
   ],
   "source": [
    "print(f\"Number of doctors: {ward1.count_doctor()}\")"
   ]
  },
  {
   "cell_type": "markdown",
   "metadata": {},
   "source": [
    "### (d) Viết sort_age() method để sort mọi người trong ward theo tuổi của họ với thứ tự tăng dần. (hint: Có thể sử dụng sort của list hoặc viết thêm function đều được)"
   ]
  },
  {
   "cell_type": "code",
   "execution_count": null,
   "metadata": {},
   "outputs": [
    {
     "name": "stdout",
     "output_type": "stream",
     "text": [
      "After sorting Age of Ward1 people\n",
      "Ward Name:  Ward1 \n",
      "Student - Name : studentA - YoB: 2010 - Grade : 7\n",
      "Teacher - Name : teacherB - YoB: 1995 - Subject : History\n",
      "Doctor - Name : doctorB - YoB: 1975 - Specialty : Cardiologists\n",
      "Teacher - Name : teacherA - YoB: 1969 - Subject : Math\n",
      "Doctor - Name : doctorA - YoB: 1945 - Specialty : Endocrinologists\n"
     ]
    }
   ],
   "source": [
    "print(f\"After sorting Age of Ward1 people\")\n",
    "ward1.sort_age()\n",
    "ward1.describe()"
   ]
  },
  {
   "cell_type": "markdown",
   "metadata": {},
   "source": [
    "### (e) Viết compute_average() method để tính trung bình năm sinh của các teachers trong ward"
   ]
  },
  {
   "cell_type": "code",
   "execution_count": null,
   "metadata": {},
   "outputs": [
    {
     "name": "stdout",
     "output_type": "stream",
     "text": [
      "Average year of birth (teachers): 1982.0\n"
     ]
    }
   ],
   "source": [
    "print(f\"Average year of birth (teachers): {ward1.compute_average()}\")"
   ]
  },
  {
   "cell_type": "markdown",
   "metadata": {},
   "source": [
    "## 3. Thực hiện xây dựng class Stack với các phương thức (method) sau đây"
   ]
  },
  {
   "cell_type": "markdown",
   "metadata": {},
   "source": [
    "![MyStack](stack.png)"
   ]
  },
  {
   "cell_type": "code",
   "execution_count": null,
   "metadata": {},
   "outputs": [],
   "source": [
    "class MyStack:\n",
    "    def __init__(self, capacity: int) -> None:\n",
    "        self._data = []\n",
    "        self._capacity = capacity\n",
    "\n",
    "    def is_empty(self) -> bool:\n",
    "        return len(self._data) == 0\n",
    "\n",
    "    def is_full(self) -> bool:\n",
    "        return len(self._data) == self._capacity\n",
    "\n",
    "    def pop(self):\n",
    "        if self.is_empty():\n",
    "            raise Exception(\"Stack is empty\")\n",
    "        return self._data.pop()\n",
    "\n",
    "    def push(self, value):\n",
    "        if self.is_full():\n",
    "            raise Exception(\"Stack is full\")\n",
    "        self._data.append(value)\n",
    "\n",
    "    def top(self):\n",
    "        if self.is_empty():\n",
    "            raise Exception(\"Stack is empty\")\n",
    "        return self._data[-1]"
   ]
  },
  {
   "cell_type": "code",
   "execution_count": null,
   "metadata": {},
   "outputs": [],
   "source": [
    "stack1 = MyStack(capacity=5)"
   ]
  },
  {
   "cell_type": "code",
   "execution_count": null,
   "metadata": {},
   "outputs": [
    {
     "name": "stdout",
     "output_type": "stream",
     "text": [
      "False\n"
     ]
    }
   ],
   "source": [
    "stack1.push(1)\n",
    "stack1.push(2)\n",
    "print(stack1.is_full())"
   ]
  },
  {
   "cell_type": "code",
   "execution_count": null,
   "metadata": {},
   "outputs": [
    {
     "name": "stdout",
     "output_type": "stream",
     "text": [
      "2\n"
     ]
    }
   ],
   "source": [
    "print(stack1.pop())"
   ]
  },
  {
   "cell_type": "code",
   "execution_count": null,
   "metadata": {},
   "outputs": [
    {
     "name": "stdout",
     "output_type": "stream",
     "text": [
      "1\n"
     ]
    }
   ],
   "source": [
    "print(stack1.top())"
   ]
  },
  {
   "cell_type": "code",
   "execution_count": null,
   "metadata": {},
   "outputs": [
    {
     "name": "stdout",
     "output_type": "stream",
     "text": [
      "1\n"
     ]
    }
   ],
   "source": [
    "print(stack1.pop())"
   ]
  },
  {
   "cell_type": "code",
   "execution_count": null,
   "metadata": {},
   "outputs": [
    {
     "name": "stdout",
     "output_type": "stream",
     "text": [
      "True\n"
     ]
    }
   ],
   "source": [
    "print(stack1.is_empty())"
   ]
  },
  {
   "cell_type": "markdown",
   "metadata": {},
   "source": [
    "## 4. Thực hiện xây dựng class Queue với các chức năng (method) sau đây"
   ]
  },
  {
   "cell_type": "markdown",
   "metadata": {},
   "source": [
    "![MyQueue](queue.png)"
   ]
  },
  {
   "cell_type": "code",
   "execution_count": null,
   "metadata": {},
   "outputs": [],
   "source": [
    "class MyQueue:\n",
    "    def __init__(self, capacity: int) -> None:\n",
    "        self._data = []\n",
    "        self._capacity = capacity\n",
    "\n",
    "    def is_empty(self) -> bool:\n",
    "        return len(self._data) == 0\n",
    "\n",
    "    def is_full(self) -> bool:\n",
    "        return len(self._data) == self._capacity\n",
    "\n",
    "    def dequeue(self):\n",
    "        if self.is_empty():\n",
    "            raise Exception(\"Queue is empty\")\n",
    "        return self._data.pop(0)\n",
    "\n",
    "    def enqueue(self, value):\n",
    "        if self.is_full():\n",
    "            raise Exception(\"Queue is full\")\n",
    "        self._data.append(value)\n",
    "\n",
    "    def front(self):\n",
    "        if self.is_empty():\n",
    "            raise Exception(\"Queue is empty\")\n",
    "        return self._data[0]"
   ]
  },
  {
   "cell_type": "code",
   "execution_count": null,
   "metadata": {},
   "outputs": [],
   "source": [
    "queue1 = MyQueue(capacity=5)"
   ]
  },
  {
   "cell_type": "code",
   "execution_count": null,
   "metadata": {},
   "outputs": [
    {
     "name": "stdout",
     "output_type": "stream",
     "text": [
      "False\n"
     ]
    }
   ],
   "source": [
    "queue1.enqueue(1)\n",
    "queue1.enqueue(2)\n",
    "print(queue1.is_full())"
   ]
  },
  {
   "cell_type": "code",
   "execution_count": null,
   "metadata": {},
   "outputs": [
    {
     "name": "stdout",
     "output_type": "stream",
     "text": [
      "1\n"
     ]
    }
   ],
   "source": [
    "print(queue1.front())"
   ]
  },
  {
   "cell_type": "code",
   "execution_count": null,
   "metadata": {},
   "outputs": [
    {
     "name": "stdout",
     "output_type": "stream",
     "text": [
      "1\n"
     ]
    }
   ],
   "source": [
    "print(queue1.dequeue())"
   ]
  },
  {
   "cell_type": "code",
   "execution_count": null,
   "metadata": {},
   "outputs": [
    {
     "name": "stdout",
     "output_type": "stream",
     "text": [
      "2\n"
     ]
    }
   ],
   "source": [
    "print(queue1.front())"
   ]
  },
  {
   "cell_type": "code",
   "execution_count": null,
   "metadata": {},
   "outputs": [
    {
     "name": "stdout",
     "output_type": "stream",
     "text": [
      "2\n"
     ]
    }
   ],
   "source": [
    "print(queue1.dequeue())"
   ]
  },
  {
   "cell_type": "code",
   "execution_count": null,
   "metadata": {},
   "outputs": [
    {
     "name": "stdout",
     "output_type": "stream",
     "text": [
      "True\n"
     ]
    }
   ],
   "source": [
    "print(queue1.is_empty())"
   ]
  }
 ],
 "metadata": {
  "kernelspec": {
   "display_name": "Python 3",
   "language": "python",
   "name": "python3"
  },
  "language_info": {
   "codemirror_mode": {
    "name": "ipython",
    "version": 3
   },
   "file_extension": ".py",
   "mimetype": "text/x-python",
   "name": "python",
   "nbconvert_exporter": "python",
   "pygments_lexer": "ipython3",
   "version": "3.8.10"
  }
 },
 "nbformat": 4,
 "nbformat_minor": 2
}
