{
 "cells": [
  {
   "cell_type": "markdown",
   "metadata": {},
   "source": [
    "# Data Structure (June 10th, 2024)"
   ]
  },
  {
   "cell_type": "markdown",
   "metadata": {},
   "source": [
    "## 1. Cho một list các số nguyên num_list và một sliding window có kích thước size k di chuyển từ trái sang phải. Mỗi lần dịch chuyển 1 vị trí sang phải có thể nhìn thấy đươc k số trong num_list và tìm số lớn nhất trong k số này sau mỗi lần trượt k phải lớn hơn hoặc bằng 1"
   ]
  },
  {
   "cell_type": "code",
   "execution_count": 1,
   "metadata": {},
   "outputs": [],
   "source": [
    "# Assưme that the input is a list of integers and an integer k\n",
    "def max_pooling_1D(arr: list, k: int = 3) -> list:\n",
    "    n = len(arr)\n",
    "    if n == 0:\n",
    "        return []\n",
    "    if k == 1:\n",
    "        return arr\n",
    "    if k == n:\n",
    "        return [max(arr)]\n",
    "    if k > n:\n",
    "        return []\n",
    "    result = []\n",
    "    for i in range(n-k+1):\n",
    "        result.append(max(arr[i:i+k]))\n",
    "    return result"
   ]
  },
  {
   "cell_type": "code",
   "execution_count": 2,
   "metadata": {},
   "outputs": [
    {
     "data": {
      "text/plain": [
       "[5, 5, 5, 5, 10, 12, 33, 33]"
      ]
     },
     "execution_count": 2,
     "metadata": {},
     "output_type": "execute_result"
    }
   ],
   "source": [
    "num_list = [3, 4, 5, 1, -44, 5, 10, 12, 33, 1]\n",
    "k = 3\n",
    "max_pooling_1D(num_list, k)  # [5, 5, 5, 10, 12, 33, 33]"
   ]
  },
  {
   "cell_type": "markdown",
   "metadata": {},
   "source": [
    "## 2. Viết function trả về một dictionary đếm số lượng chữ xuất hiện trong một từ, với key là chữ cái và value là số lần xuất hiện"
   ]
  },
  {
   "cell_type": "code",
   "execution_count": 3,
   "metadata": {},
   "outputs": [],
   "source": [
    "def count_chars(s: str) -> dict:\n",
    "    return {c: s.count(c) for c in s}"
   ]
  },
  {
   "cell_type": "code",
   "execution_count": 4,
   "metadata": {},
   "outputs": [
    {
     "data": {
      "text/plain": [
       "{'H': 1, 'a': 1, 'p': 2, 'i': 1, 'n': 1, 'e': 1, 's': 2}"
      ]
     },
     "execution_count": 4,
     "metadata": {},
     "output_type": "execute_result"
    }
   ],
   "source": [
    "string = 'Happiness'\n",
    "count_chars(string)"
   ]
  },
  {
   "cell_type": "code",
   "execution_count": 5,
   "metadata": {},
   "outputs": [
    {
     "data": {
      "text/plain": [
       "{'s': 2, 'm': 1, 'i': 1, 'l': 1, 'e': 1}"
      ]
     },
     "execution_count": 5,
     "metadata": {},
     "output_type": "execute_result"
    }
   ],
   "source": [
    "string = 'smiles'\n",
    "count_chars(string)"
   ]
  },
  {
   "cell_type": "markdown",
   "metadata": {},
   "source": [
    "## 3. Viết function đọc các câu trong một file txt, đếm số lượng các từ xuất hiện và trả về một dictionary với key là từ và value là số lần từ đó xuất hiện."
   ]
  },
  {
   "cell_type": "code",
   "execution_count": 6,
   "metadata": {},
   "outputs": [],
   "source": [
    "def word_count(file_path: str) -> dict:\n",
    "    with open(file_path, 'r') as file:\n",
    "        text = file.read().lower()\n",
    "    return {word: text.count(word) for word in text.split()}"
   ]
  },
  {
   "cell_type": "code",
   "execution_count": 7,
   "metadata": {},
   "outputs": [
    {
     "name": "stderr",
     "output_type": "stream",
     "text": [
      "Downloading...\n",
      "From: https://drive.google.com/uc?id=1IBScGdW2xlNsc9v5zSAya548kNgiOrko\n",
      "To: d:\\E-Learning\\AIO_2024\\AIO-2024-Exercise\\Week 2\\P1_data.txt\n",
      "\n",
      "  0%|          | 0.00/747 [00:00<?, ?B/s]\n",
      "100%|██████████| 747/747 [00:00<?, ?B/s] \n"
     ]
    },
    {
     "data": {
      "text/plain": [
       "{'he': 14,\n",
       " 'who': 4,\n",
       " 'conquers': 1,\n",
       " 'himself': 1,\n",
       " 'is': 6,\n",
       " 'the': 10,\n",
       " 'mightiest': 1,\n",
       " 'warrior': 1,\n",
       " 'try': 2,\n",
       " 'not': 2,\n",
       " 'to': 4,\n",
       " 'become': 2,\n",
       " 'a': 42,\n",
       " 'man': 6,\n",
       " 'of': 5,\n",
       " 'success': 5,\n",
       " 'but': 1,\n",
       " 'rather': 1,\n",
       " 'value': 1,\n",
       " 'one': 4,\n",
       " 'with': 4,\n",
       " 'courage': 1,\n",
       " 'makes': 1,\n",
       " 'majority': 1,\n",
       " 'secret': 1,\n",
       " 'in': 11,\n",
       " 'life': 2,\n",
       " 'for': 3,\n",
       " 'be': 3,\n",
       " 'ready': 1,\n",
       " 'his': 2,\n",
       " 'opportunity': 1,\n",
       " 'when': 2,\n",
       " 'it': 10,\n",
       " 'comes': 2,\n",
       " 'successful': 2,\n",
       " 'will': 2,\n",
       " 'profit': 1,\n",
       " 'from': 1,\n",
       " 'mistakes': 1,\n",
       " 'and': 1,\n",
       " 'again': 1,\n",
       " 'different': 1,\n",
       " 'way': 1,\n",
       " 'can': 4,\n",
       " 'lay': 1,\n",
       " 'firm': 1,\n",
       " 'foundation': 1,\n",
       " 'bricks': 1,\n",
       " 'others': 1,\n",
       " 'have': 1,\n",
       " 'thrown': 1,\n",
       " 'at': 4,\n",
       " 'him': 2,\n",
       " 'usually': 1,\n",
       " 'those': 1,\n",
       " 'are': 1,\n",
       " 'too': 1,\n",
       " 'busy': 1,\n",
       " 'looking': 1,\n",
       " 'we': 3,\n",
       " 'cannot': 1,\n",
       " 'solve': 1,\n",
       " 'problems': 1,\n",
       " 'kind': 1,\n",
       " 'thinking': 1,\n",
       " 'employed': 1,\n",
       " 'came': 1,\n",
       " 'up': 1,\n",
       " 'them': 1,\n",
       " 'just': 2,\n",
       " 'small': 1,\n",
       " 'positive': 1,\n",
       " 'thought': 1,\n",
       " 'morning': 1,\n",
       " 'change': 1,\n",
       " 'your': 1,\n",
       " 'whole': 1,\n",
       " 'day': 1,\n",
       " 'you': 4,\n",
       " 'get': 2,\n",
       " 'everything': 1,\n",
       " 'want': 2,\n",
       " 'if': 4,\n",
       " 'help': 1,\n",
       " 'enough': 1,\n",
       " 'other': 2,\n",
       " 'people': 1,\n",
       " 'what': 1,\n",
       " 'they': 1}"
      ]
     },
     "execution_count": 7,
     "metadata": {},
     "output_type": "execute_result"
    }
   ],
   "source": [
    "! gdown https://drive.google.com/uc?id=1IBScGdW2xlNsc9v5zSAya548kNgiOrko\n",
    "file_path = 'P1_data.txt'\n",
    "word_count(file_path)"
   ]
  },
  {
   "cell_type": "markdown",
   "metadata": {},
   "source": [
    "## 4. Viết chương trình tính khoảng cách chỉnh sửa tối thiểu Levenshtein."
   ]
  },
  {
   "cell_type": "code",
   "execution_count": 8,
   "metadata": {},
   "outputs": [],
   "source": [
    "import pandas as pd"
   ]
  },
  {
   "cell_type": "code",
   "execution_count": 9,
   "metadata": {},
   "outputs": [],
   "source": [
    "def lahvenshtein_distance(s1: str, s2: str, return_dp=False, display_df=False):\n",
    "    m, n = len(s1), len(s2)\n",
    "    dp = [[0] * (n + 1) for _ in range(m + 1)]\n",
    "    for i in range(m + 1):\n",
    "        dp[i][0] = i\n",
    "    for j in range(n + 1):\n",
    "        dp[0][j] = j\n",
    "\n",
    "    for i in range(1, m + 1):\n",
    "        for j in range(1, n + 1):\n",
    "            # If the characters are the same, no operation is needed, the cost is 0\n",
    "            if s1[i - 1] == s2[j - 1]:\n",
    "                dp[i][j] = dp[i - 1][j - 1]\n",
    "            else:\n",
    "                dp[i][j] = min(dp[i - 1][j],\n",
    "                               dp[i][j - 1],\n",
    "                               dp[i - 1][j - 1]) + 1\n",
    "    if display_df:\n",
    "        df = pd.DataFrame(lahvenshtein_distance(s1, s2, return_dp=True))\n",
    "        df.rename(columns={i: char for i, char in enumerate(\n",
    "            ['#', *s2])}, inplace=True)\n",
    "        df.rename(index={i: char for i, char in enumerate(\n",
    "            ['#', *s1])}, inplace=True)\n",
    "        display(df)\n",
    "    if return_dp:\n",
    "        return dp\n",
    "    return dp[m][n]\n",
    "\n",
    "\n",
    "def back_track_lahvenshtein_distance(dp: list, s1: str, s2: str, current_string=None) -> None:\n",
    "    m, n = len(s1), len(s2)\n",
    "    # Initialize the current string for the first call\n",
    "    if current_string is None:\n",
    "        current_string = s2\n",
    "\n",
    "    # Base condition to stop the recursion\n",
    "    if s1 == s2:\n",
    "        return\n",
    "\n",
    "    # Backtrack to the original string\n",
    "    # In case of deletion\n",
    "    if dp[m][n] == dp[m - 1][n] + 1:\n",
    "        before = current_string[:m-1] + \\\n",
    "            s1[m - 1].upper() + current_string[m-1:]\n",
    "        after = current_string\n",
    "        back_track_lahvenshtein_distance(dp, s1[:-1], s2, before.lower())\n",
    "        print(f\"Delete '{s1[m - 1]}': '{before}' -> '{after}'\")\n",
    "    # In case of insertion\n",
    "    elif dp[m][n] == dp[m][n - 1] + 1:\n",
    "        before = current_string[:m] + current_string[m+1:]\n",
    "        after = current_string[:m] + \\\n",
    "            current_string[m].upper() + current_string[m+1:]\n",
    "        back_track_lahvenshtein_distance(dp, s1, s2[:-1], before.lower())\n",
    "        print(\n",
    "            f\"Insert '{s2[n - 1]}': '{before}' -> '{after}'\")\n",
    "    # In case of substitution\n",
    "    elif dp[m][n] == dp[m - 1][n - 1] + 1:\n",
    "        before = current_string[:m-1] + \\\n",
    "            s1[m - 1].upper() + current_string[m:]\n",
    "        after = current_string[:m-1] + \\\n",
    "            s2[n - 1].upper() + current_string[m:]\n",
    "        back_track_lahvenshtein_distance(dp, s1[:-1], s2[:-1], before.lower())\n",
    "        print(\n",
    "            f\"Replace '{s1[m - 1]}' with '{s2[n - 1]}': '{before}' -> '{after}\")\n",
    "    # In case of no operation\n",
    "    elif dp[m][n] == dp[m - 1][n - 1]:\n",
    "        back_track_lahvenshtein_distance(dp, s1[:-1], s2[:-1], current_string)"
   ]
  },
  {
   "cell_type": "code",
   "execution_count": 10,
   "metadata": {},
   "outputs": [
    {
     "name": "stdout",
     "output_type": "stream",
     "text": [
      "3\n"
     ]
    }
   ],
   "source": [
    "s1 = 'kitten'\n",
    "s2 = 'sitting'\n",
    "print(lahvenshtein_distance(s1, s2))"
   ]
  },
  {
   "cell_type": "code",
   "execution_count": 11,
   "metadata": {},
   "outputs": [
    {
     "data": {
      "text/html": [
       "<div>\n",
       "<style scoped>\n",
       "    .dataframe tbody tr th:only-of-type {\n",
       "        vertical-align: middle;\n",
       "    }\n",
       "\n",
       "    .dataframe tbody tr th {\n",
       "        vertical-align: top;\n",
       "    }\n",
       "\n",
       "    .dataframe thead th {\n",
       "        text-align: right;\n",
       "    }\n",
       "</style>\n",
       "<table border=\"1\" class=\"dataframe\">\n",
       "  <thead>\n",
       "    <tr style=\"text-align: right;\">\n",
       "      <th></th>\n",
       "      <th>#</th>\n",
       "      <th>s</th>\n",
       "      <th>i</th>\n",
       "      <th>t</th>\n",
       "      <th>t</th>\n",
       "      <th>i</th>\n",
       "      <th>n</th>\n",
       "      <th>g</th>\n",
       "    </tr>\n",
       "  </thead>\n",
       "  <tbody>\n",
       "    <tr>\n",
       "      <th>#</th>\n",
       "      <td>0</td>\n",
       "      <td>1</td>\n",
       "      <td>2</td>\n",
       "      <td>3</td>\n",
       "      <td>4</td>\n",
       "      <td>5</td>\n",
       "      <td>6</td>\n",
       "      <td>7</td>\n",
       "    </tr>\n",
       "    <tr>\n",
       "      <th>k</th>\n",
       "      <td>1</td>\n",
       "      <td>1</td>\n",
       "      <td>2</td>\n",
       "      <td>3</td>\n",
       "      <td>4</td>\n",
       "      <td>5</td>\n",
       "      <td>6</td>\n",
       "      <td>7</td>\n",
       "    </tr>\n",
       "    <tr>\n",
       "      <th>i</th>\n",
       "      <td>2</td>\n",
       "      <td>2</td>\n",
       "      <td>1</td>\n",
       "      <td>2</td>\n",
       "      <td>3</td>\n",
       "      <td>4</td>\n",
       "      <td>5</td>\n",
       "      <td>6</td>\n",
       "    </tr>\n",
       "    <tr>\n",
       "      <th>t</th>\n",
       "      <td>3</td>\n",
       "      <td>3</td>\n",
       "      <td>2</td>\n",
       "      <td>1</td>\n",
       "      <td>2</td>\n",
       "      <td>3</td>\n",
       "      <td>4</td>\n",
       "      <td>5</td>\n",
       "    </tr>\n",
       "    <tr>\n",
       "      <th>t</th>\n",
       "      <td>4</td>\n",
       "      <td>4</td>\n",
       "      <td>3</td>\n",
       "      <td>2</td>\n",
       "      <td>1</td>\n",
       "      <td>2</td>\n",
       "      <td>3</td>\n",
       "      <td>4</td>\n",
       "    </tr>\n",
       "    <tr>\n",
       "      <th>e</th>\n",
       "      <td>5</td>\n",
       "      <td>5</td>\n",
       "      <td>4</td>\n",
       "      <td>3</td>\n",
       "      <td>2</td>\n",
       "      <td>2</td>\n",
       "      <td>3</td>\n",
       "      <td>4</td>\n",
       "    </tr>\n",
       "    <tr>\n",
       "      <th>n</th>\n",
       "      <td>6</td>\n",
       "      <td>6</td>\n",
       "      <td>5</td>\n",
       "      <td>4</td>\n",
       "      <td>3</td>\n",
       "      <td>3</td>\n",
       "      <td>2</td>\n",
       "      <td>3</td>\n",
       "    </tr>\n",
       "  </tbody>\n",
       "</table>\n",
       "</div>"
      ],
      "text/plain": [
       "   #  s  i  t  t  i  n  g\n",
       "#  0  1  2  3  4  5  6  7\n",
       "k  1  1  2  3  4  5  6  7\n",
       "i  2  2  1  2  3  4  5  6\n",
       "t  3  3  2  1  2  3  4  5\n",
       "t  4  4  3  2  1  2  3  4\n",
       "e  5  5  4  3  2  2  3  4\n",
       "n  6  6  5  4  3  3  2  3"
      ]
     },
     "metadata": {},
     "output_type": "display_data"
    },
    {
     "name": "stdout",
     "output_type": "stream",
     "text": [
      "3\n"
     ]
    }
   ],
   "source": [
    "print(lahvenshtein_distance(s1, s2, display_df=True))"
   ]
  },
  {
   "cell_type": "code",
   "execution_count": 12,
   "metadata": {},
   "outputs": [
    {
     "name": "stdout",
     "output_type": "stream",
     "text": [
      "Replace 'k' with 's': 'Kitten' -> 'Sitten\n",
      "Replace 'e' with 'i': 'sittEn' -> 'sittIn\n",
      "Insert 'g': 'sittin' -> 'sittinG'\n"
     ]
    }
   ],
   "source": [
    "back_track_lahvenshtein_distance(\n",
    "    lahvenshtein_distance(s1, s2, return_dp=True), s1, s2)  # type: ignore"
   ]
  },
  {
   "cell_type": "code",
   "execution_count": 13,
   "metadata": {},
   "outputs": [
    {
     "data": {
      "text/plain": [
       "3"
      ]
     },
     "execution_count": 13,
     "metadata": {},
     "output_type": "execute_result"
    }
   ],
   "source": [
    "lahvenshtein_distance('hola', 'hello')"
   ]
  }
 ],
 "metadata": {
  "kernelspec": {
   "display_name": "Python 3",
   "language": "python",
   "name": "python3"
  },
  "language_info": {
   "codemirror_mode": {
    "name": "ipython",
    "version": 3
   },
   "file_extension": ".py",
   "mimetype": "text/x-python",
   "name": "python",
   "nbconvert_exporter": "python",
   "pygments_lexer": "ipython3",
   "version": "3.8.10"
  }
 },
 "nbformat": 4,
 "nbformat_minor": 2
}
