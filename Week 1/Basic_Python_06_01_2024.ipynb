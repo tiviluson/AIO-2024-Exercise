{
 "cells": [
  {
   "cell_type": "markdown",
   "metadata": {
    "vscode": {
     "languageId": "plaintext"
    }
   },
   "source": [
    "# Basic Python (June 1st, 2024)"
   ]
  },
  {
   "cell_type": "markdown",
   "metadata": {},
   "source": [
    "## 1. Viết function thực hiện đánh giá classification model bằng F1-Score."
   ]
  },
  {
   "cell_type": "code",
   "execution_count": 37,
   "metadata": {},
   "outputs": [],
   "source": [
    "def calculate_metrics(tp, fp, fn):\n",
    "    components = {'tp': tp, 'fp': fp, 'fn': fn}\n",
    "    invalid_input = False\n",
    "\n",
    "    # Check if inputs are positive integers\n",
    "    for component, value in components.items():\n",
    "        # Check integers\n",
    "        if type(value) != type(1):\n",
    "            print(f'{component} must be int')\n",
    "            invalid_input = True\n",
    "        # Check positivity (only required if ALL inputs are integers)\n",
    "        if (not invalid_input) and value <= 0:\n",
    "            print('tp and fp and fn must be greater than zero')\n",
    "            invalid_input = True\n",
    "\n",
    "    if not invalid_input:\n",
    "        precision = tp / (tp + fp)\n",
    "        recall = tp / (tp + fn)\n",
    "        print(f'precision is {precision}')\n",
    "        print(f'recall is {recall}')\n",
    "        print(f'f1-score is {2 * precision*recall / (precision + recall)}')"
   ]
  },
  {
   "cell_type": "code",
   "execution_count": 29,
   "metadata": {},
   "outputs": [
    {
     "name": "stdout",
     "output_type": "stream",
     "text": [
      "precision is 0.4\n",
      "recall is 0.3333333333333333\n",
      "f1-score is 0.3636363636363636\n"
     ]
    }
   ],
   "source": [
    "calculate_metrics(tp=2, fp=3, fn=4)"
   ]
  },
  {
   "cell_type": "code",
   "execution_count": 30,
   "metadata": {},
   "outputs": [
    {
     "name": "stdout",
     "output_type": "stream",
     "text": [
      "tp must be int\n"
     ]
    }
   ],
   "source": [
    "calculate_metrics(tp='a', fp=3, fn=4)"
   ]
  },
  {
   "cell_type": "code",
   "execution_count": 31,
   "metadata": {},
   "outputs": [
    {
     "name": "stdout",
     "output_type": "stream",
     "text": [
      "fn must be int\n"
     ]
    }
   ],
   "source": [
    "calculate_metrics(tp=2, fp=3, fn='a')"
   ]
  },
  {
   "cell_type": "code",
   "execution_count": 32,
   "metadata": {},
   "outputs": [
    {
     "name": "stdout",
     "output_type": "stream",
     "text": [
      "tp and fp and fn must be greater than zero\n"
     ]
    }
   ],
   "source": [
    "calculate_metrics(tp=2, fp=3, fn=0)"
   ]
  },
  {
   "cell_type": "code",
   "execution_count": 33,
   "metadata": {},
   "outputs": [
    {
     "name": "stdout",
     "output_type": "stream",
     "text": [
      "tp must be int\n"
     ]
    }
   ],
   "source": [
    "calculate_metrics(tp=2.1, fp=3, fn=0)"
   ]
  },
  {
   "cell_type": "markdown",
   "metadata": {},
   "source": [
    "## 2. Viết function mô phỏng theo 3 activation function."
   ]
  },
  {
   "cell_type": "code",
   "execution_count": 35,
   "metadata": {},
   "outputs": [],
   "source": [
    "# Given\n",
    "def is_number(n):\n",
    "    try:\n",
    "        float(n)  # Type - casting the string to ‘float ‘.\n",
    "    # If string is not a valid ‘float ‘,\n",
    "    # it ’ll raise ‘ValueError ‘ exception\n",
    "    except ValueError:\n",
    "        return False\n",
    "    return True"
   ]
  },
  {
   "cell_type": "code",
   "execution_count": 44,
   "metadata": {},
   "outputs": [],
   "source": [
    "from math import e as math_e\n",
    "\n",
    "\n",
    "def calculate_activation():\n",
    "    def sigmoid(x):\n",
    "        return 1/(1+math_e**x)\n",
    "\n",
    "    def relu(x):\n",
    "        return max(x, 0)\n",
    "\n",
    "    def elu(x, alpha=0.01):\n",
    "        return alpha*(math_e**(x) - 1) if x <= 0 else x\n",
    "\n",
    "    x = input('Input x = ')\n",
    "    if not is_number(x):\n",
    "        print('x must be a numebr')\n",
    "    else:\n",
    "        x = float(x)\n",
    "        activation_functions = {'sigmoid': sigmoid, 'relu': relu, 'elu': elu}\n",
    "        input_function = input(\n",
    "            'Input activation Function ( sigmoid | relu |elu ): ')\n",
    "        if input_function in activation_functions.keys():\n",
    "            print(\n",
    "                f'{input_function}: f({x}) = {activation_functions[input_function](x)}')\n",
    "        else:\n",
    "            print(f'{input_function} is not supported')"
   ]
  },
  {
   "cell_type": "code",
   "execution_count": 41,
   "metadata": {},
   "outputs": [
    {
     "name": "stdout",
     "output_type": "stream",
     "text": [
      "sigmoid: f(1.5) = 0.18242552380635635\n"
     ]
    }
   ],
   "source": [
    "calculate_activation()"
   ]
  },
  {
   "cell_type": "code",
   "execution_count": 42,
   "metadata": {},
   "outputs": [
    {
     "name": "stdout",
     "output_type": "stream",
     "text": [
      "x must be a numebr\n"
     ]
    }
   ],
   "source": [
    "calculate_activation()"
   ]
  },
  {
   "cell_type": "code",
   "execution_count": 43,
   "metadata": {},
   "outputs": [
    {
     "name": "stdout",
     "output_type": "stream",
     "text": [
      "belu is not supported\n"
     ]
    }
   ],
   "source": [
    "calculate_activation()"
   ]
  },
  {
   "cell_type": "markdown",
   "metadata": {},
   "source": [
    "## 3. Viết function lựa chọn regression loss function để tính loss:"
   ]
  },
  {
   "cell_type": "code",
   "execution_count": 4,
   "metadata": {},
   "outputs": [],
   "source": [
    "from random import uniform as random_uniform\n",
    "from math import sqrt as math_sqrt\n",
    "\n",
    "\n",
    "def calculate_loss():\n",
    "    n_samples = input(\n",
    "        'Input number of samples ( integer number ) which are generated : ')\n",
    "\n",
    "    if not n_samples.isnumeric():\n",
    "        print('number of samples must be an integer number')\n",
    "        return\n",
    "\n",
    "    # Assume a valid name for a loss function\n",
    "    loss_function = input('Input loss name : ')\n",
    "\n",
    "    n_samples = int(n_samples)\n",
    "    accumulative_loss = 0\n",
    "    # Generate random pred and target y for each sample and calculate loss respectively\n",
    "    for i in range(n_samples):\n",
    "        pred = random_uniform(0, 10)\n",
    "        target = random_uniform(0, 10)\n",
    "        loss_per_sample = abs(\n",
    "            target - pred) if loss_function == 'MAE' else (target - pred)**2\n",
    "        print(\n",
    "            f'loss name: {loss_function}, sample: {i}, pred: {pred}, target : {target}, loss: {loss_per_sample}')\n",
    "        accumulative_loss += loss_per_sample\n",
    "\n",
    "    final_loss = 1/n_samples * accumulative_loss\n",
    "\n",
    "    if loss_function == 'RMSE':\n",
    "        final_loss = math_sqrt(final_loss)\n",
    "\n",
    "    print(f'final {loss_function}: {final_loss}')"
   ]
  },
  {
   "cell_type": "code",
   "execution_count": 5,
   "metadata": {},
   "outputs": [
    {
     "name": "stdout",
     "output_type": "stream",
     "text": [
      "loss name: RMSE, sample: 0, pred: 8.313046335405666, target : 6.683972644694923, loss: 2.653881089765921\n",
      "loss name: RMSE, sample: 1, pred: 4.599113617249957, target : 9.99319916876368, loss: 29.096158937049097\n",
      "loss name: RMSE, sample: 2, pred: 9.541108752152693, target : 8.673120740611985, loss: 0.7534031881783929\n",
      "loss name: RMSE, sample: 3, pred: 8.427016659079962, target : 1.7277273914155067, loss: 44.88047669184415\n",
      "loss name: RMSE, sample: 4, pred: 5.210442369866558, target : 4.665246637946085, loss: 0.2972383861043005\n",
      "final RMSE: 3.941602676398063\n"
     ]
    }
   ],
   "source": [
    "calculate_loss()"
   ]
  },
  {
   "cell_type": "code",
   "execution_count": 6,
   "metadata": {},
   "outputs": [
    {
     "name": "stdout",
     "output_type": "stream",
     "text": [
      "number of samples must be an integer number\n"
     ]
    }
   ],
   "source": [
    "calculate_loss()"
   ]
  },
  {
   "cell_type": "markdown",
   "metadata": {},
   "source": [
    "## 4. Viết 4 functions để ước lượng các hàm số sau."
   ]
  },
  {
   "cell_type": "code",
   "execution_count": 24,
   "metadata": {},
   "outputs": [],
   "source": [
    "from functools import lru_cache\n",
    "\n",
    "\n",
    "@lru_cache\n",
    "def factorial(n):\n",
    "    return n * factorial(n-1) if n > 1 else 1\n",
    "\n",
    "\n",
    "def approx_sin(x, n):\n",
    "    res = 0\n",
    "    for i in range(n):\n",
    "        res += (-1)**i * (x**(2*i+1))/factorial(2*i+1)\n",
    "    return res\n",
    "\n",
    "\n",
    "def approx_cos(x, n):\n",
    "    res = 0\n",
    "    for i in range(n):\n",
    "        res += (-1)**i * (x**(2*i))/factorial(2*i)\n",
    "    return res\n",
    "\n",
    "\n",
    "def approx_sinh(x, n):\n",
    "    res = 0\n",
    "    for i in range(n):\n",
    "        res += (x**(2*i+1))/factorial(2*i+1)\n",
    "    return res\n",
    "\n",
    "\n",
    "def approx_cosh(x, n):\n",
    "    res = 0\n",
    "    for i in range(n):\n",
    "        res += (x**(2*i))/factorial(2*i)\n",
    "    return res"
   ]
  },
  {
   "cell_type": "code",
   "execution_count": 19,
   "metadata": {},
   "outputs": [
    {
     "data": {
      "text/plain": [
       "0.001592652393160744"
      ]
     },
     "execution_count": 19,
     "metadata": {},
     "output_type": "execute_result"
    }
   ],
   "source": [
    "approx_sin(x=3.14, n=10)"
   ]
  },
  {
   "cell_type": "code",
   "execution_count": 20,
   "metadata": {},
   "outputs": [
    {
     "data": {
      "text/plain": [
       "-0.9999987352210833"
      ]
     },
     "execution_count": 20,
     "metadata": {},
     "output_type": "execute_result"
    }
   ],
   "source": [
    "approx_cos(x=3.14, n=10)"
   ]
  },
  {
   "cell_type": "code",
   "execution_count": 21,
   "metadata": {},
   "outputs": [
    {
     "data": {
      "text/plain": [
       "11.530292029865986"
      ]
     },
     "execution_count": 21,
     "metadata": {},
     "output_type": "execute_result"
    }
   ],
   "source": [
    "approx_sinh(x=3.14, n=10)"
   ]
  },
  {
   "cell_type": "code",
   "execution_count": 25,
   "metadata": {},
   "outputs": [
    {
     "data": {
      "text/plain": [
       "11.573574824666185"
      ]
     },
     "execution_count": 25,
     "metadata": {},
     "output_type": "execute_result"
    }
   ],
   "source": [
    "approx_cosh(x=3.14, n=10)"
   ]
  },
  {
   "cell_type": "markdown",
   "metadata": {},
   "source": [
    "## 5. Viết function thực hiện Mean Difference of nth Root Error"
   ]
  },
  {
   "cell_type": "code",
   "execution_count": 1,
   "metadata": {},
   "outputs": [],
   "source": [
    "def md_nre_single_sample(y, y_hat, n, p):\n",
    "    return abs(y**(1/n) - y_hat**(1/n)) ** p"
   ]
  },
  {
   "cell_type": "code",
   "execution_count": 2,
   "metadata": {},
   "outputs": [
    {
     "data": {
      "text/plain": [
       "0.025031328369998107"
      ]
     },
     "execution_count": 2,
     "metadata": {},
     "output_type": "execute_result"
    }
   ],
   "source": [
    "md_nre_single_sample(y=100, y_hat=99.5, n=2, p=1)"
   ]
  },
  {
   "cell_type": "code",
   "execution_count": 3,
   "metadata": {},
   "outputs": [
    {
     "data": {
      "text/plain": [
       "0.03544417213033135"
      ]
     },
     "execution_count": 3,
     "metadata": {},
     "output_type": "execute_result"
    }
   ],
   "source": [
    "md_nre_single_sample(y=50, y_hat=49.5, n=2, p=1)"
   ]
  },
  {
   "cell_type": "code",
   "execution_count": 4,
   "metadata": {},
   "outputs": [
    {
     "data": {
      "text/plain": [
       "0.05625552183565574"
      ]
     },
     "execution_count": 4,
     "metadata": {},
     "output_type": "execute_result"
    }
   ],
   "source": [
    "md_nre_single_sample(y=20, y_hat=19.5, n=2, p=1)"
   ]
  },
  {
   "cell_type": "code",
   "execution_count": 5,
   "metadata": {},
   "outputs": [
    {
     "data": {
      "text/plain": [
       "0.45836890322464546"
      ]
     },
     "execution_count": 5,
     "metadata": {},
     "output_type": "execute_result"
    }
   ],
   "source": [
    "md_nre_single_sample(y=0.6, y_hat=0.1, n=2, p=1)"
   ]
  }
 ],
 "metadata": {
  "kernelspec": {
   "display_name": "Python 3",
   "language": "python",
   "name": "python3"
  },
  "language_info": {
   "codemirror_mode": {
    "name": "ipython",
    "version": 3
   },
   "file_extension": ".py",
   "mimetype": "text/x-python",
   "name": "python",
   "nbconvert_exporter": "python",
   "pygments_lexer": "ipython3",
   "version": "3.8.5"
  }
 },
 "nbformat": 4,
 "nbformat_minor": 2
}
